{
 "cells": [
  {
   "cell_type": "markdown",
   "metadata": {},
   "source": [
    "<img src=\"http://imgur.com/1ZcRyrc.png\" style=\"float: left; margin: 20px; height: 55px\">\n",
    "\n",
    "# Looping and List Comprehension\n",
    "\n",
    "_Authors: Riley Dallas (ATX)_\n",
    "\n",
    "---"
   ]
  },
  {
   "cell_type": "markdown",
   "metadata": {},
   "source": [
    "## Introduction: `for` and `while` loops\n",
    "---\n",
    "The `for` statement is used to **iterate** over the elements of a sequence. It's \n",
    "used when you have a piece of code which you want to repeat n number of times. \n",
    "You can use any enumerable object (such as strings, arrays, lists, tuples, dict and so on) \n",
    "in a `for` loop.\n",
    "\n",
    "The `while` loop will run a block of code as long as a condition is met. \n",
    "A `while` loop consists of a block of code and a boolean condition. The condition \n",
    "is evaluated, and if the condition is `True`, the code within the\n",
    "block is executed. This repeats ad infinitum until the condition becomes `False`. \n",
    "\n",
    "[for and while loops](http://www.pythonforbeginners.com/control-flow-2/python-for-and-while-loops)\n",
    "[for and while loops](http://www.cyberciti.biz/faq/python-for-loop-examples-statements/)"
   ]
  },
  {
   "cell_type": "markdown",
   "metadata": {},
   "source": [
    "## `while` Loops\n",
    "---\n",
    "```python\n",
    "truth_test = True\n",
    "while truth_test:\n",
    "    print('hello')\n",
    "```\n",
    "This is an example of a `while` loop. `while` loops continue to run until the expression after `while` evaluates to `False`. In the example above, the loop will continue to run ad infinitum because we never change `truth_test` be `False` in our block."
   ]
  },
  {
   "cell_type": "code",
   "execution_count": null,
   "metadata": {},
   "outputs": [],
   "source": [
    "truth_test = True\n",
    "while truth_test:\n",
    "    print('hello')"
   ]
  },
  {
   "cell_type": "markdown",
   "metadata": {},
   "source": [
    "## Practice\n",
    "---\n",
    "In the cell below, let's do the following:\n",
    "1. Create a `counter` variable and set it to 0\n",
    "2. Create a `while` loop that runs until `counter` is equal to 10. For each iteration:\n",
    "  1. Print the value of `counter`\n",
    "  2. Increment `counter`"
   ]
  },
  {
   "cell_type": "code",
   "execution_count": 2,
   "metadata": {},
   "outputs": [
    {
     "name": "stdout",
     "output_type": "stream",
     "text": [
      "0\n",
      "1\n",
      "2\n",
      "3\n",
      "4\n",
      "5\n",
      "6\n",
      "7\n",
      "8\n",
      "9\n"
     ]
    }
   ],
   "source": [
    "counter = 0\n",
    "while counter <10:\n",
    "    print(counter)\n",
    "    counter += 1"
   ]
  },
  {
   "cell_type": "markdown",
   "metadata": {},
   "source": [
    "Remember, a while loop runs until the expression is `False`. The problem is, sometimes they don't stop. To avoid this, here are some rules to follow:\n",
    "\n",
    "1. Make sure that you use `while` loops sparingly. Usually a `for` loop is better.\n",
    "2. Review your `while` statements and make sure that the boolean test will become `False` at some point.\n",
    "3. When in doubt, print out your test variable at the top and bottom of the `while` loop.\n"
   ]
  },
  {
   "cell_type": "markdown",
   "metadata": {},
   "source": [
    "## `for` Loops\n",
    "---\n",
    "```python\n",
    "for count in [1, 2, 3]: \n",
    "    print(count) \n",
    "    print('Yes' * count) \n",
    "    print('') # Creates a line break after each iteration\n",
    "```\n",
    "\n",
    "This is a **for** loop. It has the following parts:\n",
    "1. The word `for`\n",
    "2. A variable that you create (`counter`), which be be used for each item in the sequence\n",
    "3. The word `in`\n",
    "4. The sequence to iterate over\n",
    "\n",
    "Copy and paste the loop above to see what it does."
   ]
  },
  {
   "cell_type": "code",
   "execution_count": 3,
   "metadata": {},
   "outputs": [
    {
     "name": "stdout",
     "output_type": "stream",
     "text": [
      "1\n",
      "Yes\n",
      "\n",
      "2\n",
      "YesYes\n",
      "\n",
      "3\n",
      "YesYesYes\n",
      "\n"
     ]
    }
   ],
   "source": [
    "for count in [1, 2, 3]: \n",
    "    print(count) \n",
    "    print('Yes' * count) \n",
    "    print('') "
   ]
  },
  {
   "cell_type": "code",
   "execution_count": 6,
   "metadata": {},
   "outputs": [
    {
     "name": "stdout",
     "output_type": "stream",
     "text": [
      "Yes\n",
      "\n",
      "Yes\n",
      "\n",
      "Yes\n",
      "\n",
      "Yes\n",
      "\n",
      "Yes\n",
      "\n",
      "Yes\n",
      "\n"
     ]
    }
   ],
   "source": [
    "for count in (1, 2, 3, 15, 16, 20): \n",
    "    #print(count) \n",
    "    print('Yes')# * count) \n",
    "    print('') "
   ]
  },
  {
   "cell_type": "markdown",
   "metadata": {},
   "source": [
    "## Repeat `for` loops\n",
    "---\n",
    "\n",
    "Let's try a simple repeat **for** loop. A repeat loop is for when you just want to repeat the exact same \n",
    "thing a specific number of times. In that case only the length of the sequence, \n",
    "not the individual elements are important. For this, we can use use the `range` function to create our sequence. \n",
    "\n",
    "In the block below, use `range` to create a for loop that prints **Hello** 100 times."
   ]
  },
  {
   "cell_type": "code",
   "execution_count": 8,
   "metadata": {
    "collapsed": true
   },
   "outputs": [
    {
     "name": "stdout",
     "output_type": "stream",
     "text": [
      "Hello\n",
      "Hello\n",
      "Hello\n",
      "Hello\n",
      "Hello\n",
      "Hello\n",
      "Hello\n",
      "Hello\n",
      "Hello\n",
      "Hello\n",
      "Hello\n",
      "Hello\n",
      "Hello\n",
      "Hello\n",
      "Hello\n",
      "Hello\n",
      "Hello\n",
      "Hello\n",
      "Hello\n",
      "Hello\n",
      "Hello\n",
      "Hello\n",
      "Hello\n",
      "Hello\n",
      "Hello\n",
      "Hello\n",
      "Hello\n",
      "Hello\n",
      "Hello\n",
      "Hello\n",
      "Hello\n",
      "Hello\n",
      "Hello\n",
      "Hello\n",
      "Hello\n",
      "Hello\n",
      "Hello\n",
      "Hello\n",
      "Hello\n",
      "Hello\n",
      "Hello\n",
      "Hello\n",
      "Hello\n",
      "Hello\n",
      "Hello\n",
      "Hello\n",
      "Hello\n",
      "Hello\n",
      "Hello\n",
      "Hello\n",
      "Hello\n",
      "Hello\n",
      "Hello\n",
      "Hello\n",
      "Hello\n",
      "Hello\n",
      "Hello\n",
      "Hello\n",
      "Hello\n",
      "Hello\n",
      "Hello\n",
      "Hello\n",
      "Hello\n",
      "Hello\n",
      "Hello\n",
      "Hello\n",
      "Hello\n",
      "Hello\n",
      "Hello\n",
      "Hello\n",
      "Hello\n",
      "Hello\n",
      "Hello\n",
      "Hello\n",
      "Hello\n",
      "Hello\n",
      "Hello\n",
      "Hello\n",
      "Hello\n",
      "Hello\n",
      "Hello\n",
      "Hello\n",
      "Hello\n",
      "Hello\n",
      "Hello\n",
      "Hello\n",
      "Hello\n",
      "Hello\n",
      "Hello\n",
      "Hello\n",
      "Hello\n",
      "Hello\n",
      "Hello\n",
      "Hello\n",
      "Hello\n",
      "Hello\n",
      "Hello\n",
      "Hello\n",
      "Hello\n",
      "Hello\n"
     ]
    }
   ],
   "source": [
    "for _ in range(100):\n",
    "    print(\"Hello\")"
   ]
  },
  {
   "cell_type": "markdown",
   "metadata": {},
   "source": [
    "## Looping over strings\n",
    "---\n",
    "\n",
    "We've mostly played it safe with list sequences.  Let's try looping through the letters in a word:\n",
    "\n",
    "```python\n",
    "word = \"computer\"\n",
    "```\n",
    "\n",
    "How do we do this?"
   ]
  },
  {
   "cell_type": "code",
   "execution_count": 11,
   "metadata": {},
   "outputs": [
    {
     "name": "stdout",
     "output_type": "stream",
     "text": [
      "C\n",
      "O\n",
      "M\n",
      "P\n",
      "U\n",
      "T\n",
      "E\n",
      "R\n"
     ]
    }
   ],
   "source": [
    "word = \"computer\"\n",
    "for letter in word:\n",
    "    print(letter.upper())"
   ]
  },
  {
   "cell_type": "markdown",
   "metadata": {},
   "source": [
    "## Looping over dictionaries\n",
    "---\n",
    "\n",
    "You can also loop through the key/value pairs in a dictionary. \n",
    "\n",
    "To see this in action, create a dictionary called `user` with the keys `'first_name'` and `'last_name'`"
   ]
  },
  {
   "cell_type": "code",
   "execution_count": 12,
   "metadata": {},
   "outputs": [],
   "source": [
    "user = {\n",
    "    'first_name' : 'Divya',\n",
    "    'last_name' : 'V'\n",
    "}"
   ]
  },
  {
   "cell_type": "code",
   "execution_count": 13,
   "metadata": {},
   "outputs": [
    {
     "data": {
      "text/plain": [
       "dict_values(['Divya', 'V'])"
      ]
     },
     "execution_count": 13,
     "metadata": {},
     "output_type": "execute_result"
    }
   ],
   "source": [
    "user.values()"
   ]
  },
  {
   "cell_type": "code",
   "execution_count": 14,
   "metadata": {},
   "outputs": [
    {
     "data": {
      "text/plain": [
       "dict_items([('first_name', 'Divya'), ('last_name', 'V')])"
      ]
     },
     "execution_count": 14,
     "metadata": {},
     "output_type": "execute_result"
    }
   ],
   "source": [
    "user.items()"
   ]
  },
  {
   "cell_type": "markdown",
   "metadata": {},
   "source": [
    "Dictionaries have a method called `items()` specifically for looping. We'll use that in conjunction with a for loop to iterate over the key/value pairs in our `user` dictionary."
   ]
  },
  {
   "cell_type": "code",
   "execution_count": 15,
   "metadata": {},
   "outputs": [
    {
     "name": "stdout",
     "output_type": "stream",
     "text": [
      "first_name\n",
      "Divya\n",
      "\n",
      "last_name\n",
      "V\n",
      "\n"
     ]
    }
   ],
   "source": [
    "for first_entry , second_entry in user.items():\n",
    "    print(first_entry)\n",
    "    print(second_entry)\n",
    "    print('')"
   ]
  },
  {
   "cell_type": "code",
   "execution_count": 16,
   "metadata": {},
   "outputs": [],
   "source": [
    "names = ['Conor', 'Aoife', 'Liadan', 'Aine']"
   ]
  },
  {
   "cell_type": "code",
   "execution_count": 17,
   "metadata": {},
   "outputs": [
    {
     "data": {
      "text/plain": [
       "<enumerate at 0x7f969826b990>"
      ]
     },
     "execution_count": 17,
     "metadata": {},
     "output_type": "execute_result"
    }
   ],
   "source": [
    "enumerate(names)"
   ]
  },
  {
   "cell_type": "code",
   "execution_count": 18,
   "metadata": {},
   "outputs": [
    {
     "name": "stdout",
     "output_type": "stream",
     "text": [
      "0\n",
      "Conor\n",
      "\n",
      "1\n",
      "Aoife\n",
      "\n",
      "2\n",
      "Liadan\n",
      "\n",
      "3\n",
      "Aine\n",
      "\n"
     ]
    }
   ],
   "source": [
    "for index, name in enumerate(names):\n",
    "    print(index)\n",
    "    print(name)\n",
    "    print('')"
   ]
  },
  {
   "cell_type": "markdown",
   "metadata": {},
   "source": [
    "## Mapping\n",
    "---\n",
    "Mapping is when you perform an item-wise transformation to a given sequence. In python, we'll use list comprehension to do this.\n",
    "\n",
    "To illustrate mapping, let's transform this list of binary strings:\n",
    "\n",
    "```python\n",
    "sample_column = ['Yes', 'Yes', 'Yes', 'No']\n",
    "```\n",
    "\n",
    "Into binary values:\n",
    "- 1 if the string is `'Yes'`\n",
    "- 0 if the string is `'No'`"
   ]
  },
  {
   "cell_type": "code",
   "execution_count": 19,
   "metadata": {},
   "outputs": [],
   "source": [
    "# Copy/paste sample_column\n",
    "sample_column = ['Yes', 'Yes', 'Yes', 'No']"
   ]
  },
  {
   "cell_type": "markdown",
   "metadata": {},
   "source": [
    "In machine learning, we'll need to convert strings into numbers. Let's create a function that accepts **a single string**. Return 1 if the string is `'Yes'` and 0 if the string is `'No'`."
   ]
  },
  {
   "cell_type": "code",
   "execution_count": 21,
   "metadata": {},
   "outputs": [
    {
     "data": {
      "text/plain": [
       "0"
      ]
     },
     "execution_count": 21,
     "metadata": {},
     "output_type": "execute_result"
    }
   ],
   "source": [
    "def yes_or_no(sample_string):\n",
    "    if sample_string.lower() == 'yes':\n",
    "        return 1\n",
    "    else:\n",
    "        return 0\n",
    "yes_or_no('no')"
   ]
  },
  {
   "cell_type": "markdown",
   "metadata": {},
   "source": [
    "Now let's use list comprehension along with our function to convert our list of strings into 1s and 0s."
   ]
  },
  {
   "cell_type": "code",
   "execution_count": 28,
   "metadata": {},
   "outputs": [
    {
     "data": {
      "text/plain": [
       "['ges', 'ges', 'ges', 'No']"
      ]
     },
     "execution_count": 28,
     "metadata": {},
     "output_type": "execute_result"
    }
   ],
   "source": [
    "[yes_or_no(s) for s in sample_column]"
   ]
  },
  {
   "cell_type": "code",
   "execution_count": 32,
   "metadata": {},
   "outputs": [
    {
     "data": {
      "text/plain": [
       "[1, 2, 3, 4, 5, 6, 7, 8, 9]"
      ]
     },
     "execution_count": 32,
     "metadata": {},
     "output_type": "execute_result"
    }
   ],
   "source": [
    "list(range(1, 10))"
   ]
  },
  {
   "cell_type": "code",
   "execution_count": 34,
   "metadata": {},
   "outputs": [],
   "source": [
    "# create a function that accepts a single integer, and returns the string 'odd' or 'even', depending on the integer\n",
    "def odd_or_even(n):\n",
    "    if n % 2 ==0:\n",
    "        return 'Even'\n",
    "    return 'Odd'"
   ]
  },
  {
   "cell_type": "code",
   "execution_count": 37,
   "metadata": {},
   "outputs": [],
   "source": [
    "k = list(range(1,101))\n",
    "# use list comprehension to convert your array of integers to an array of odd/even strings\n",
    "listed_odd_even = [odd_or_even(n) for n in k]"
   ]
  },
  {
   "cell_type": "code",
   "execution_count": 38,
   "metadata": {
    "scrolled": true
   },
   "outputs": [
    {
     "data": {
      "text/plain": [
       "['Odd',\n",
       " 'Even',\n",
       " 'Odd',\n",
       " 'Even',\n",
       " 'Odd',\n",
       " 'Even',\n",
       " 'Odd',\n",
       " 'Even',\n",
       " 'Odd',\n",
       " 'Even',\n",
       " 'Odd',\n",
       " 'Even',\n",
       " 'Odd',\n",
       " 'Even',\n",
       " 'Odd',\n",
       " 'Even',\n",
       " 'Odd',\n",
       " 'Even',\n",
       " 'Odd',\n",
       " 'Even',\n",
       " 'Odd',\n",
       " 'Even',\n",
       " 'Odd',\n",
       " 'Even',\n",
       " 'Odd',\n",
       " 'Even',\n",
       " 'Odd',\n",
       " 'Even',\n",
       " 'Odd',\n",
       " 'Even',\n",
       " 'Odd',\n",
       " 'Even',\n",
       " 'Odd',\n",
       " 'Even',\n",
       " 'Odd',\n",
       " 'Even',\n",
       " 'Odd',\n",
       " 'Even',\n",
       " 'Odd',\n",
       " 'Even',\n",
       " 'Odd',\n",
       " 'Even',\n",
       " 'Odd',\n",
       " 'Even',\n",
       " 'Odd',\n",
       " 'Even',\n",
       " 'Odd',\n",
       " 'Even',\n",
       " 'Odd',\n",
       " 'Even',\n",
       " 'Odd',\n",
       " 'Even',\n",
       " 'Odd',\n",
       " 'Even',\n",
       " 'Odd',\n",
       " 'Even',\n",
       " 'Odd',\n",
       " 'Even',\n",
       " 'Odd',\n",
       " 'Even',\n",
       " 'Odd',\n",
       " 'Even',\n",
       " 'Odd',\n",
       " 'Even',\n",
       " 'Odd',\n",
       " 'Even',\n",
       " 'Odd',\n",
       " 'Even',\n",
       " 'Odd',\n",
       " 'Even',\n",
       " 'Odd',\n",
       " 'Even',\n",
       " 'Odd',\n",
       " 'Even',\n",
       " 'Odd',\n",
       " 'Even',\n",
       " 'Odd',\n",
       " 'Even',\n",
       " 'Odd',\n",
       " 'Even',\n",
       " 'Odd',\n",
       " 'Even',\n",
       " 'Odd',\n",
       " 'Even',\n",
       " 'Odd',\n",
       " 'Even',\n",
       " 'Odd',\n",
       " 'Even',\n",
       " 'Odd',\n",
       " 'Even',\n",
       " 'Odd',\n",
       " 'Even',\n",
       " 'Odd',\n",
       " 'Even',\n",
       " 'Odd',\n",
       " 'Even',\n",
       " 'Odd',\n",
       " 'Even',\n",
       " 'Odd',\n",
       " 'Even']"
      ]
     },
     "execution_count": 38,
     "metadata": {},
     "output_type": "execute_result"
    }
   ],
   "source": [
    "listed_odd_even"
   ]
  },
  {
   "cell_type": "code",
   "execution_count": 33,
   "metadata": {},
   "outputs": [],
   "source": [
    "# create an array of integers: 1-100\n",
    "numbers = list(range(1,101))"
   ]
  },
  {
   "cell_type": "code",
   "execution_count": 39,
   "metadata": {
    "scrolled": true
   },
   "outputs": [
    {
     "data": {
      "text/plain": [
       "{1: 'Odd',\n",
       " 2: 'Even',\n",
       " 3: 'Odd',\n",
       " 4: 'Even',\n",
       " 5: 'Odd',\n",
       " 6: 'Even',\n",
       " 7: 'Odd',\n",
       " 8: 'Even',\n",
       " 9: 'Odd',\n",
       " 10: 'Even',\n",
       " 11: 'Odd',\n",
       " 12: 'Even',\n",
       " 13: 'Odd',\n",
       " 14: 'Even',\n",
       " 15: 'Odd',\n",
       " 16: 'Even',\n",
       " 17: 'Odd',\n",
       " 18: 'Even',\n",
       " 19: 'Odd',\n",
       " 20: 'Even',\n",
       " 21: 'Odd',\n",
       " 22: 'Even',\n",
       " 23: 'Odd',\n",
       " 24: 'Even',\n",
       " 25: 'Odd',\n",
       " 26: 'Even',\n",
       " 27: 'Odd',\n",
       " 28: 'Even',\n",
       " 29: 'Odd',\n",
       " 30: 'Even',\n",
       " 31: 'Odd',\n",
       " 32: 'Even',\n",
       " 33: 'Odd',\n",
       " 34: 'Even',\n",
       " 35: 'Odd',\n",
       " 36: 'Even',\n",
       " 37: 'Odd',\n",
       " 38: 'Even',\n",
       " 39: 'Odd',\n",
       " 40: 'Even',\n",
       " 41: 'Odd',\n",
       " 42: 'Even',\n",
       " 43: 'Odd',\n",
       " 44: 'Even',\n",
       " 45: 'Odd',\n",
       " 46: 'Even',\n",
       " 47: 'Odd',\n",
       " 48: 'Even',\n",
       " 49: 'Odd',\n",
       " 50: 'Even',\n",
       " 51: 'Odd',\n",
       " 52: 'Even',\n",
       " 53: 'Odd',\n",
       " 54: 'Even',\n",
       " 55: 'Odd',\n",
       " 56: 'Even',\n",
       " 57: 'Odd',\n",
       " 58: 'Even',\n",
       " 59: 'Odd',\n",
       " 60: 'Even',\n",
       " 61: 'Odd',\n",
       " 62: 'Even',\n",
       " 63: 'Odd',\n",
       " 64: 'Even',\n",
       " 65: 'Odd',\n",
       " 66: 'Even',\n",
       " 67: 'Odd',\n",
       " 68: 'Even',\n",
       " 69: 'Odd',\n",
       " 70: 'Even',\n",
       " 71: 'Odd',\n",
       " 72: 'Even',\n",
       " 73: 'Odd',\n",
       " 74: 'Even',\n",
       " 75: 'Odd',\n",
       " 76: 'Even',\n",
       " 77: 'Odd',\n",
       " 78: 'Even',\n",
       " 79: 'Odd',\n",
       " 80: 'Even',\n",
       " 81: 'Odd',\n",
       " 82: 'Even',\n",
       " 83: 'Odd',\n",
       " 84: 'Even',\n",
       " 85: 'Odd',\n",
       " 86: 'Even',\n",
       " 87: 'Odd',\n",
       " 88: 'Even',\n",
       " 89: 'Odd',\n",
       " 90: 'Even',\n",
       " 91: 'Odd',\n",
       " 92: 'Even',\n",
       " 93: 'Odd',\n",
       " 94: 'Even',\n",
       " 95: 'Odd',\n",
       " 96: 'Even',\n",
       " 97: 'Odd',\n",
       " 98: 'Even',\n",
       " 99: 'Odd',\n",
       " 100: 'Even'}"
      ]
     },
     "execution_count": 39,
     "metadata": {},
     "output_type": "execute_result"
    }
   ],
   "source": [
    "{n:odd_or_even(n) for n in numbers}"
   ]
  },
  {
   "cell_type": "markdown",
   "metadata": {},
   "source": [
    "## Mapping practice: square the numbers\n",
    "---\n",
    "\n",
    "If your item-wise transformation is simple, you can do list comprehension without a function. In the cell below:\n",
    "\n",
    "1. Create a list of integers, 1 through 10\n",
    "2. Use list comprehension to square each number in step 1"
   ]
  },
  {
   "cell_type": "code",
   "execution_count": 44,
   "metadata": {},
   "outputs": [
    {
     "data": {
      "text/plain": [
       "[1, 4, 9, 16, 25, 36, 49, 64, 81, 100]"
      ]
     },
     "execution_count": 44,
     "metadata": {},
     "output_type": "execute_result"
    }
   ],
   "source": [
    "first_ten = [1,2,3,4,5,6,7,8,9,10]\n",
    "\n",
    "squares =[]\n",
    "for num in first_ten:\n",
    "    squares.append(num**2)\n",
    "squares"
   ]
  },
  {
   "cell_type": "code",
   "execution_count": 45,
   "metadata": {},
   "outputs": [],
   "source": [
    "# create an array of integers: 1-10\n",
    "arr = list(range(1,11))"
   ]
  },
  {
   "cell_type": "code",
   "execution_count": 46,
   "metadata": {},
   "outputs": [
    {
     "data": {
      "text/plain": [
       "[1, 4, 9, 16, 25, 36, 49, 64, 81, 100]"
      ]
     },
     "execution_count": 46,
     "metadata": {},
     "output_type": "execute_result"
    }
   ],
   "source": [
    "# map through the array, squaring each number in the original array. Output should look like below.\n",
    "[a ** 2 for a in arr]"
   ]
  },
  {
   "cell_type": "markdown",
   "metadata": {},
   "source": [
    "## Mapping practice: lowercase names\n",
    "---\n",
    "\n",
    "Given the following list:\n",
    "```python\n",
    "names = ['Xlegic', 'John', 'Jasmine', 'Eva']\n",
    "```\n",
    "\n",
    "Use list comprehension to lowercase each name."
   ]
  },
  {
   "cell_type": "code",
   "execution_count": 47,
   "metadata": {},
   "outputs": [
    {
     "data": {
      "text/plain": [
       "['xlegic', 'john', 'jasmine', 'eva']"
      ]
     },
     "execution_count": 47,
     "metadata": {},
     "output_type": "execute_result"
    }
   ],
   "source": [
    "names = ['Xlegic', 'John', 'Jasmine', 'Eva']\n",
    "[name.lower() for name in names]"
   ]
  },
  {
   "cell_type": "markdown",
   "metadata": {},
   "source": [
    "## Filtering\n",
    "---\n",
    "\n",
    "Filtering is when you return a subset of a given list that meets a certain condition. Like mapping, we can use list comprehension to filter. \n",
    "\n",
    "Given the following list of people:\n",
    "\n",
    "```python\n",
    "classroom = [\n",
    "    {'name': 'Teacher McTeacherson', 'role': 'teacher'},\n",
    "    {'name': 'Teacher McTeacherson', 'role': 'teacher'},\n",
    "    {'name': 'Teacher McTeacherson', 'role': 'teacher'},\n",
    "    {'name': 'Student McStudentson', 'role': 'student'},\n",
    "    {'name': 'Student McStudentson', 'role': 'student'},\n",
    "    {'name': 'Student McStudentson', 'role': 'student'},\n",
    "    {'name': 'Student McStudentson', 'role': 'student'},\n",
    "    {'name': 'Student McStudentson', 'role': 'student'},\n",
    "    {'name': 'Student McStudentson', 'role': 'student'},\n",
    "    {'name': 'Student McStudentson', 'role': 'student'}\n",
    "]\n",
    "```\n",
    "\n",
    "Use list comprehension to return only those individuals whose role is `'student'`."
   ]
  },
  {
   "cell_type": "code",
   "execution_count": 48,
   "metadata": {},
   "outputs": [],
   "source": [
    "classroom = [\n",
    "    {'name': 'Teacher McTeacherson', 'role': 'teacher'},\n",
    "    {'name': 'Teacher McTeacherson', 'role': 'teacher'},\n",
    "    {'name': 'Teacher McTeacherson', 'role': 'teacher'},\n",
    "    {'name': 'Student McStudentson', 'role': 'student'},\n",
    "    {'name': 'Student McStudentson', 'role': 'student'},\n",
    "    {'name': 'Student McStudentson', 'role': 'student'},\n",
    "    {'name': 'Student McStudentson', 'role': 'student'},\n",
    "    {'name': 'Student McStudentson', 'role': 'student'},\n",
    "    {'name': 'Student McStudentson', 'role': 'student'},\n",
    "    {'name': 'Student McStudentson', 'role': 'student'}\n",
    "]"
   ]
  },
  {
   "cell_type": "code",
   "execution_count": 49,
   "metadata": {},
   "outputs": [
    {
     "data": {
      "text/plain": [
       "[{'name': 'Teacher McTeacherson', 'role': 'teacher'},\n",
       " {'name': 'Teacher McTeacherson', 'role': 'teacher'},\n",
       " {'name': 'Teacher McTeacherson', 'role': 'teacher'},\n",
       " {'name': 'Student McStudentson', 'role': 'student'},\n",
       " {'name': 'Student McStudentson', 'role': 'student'},\n",
       " {'name': 'Student McStudentson', 'role': 'student'},\n",
       " {'name': 'Student McStudentson', 'role': 'student'},\n",
       " {'name': 'Student McStudentson', 'role': 'student'},\n",
       " {'name': 'Student McStudentson', 'role': 'student'},\n",
       " {'name': 'Student McStudentson', 'role': 'student'}]"
      ]
     },
     "execution_count": 49,
     "metadata": {},
     "output_type": "execute_result"
    }
   ],
   "source": [
    "classroom"
   ]
  },
  {
   "cell_type": "code",
   "execution_count": 50,
   "metadata": {},
   "outputs": [],
   "source": [
    "p = {'name': 'Teacher McTeacherson', 'role': 'teacher'}"
   ]
  },
  {
   "cell_type": "code",
   "execution_count": 52,
   "metadata": {},
   "outputs": [
    {
     "data": {
      "text/plain": [
       "False"
      ]
     },
     "execution_count": 52,
     "metadata": {},
     "output_type": "execute_result"
    }
   ],
   "source": [
    "p['role'] == 'student'"
   ]
  },
  {
   "cell_type": "code",
   "execution_count": 53,
   "metadata": {},
   "outputs": [
    {
     "data": {
      "text/plain": [
       "[{'name': 'Student McStudentson', 'role': 'student'},\n",
       " {'name': 'Student McStudentson', 'role': 'student'},\n",
       " {'name': 'Student McStudentson', 'role': 'student'},\n",
       " {'name': 'Student McStudentson', 'role': 'student'},\n",
       " {'name': 'Student McStudentson', 'role': 'student'},\n",
       " {'name': 'Student McStudentson', 'role': 'student'},\n",
       " {'name': 'Student McStudentson', 'role': 'student'}]"
      ]
     },
     "execution_count": 53,
     "metadata": {},
     "output_type": "execute_result"
    }
   ],
   "source": [
    "[p for p in classroom if p['role'] == 'student']"
   ]
  },
  {
   "cell_type": "markdown",
   "metadata": {},
   "source": [
    "Now let's use list comprehension to filter our list to be teachers."
   ]
  },
  {
   "cell_type": "code",
   "execution_count": 55,
   "metadata": {},
   "outputs": [
    {
     "data": {
      "text/plain": [
       "['Teacher McTeacherson', 'Teacher McTeacherson', 'Teacher McTeacherson']"
      ]
     },
     "execution_count": 55,
     "metadata": {},
     "output_type": "execute_result"
    }
   ],
   "source": [
    "[p['name'] for p in classroom if p['role'] == 'teacher']"
   ]
  },
  {
   "cell_type": "code",
   "execution_count": 57,
   "metadata": {},
   "outputs": [
    {
     "data": {
      "text/plain": [
       "['Teacher McTeacherson', 'Teacher McTeacherson', 'Teacher McTeacherson']"
      ]
     },
     "execution_count": 57,
     "metadata": {},
     "output_type": "execute_result"
    }
   ],
   "source": [
    "filterd_list =[]\n",
    "\n",
    "for p in classroom:\n",
    "    if p['role'] == 'teacher':\n",
    "        filterd_list.append(p['name'])\n",
    "filterd_list"
   ]
  },
  {
   "cell_type": "markdown",
   "metadata": {},
   "source": [
    "## List Comprehension: Dictionaries\n",
    "---\n",
    "\n",
    "Despite the name, list comprehension is not exclusive to lists. We can also map over dictionaries, but with a subtle difference: we'll wrap our list comprehension in `{}` instead of `[]` to retain the dictionary type.\n",
    "\n",
    "Let's say we have a dictionary of users with their corresponding emails:\n",
    "\n",
    "```python\n",
    "users = {\n",
    "    'user1': 'FOO@BAR.COM',\n",
    "    'user2': 'JOHN@DOE.COM',\n",
    "    'user3': '90SRULE@AOL.COM'\n",
    "}\n",
    "```\n",
    "\n",
    "We might want to lowercase all the email addresses before saving them to a database. In the block below, map through `users` and return the same dictionary, but with all the emails lowercased."
   ]
  },
  {
   "cell_type": "code",
   "execution_count": 58,
   "metadata": {},
   "outputs": [],
   "source": [
    "users = {\n",
    "    'user1': 'FOO@BAR.COM',\n",
    "    'user2': 'JOHN@DOE.COM',\n",
    "    'user3': '90SRULE@AOL.COM'\n",
    "}"
   ]
  },
  {
   "cell_type": "code",
   "execution_count": 59,
   "metadata": {},
   "outputs": [
    {
     "data": {
      "text/plain": [
       "{'user1': 'foo@bar.com', 'user2': 'john@doe.com', 'user3': '90srule@aol.com'}"
      ]
     },
     "execution_count": 59,
     "metadata": {},
     "output_type": "execute_result"
    }
   ],
   "source": [
    "{a:b.lower() for a, b in users.items()}"
   ]
  },
  {
   "cell_type": "markdown",
   "metadata": {},
   "source": [
    "# Filtering Dictionaries\n",
    "---\n",
    "\n",
    "If we can map dictionaries, we can also filter them. Using our `users` dictionary from above, let's filter only users who have an AOL account."
   ]
  },
  {
   "cell_type": "code",
   "execution_count": 60,
   "metadata": {},
   "outputs": [
    {
     "data": {
      "text/plain": [
       "{'user3': '90SRULE@AOL.COM'}"
      ]
     },
     "execution_count": 60,
     "metadata": {},
     "output_type": "execute_result"
    }
   ],
   "source": [
    "{k:v for k,v in users.items() if 'AOL' in v}"
   ]
  },
  {
   "cell_type": "code",
   "execution_count": 65,
   "metadata": {},
   "outputs": [
    {
     "data": {
      "text/plain": [
       "['FOO', 'BAR.COM']"
      ]
     },
     "execution_count": 65,
     "metadata": {},
     "output_type": "execute_result"
    }
   ],
   "source": [
    "users['user1'].split('@')"
   ]
  },
  {
   "cell_type": "code",
   "execution_count": 66,
   "metadata": {},
   "outputs": [
    {
     "data": {
      "text/plain": [
       "{'user3': '90SRULE@AOL.COM'}"
      ]
     },
     "execution_count": 66,
     "metadata": {},
     "output_type": "execute_result"
    }
   ],
   "source": [
    "{k:v for k,v in users.items() if v.split('@')[1] == 'AOL.COM'}"
   ]
  }
 ],
 "metadata": {
  "anaconda-cloud": {},
  "kernelspec": {
   "display_name": "Python 3",
   "language": "python",
   "name": "python3"
  },
  "language_info": {
   "codemirror_mode": {
    "name": "ipython",
    "version": 3
   },
   "file_extension": ".py",
   "mimetype": "text/x-python",
   "name": "python",
   "nbconvert_exporter": "python",
   "pygments_lexer": "ipython3",
   "version": "3.6.9"
  }
 },
 "nbformat": 4,
 "nbformat_minor": 1
}
