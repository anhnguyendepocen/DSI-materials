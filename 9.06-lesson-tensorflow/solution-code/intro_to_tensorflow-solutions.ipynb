{
 "cells": [
  {
   "cell_type": "markdown",
   "metadata": {},
   "source": [
    "<img src=\"http://imgur.com/1ZcRyrc.png\" style=\"float: left; margin: 20px; height: 55px\">\n",
    "\n",
    "# Neural Networks with TensorFlow\n",
    "\n",
    "_Authors: Justin Pounders (ATL) and Riley Dalles (ATX)_\n",
    "\n",
    "---\n",
    "\n",
    "<a id=\"learning-objectives\"></a>\n",
    "### Learning Objectives\n",
    "- Describe the basic `tensorflow` workflow.\n",
    "- Create computational graphs representing basic feed-forward neural networks.\n",
    "- Train neural networks using `tensorflow`\n",
    "- Create and train neural networks for both regression and classification"
   ]
  },
  {
   "cell_type": "code",
   "execution_count": 1,
   "metadata": {},
   "outputs": [],
   "source": [
    "#!pip uninstall tensorflow -y\n",
    "#!pip show tensorflow"
   ]
  },
  {
   "cell_type": "code",
   "execution_count": 2,
   "metadata": {},
   "outputs": [],
   "source": [
    "#!pip install tensorflow==1.13.1\n",
    "#!pip show tensorflow"
   ]
  },
  {
   "cell_type": "code",
   "execution_count": 3,
   "metadata": {},
   "outputs": [
    {
     "name": "stderr",
     "output_type": "stream",
     "text": [
      "C:\\Users\\User\\Anaconda3\\lib\\site-packages\\tensorflow\\python\\framework\\dtypes.py:526: FutureWarning: Passing (type, 1) or '1type' as a synonym of type is deprecated; in a future version of numpy, it will be understood as (type, (1,)) / '(1,)type'.\n",
      "  _np_qint8 = np.dtype([(\"qint8\", np.int8, 1)])\n",
      "C:\\Users\\User\\Anaconda3\\lib\\site-packages\\tensorflow\\python\\framework\\dtypes.py:527: FutureWarning: Passing (type, 1) or '1type' as a synonym of type is deprecated; in a future version of numpy, it will be understood as (type, (1,)) / '(1,)type'.\n",
      "  _np_quint8 = np.dtype([(\"quint8\", np.uint8, 1)])\n",
      "C:\\Users\\User\\Anaconda3\\lib\\site-packages\\tensorflow\\python\\framework\\dtypes.py:528: FutureWarning: Passing (type, 1) or '1type' as a synonym of type is deprecated; in a future version of numpy, it will be understood as (type, (1,)) / '(1,)type'.\n",
      "  _np_qint16 = np.dtype([(\"qint16\", np.int16, 1)])\n",
      "C:\\Users\\User\\Anaconda3\\lib\\site-packages\\tensorflow\\python\\framework\\dtypes.py:529: FutureWarning: Passing (type, 1) or '1type' as a synonym of type is deprecated; in a future version of numpy, it will be understood as (type, (1,)) / '(1,)type'.\n",
      "  _np_quint16 = np.dtype([(\"quint16\", np.uint16, 1)])\n",
      "C:\\Users\\User\\Anaconda3\\lib\\site-packages\\tensorflow\\python\\framework\\dtypes.py:530: FutureWarning: Passing (type, 1) or '1type' as a synonym of type is deprecated; in a future version of numpy, it will be understood as (type, (1,)) / '(1,)type'.\n",
      "  _np_qint32 = np.dtype([(\"qint32\", np.int32, 1)])\n",
      "C:\\Users\\User\\Anaconda3\\lib\\site-packages\\tensorflow\\python\\framework\\dtypes.py:535: FutureWarning: Passing (type, 1) or '1type' as a synonym of type is deprecated; in a future version of numpy, it will be understood as (type, (1,)) / '(1,)type'.\n",
      "  np_resource = np.dtype([(\"resource\", np.ubyte, 1)])\n"
     ]
    }
   ],
   "source": [
    "import tensorflow as tf\n",
    "import numpy as np\n",
    "\n",
    "from sklearn.model_selection import train_test_split, KFold\n",
    "from sklearn.preprocessing import StandardScaler\n",
    "from sklearn import metrics\n",
    "\n",
    "import matplotlib.pyplot as plt\n",
    "import seaborn as sns\n",
    "\n",
    "%matplotlib inline"
   ]
  },
  {
   "cell_type": "markdown",
   "metadata": {},
   "source": [
    "## Computational Graphs\n",
    "\n",
    "---\n",
    "\n",
    "Tensorflow is fundamentally a library for creating **computational graphs**.\n",
    "\n",
    "![](assets/comp_graph.png)\n",
    "\n",
    "Let's define and evaluate this \"computational graph.\""
   ]
  },
  {
   "cell_type": "markdown",
   "metadata": {},
   "source": [
    "**There are two phases to building a `tensorflow` model.**\n",
    "\n",
    "1. Graph construction\n",
    "2. Training/evaluation"
   ]
  },
  {
   "cell_type": "code",
   "execution_count": 4,
   "metadata": {},
   "outputs": [
    {
     "name": "stdout",
     "output_type": "stream",
     "text": [
      "WARNING:tensorflow:From C:\\Users\\User\\Anaconda3\\lib\\site-packages\\tensorflow\\python\\framework\\op_def_library.py:263: colocate_with (from tensorflow.python.framework.ops) is deprecated and will be removed in a future version.\n",
      "Instructions for updating:\n",
      "Colocations handled automatically by placer.\n"
     ]
    }
   ],
   "source": [
    "# Build the graph\n",
    "\n",
    "a = tf.Variable(3, name='a')\n",
    "b = tf.Variable(4, name='a')\n",
    "c = a + b\n",
    "d = b + 1\n",
    "e = c * d"
   ]
  },
  {
   "cell_type": "code",
   "execution_count": 5,
   "metadata": {},
   "outputs": [
    {
     "name": "stdout",
     "output_type": "stream",
     "text": [
      "35\n"
     ]
    }
   ],
   "source": [
    "# Evaluate the graph\n",
    "\n",
    "init = tf.global_variables_initializer()\n",
    "\n",
    "with tf.Session() as sess:\n",
    "    init.run()\n",
    "    result = e.eval()\n",
    "    print(result)"
   ]
  },
  {
   "cell_type": "markdown",
   "metadata": {},
   "source": [
    "## Building a Neural Network for Regression\n",
    "\n",
    "---"
   ]
  },
  {
   "cell_type": "markdown",
   "metadata": {},
   "source": [
    "Let's start by building a neural net for _regression_.  These are the steps we will follow:\n",
    "\n",
    "1. Load the data.\n",
    "2. Data cleaning/munging, feature engineering (will not do today)\n",
    "3. Make test/train splits. (Should we use cross validation?)\n",
    "4. Standardize the data.\n",
    "5. Build the computational graph for the neural network.\n",
    "6. Train the network using gradient descent a.k.a. back propogation.\n",
    "7. Evaluate performance and iterate."
   ]
  },
  {
   "cell_type": "markdown",
   "metadata": {},
   "source": [
    "### Steps 1-4"
   ]
  },
  {
   "cell_type": "code",
   "execution_count": 6,
   "metadata": {},
   "outputs": [],
   "source": [
    "from sklearn.datasets import load_boston\n",
    "from sklearn.datasets import fetch_california_housing\n",
    "\n",
    "data = load_boston()\n",
    "data = fetch_california_housing()\n",
    "\n",
    "X_train, X_test, y_train, y_test = train_test_split(data.data, data.target)\n",
    "\n",
    "y_train = y_train.reshape(-1,1)\n",
    "y_test = y_test.reshape(-1,1)\n",
    "\n",
    "ss = StandardScaler()\n",
    "X_train = ss.fit_transform(X_train)\n",
    "X_test = ss.transform(X_test)"
   ]
  },
  {
   "cell_type": "markdown",
   "metadata": {},
   "source": [
    "### Step 5: Build the network"
   ]
  },
  {
   "cell_type": "code",
   "execution_count": 7,
   "metadata": {},
   "outputs": [
    {
     "name": "stdout",
     "output_type": "stream",
     "text": [
      "WARNING:tensorflow:From <ipython-input-7-b6eac8695391>:12: dense (from tensorflow.python.layers.core) is deprecated and will be removed in a future version.\n",
      "Instructions for updating:\n",
      "Use keras.layers.dense instead.\n",
      "WARNING:tensorflow:From C:\\Users\\User\\Anaconda3\\lib\\site-packages\\tensorflow\\python\\ops\\losses\\losses_impl.py:667: to_float (from tensorflow.python.ops.math_ops) is deprecated and will be removed in a future version.\n",
      "Instructions for updating:\n",
      "Use tf.cast instead.\n",
      "WARNING:tensorflow:From C:\\Users\\User\\Anaconda3\\lib\\site-packages\\tensorflow\\python\\ops\\math_ops.py:3066: to_int32 (from tensorflow.python.ops.math_ops) is deprecated and will be removed in a future version.\n",
      "Instructions for updating:\n",
      "Use tf.cast instead.\n"
     ]
    }
   ],
   "source": [
    "tf.reset_default_graph()\n",
    "\n",
    "X = tf.placeholder(dtype=tf.float32, \n",
    "                   shape=(None,X_train.shape[1]),\n",
    "                   name='X')\n",
    "y = tf.placeholder(dtype=tf.float32,\n",
    "                   shape=(None),\n",
    "                   name='y')\n",
    "\n",
    "hidden1 = tf.layers.dense(X, units=13, \n",
    "                          name='hidden1',\n",
    "                          activation=tf.nn.relu)\n",
    "y_hat = tf.layers.dense(hidden1, \n",
    "                        units=1,\n",
    "                        activation=None)\n",
    "\n",
    "loss = tf.losses.mean_squared_error(y, y_hat)\n",
    "\n",
    "optimizer = tf.train.AdamOptimizer(0.01)\n",
    "\n",
    "training_op = optimizer.minimize(loss)"
   ]
  },
  {
   "cell_type": "markdown",
   "metadata": {},
   "source": [
    "### Step 6: Train the network"
   ]
  },
  {
   "cell_type": "code",
   "execution_count": 8,
   "metadata": {},
   "outputs": [
    {
     "name": "stdout",
     "output_type": "stream",
     "text": [
      "epoch 1 8.766008 8.609287\n",
      "epoch 11 3.0469272 3.017565\n",
      "epoch 21 1.2581904 1.2113459\n",
      "epoch 31 0.9329475 0.90491235\n",
      "epoch 41 0.8964598 0.8678624\n",
      "epoch 51 0.77653366 0.7525986\n",
      "epoch 61 0.71718484 0.694636\n",
      "epoch 71 0.6681214 0.6471714\n",
      "epoch 81 0.62271506 0.6057706\n",
      "epoch 91 0.5849308 0.5726033\n",
      "epoch 101 0.5526815 0.54353905\n",
      "epoch 111 0.52688235 0.52032125\n",
      "epoch 121 0.5052734 0.5010014\n",
      "epoch 131 0.48676783 0.48411128\n",
      "epoch 141 0.4708474 0.46961674\n",
      "epoch 151 0.45754716 0.45769167\n",
      "epoch 161 0.44640586 0.44785592\n",
      "epoch 171 0.43716112 0.439741\n",
      "epoch 181 0.4294841 0.4330978\n",
      "epoch 191 0.42306823 0.42760938\n",
      "epoch 201 0.4176008 0.42295972\n",
      "epoch 211 0.41282976 0.41889936\n",
      "epoch 221 0.40876943 0.41526604\n",
      "epoch 231 0.4052719 0.41206935\n",
      "epoch 241 0.402217 0.40929607\n",
      "epoch 251 0.39955637 0.4069147\n",
      "epoch 261 0.39722672 0.4048421\n",
      "epoch 271 0.3951404 0.40302148\n",
      "epoch 281 0.39323267 0.40140352\n",
      "epoch 291 0.39152348 0.39996424\n",
      "epoch 301 0.38999945 0.39863116\n",
      "epoch 311 0.38863832 0.3974058\n",
      "epoch 321 0.38740456 0.39633155\n",
      "epoch 331 0.3862528 0.395318\n",
      "epoch 341 0.3851667 0.39435783\n",
      "epoch 351 0.38413066 0.3934364\n",
      "epoch 361 0.38318396 0.3925994\n",
      "epoch 371 0.3822958 0.39179507\n",
      "epoch 381 0.3814548 0.39104876\n",
      "epoch 391 0.38064975 0.39033422\n",
      "epoch 401 0.37975222 0.38953924\n",
      "epoch 411 0.37886158 0.38868138\n",
      "epoch 421 0.37806788 0.38789284\n",
      "epoch 431 0.37733296 0.38730052\n",
      "epoch 441 0.37663445 0.38673294\n",
      "epoch 451 0.37597707 0.38618645\n",
      "epoch 461 0.37534186 0.38567466\n",
      "epoch 471 0.37471977 0.38517594\n",
      "epoch 481 0.37410596 0.38463703\n",
      "epoch 491 0.37349606 0.38409323\n"
     ]
    }
   ],
   "source": [
    "init = tf.global_variables_initializer()\n",
    "\n",
    "test_err = []\n",
    "train_err = []\n",
    "\n",
    "with tf.Session() as sess:\n",
    "    init.run()\n",
    "    \n",
    "    for epoch in range(500):\n",
    "        sess.run(training_op, \n",
    "                 feed_dict={X:X_train, y:y_train})\n",
    "        train_loss = sess.run(loss, feed_dict={X:X_train, y:y_train})\n",
    "        test_loss = sess.run(loss, feed_dict={X:X_test, y:y_test})\n",
    "        test_err.append(test_loss)\n",
    "        train_err.append(train_loss)\n",
    "        if epoch % 10 == 0:\n",
    "            print('epoch', epoch+1, train_loss, test_loss)\n",
    "        \n",
    "    pred = sess.run(y_hat, feed_dict={X:X_test})"
   ]
  },
  {
   "cell_type": "code",
   "execution_count": 9,
   "metadata": {},
   "outputs": [
    {
     "data": {
      "text/plain": [
       "0.7077858878113524"
      ]
     },
     "execution_count": 9,
     "metadata": {},
     "output_type": "execute_result"
    }
   ],
   "source": [
    "metrics.r2_score(y_test, pred)"
   ]
  },
  {
   "cell_type": "code",
   "execution_count": 10,
   "metadata": {},
   "outputs": [
    {
     "data": {
      "text/plain": [
       "<matplotlib.legend.Legend at 0x1cc65a48>"
      ]
     },
     "execution_count": 10,
     "metadata": {},
     "output_type": "execute_result"
    },
    {
     "data": {
      "image/png": "[encoded data removed]",
      "text/plain": [
       "<Figure size 432x288 with 1 Axes>"
      ]
     },
     "metadata": {
      "needs_background": "light"
     },
     "output_type": "display_data"
    }
   ],
   "source": [
    "plt.plot(train_err, label='Train error')\n",
    "plt.plot(test_err, label='Test error')\n",
    "plt.legend()"
   ]
  },
  {
   "cell_type": "markdown",
   "metadata": {},
   "source": [
    "## Building a Neural Network for Binary Classification\n",
    "\n",
    "---"
   ]
  },
  {
   "cell_type": "markdown",
   "metadata": {},
   "source": [
    "Now we'll build a neural net for _classification_.  We will follow the same steps as for regression:\n",
    "\n",
    "1. Load the data.\n",
    "2. Data cleaning/munging, feature engineering (will not do today)\n",
    "3. Make test/train splits. (Should we use cross validation?)\n",
    "4. Standardize the data.\n",
    "5. Build the computational graph for the neural network.\n",
    "6. Train the network using gradient descent a.k.a. back propagation.\n",
    "7. Evaluate performance and iterate.\n",
    "\n",
    "For _binary classification_ we will have one output unit that will represent the **probability** of \"class 1.\"  Because we want a probability as output, we need to select an activation function that yields values between 0 and 1, i.e., sigmoid function or similar."
   ]
  },
  {
   "cell_type": "code",
   "execution_count": 11,
   "metadata": {},
   "outputs": [],
   "source": [
    "from sklearn.datasets import load_breast_cancer\n",
    "\n",
    "data = load_breast_cancer()\n",
    "\n",
    "# 1 = benign\n",
    "# 0 = malignant\n",
    "\n",
    "X_train, X_test, y_train, y_test = train_test_split(data.data, data.target)\n",
    "\n",
    "y_train = y_train*-1 + 1\n",
    "y_test = y_test*-1 + 1\n",
    "\n",
    "y_train = y_train.reshape(-1,1)\n",
    "y_test = y_test.reshape(-1,1)\n",
    "\n",
    "ss = StandardScaler()\n",
    "X_train = ss.fit_transform(X_train)\n",
    "X_test = ss.transform(X_test)"
   ]
  },
  {
   "cell_type": "code",
   "execution_count": 12,
   "metadata": {},
   "outputs": [],
   "source": [
    "tf.reset_default_graph()\n",
    "\n",
    "X = tf.placeholder(dtype=tf.float32, \n",
    "                   shape=(None,X_train.shape[1]),\n",
    "                   name='X')\n",
    "y = tf.placeholder(dtype=tf.float32,\n",
    "                   shape=(None),\n",
    "                   name='y')\n",
    "\n",
    "hidden1 = tf.layers.dense(X, units=X_train.shape[1],\n",
    "                          name='hidden1',\n",
    "                          activation=tf.nn.relu)\n",
    "y_hat = tf.layers.dense(hidden1, units=1,\n",
    "                        name='y_hat',\n",
    "                        activation=tf.nn.sigmoid)\n",
    "\n",
    "loss = tf.losses.log_loss(y, y_hat)\n",
    "\n",
    "optimizer = tf.train.AdamOptimizer(0.01)\n",
    "\n",
    "training_op = optimizer.minimize(loss)"
   ]
  },
  {
   "cell_type": "code",
   "execution_count": 13,
   "metadata": {},
   "outputs": [
    {
     "name": "stdout",
     "output_type": "stream",
     "text": [
      "epoch 1 0.6387633 0.64847827\n",
      "epoch 11 0.12504847 0.15755431\n",
      "epoch 21 0.078290716 0.11268138\n",
      "epoch 31 0.062428813 0.10045332\n",
      "epoch 41 0.053400267 0.0908084\n",
      "epoch 51 0.046307188 0.08393338\n",
      "epoch 61 0.0403485 0.07980677\n",
      "epoch 71 0.035042435 0.07744216\n",
      "epoch 81 0.030239623 0.07644205\n",
      "epoch 91 0.02605488 0.07666324\n",
      "epoch 101 0.022439646 0.077234745\n",
      "epoch 111 0.019274924 0.077380955\n",
      "epoch 121 0.016582472 0.07776121\n",
      "epoch 131 0.014374987 0.0785972\n",
      "epoch 141 0.012546456 0.0790155\n",
      "epoch 151 0.01103523 0.0791237\n",
      "epoch 161 0.009756436 0.07994299\n",
      "epoch 171 0.008679709 0.080483094\n",
      "epoch 181 0.0077468213 0.0804897\n",
      "epoch 191 0.006933181 0.080979586\n",
      "epoch 201 0.006212608 0.0816677\n",
      "epoch 211 0.00557912 0.082303174\n",
      "epoch 221 0.005028383 0.08307457\n",
      "epoch 231 0.0045438884 0.0837942\n",
      "epoch 241 0.0041177575 0.08449109\n",
      "epoch 251 0.0037432243 0.085204065\n",
      "epoch 261 0.0034118448 0.08600622\n",
      "epoch 271 0.0031160787 0.086961955\n",
      "epoch 281 0.0028600993 0.08790386\n",
      "epoch 291 0.0026316503 0.08909058\n",
      "epoch 301 0.0024258744 0.09026104\n",
      "epoch 311 0.0022431698 0.0913252\n",
      "epoch 321 0.0020802752 0.092463575\n",
      "epoch 331 0.0019339193 0.09371414\n",
      "epoch 341 0.0018003858 0.09479273\n",
      "epoch 351 0.0016805003 0.095949695\n",
      "epoch 361 0.0015730557 0.096969806\n",
      "epoch 371 0.0014755734 0.09807547\n",
      "epoch 381 0.0013856458 0.099197835\n",
      "epoch 391 0.0013041829 0.100136116\n",
      "epoch 401 0.0012301317 0.10107447\n",
      "epoch 411 0.001161949 0.10206246\n",
      "epoch 421 0.0010989441 0.10300301\n",
      "epoch 431 0.0010404942 0.103871234\n",
      "epoch 441 0.0009866309 0.104788594\n",
      "epoch 451 0.00093728484 0.105676435\n",
      "epoch 461 0.0008913468 0.10650218\n",
      "epoch 471 0.00084866554 0.107234955\n",
      "epoch 481 0.0008091874 0.10803568\n",
      "epoch 491 0.0007722491 0.1088464\n",
      "epoch 501 0.0007374632 0.10958809\n"
     ]
    }
   ],
   "source": [
    "init = tf.global_variables_initializer()\n",
    "\n",
    "test_err = []\n",
    "train_err = []\n",
    "\n",
    "with tf.Session() as sess:\n",
    "    init.run()\n",
    "    \n",
    "    for epoch in range(501):\n",
    "        sess.run(training_op,\n",
    "                     feed_dict={X:X_train, y:y_train})\n",
    "        \n",
    "        train_loss = sess.run(loss, feed_dict={X:X_train, y:y_train})\n",
    "        test_loss = sess.run(loss, feed_dict={X:X_test, y:y_test})\n",
    "        test_err.append(test_loss)\n",
    "        train_err.append(train_loss)\n",
    "        if epoch % 10 == 0:\n",
    "            print('epoch', epoch+1, train_loss, test_loss)\n",
    "        \n",
    "    pred = sess.run(y_hat, feed_dict={X:X_test})"
   ]
  },
  {
   "cell_type": "code",
   "execution_count": 14,
   "metadata": {},
   "outputs": [
    {
     "data": {
      "text/plain": [
       "<matplotlib.legend.Legend at 0x20d497c8>"
      ]
     },
     "execution_count": 14,
     "metadata": {},
     "output_type": "execute_result"
    },
    {
     "data": {
      "image/png": "[encoded data removed]",
      "text/plain": [
       "<Figure size 432x288 with 1 Axes>"
      ]
     },
     "metadata": {
      "needs_background": "light"
     },
     "output_type": "display_data"
    }
   ],
   "source": [
    "plt.plot(train_err, label='Train error')\n",
    "plt.plot(test_err, label='Test error')\n",
    "plt.legend()"
   ]
  },
  {
   "cell_type": "markdown",
   "metadata": {},
   "source": [
    "Before moving on, let's go back and add a new hidden layer to our network..."
   ]
  },
  {
   "cell_type": "markdown",
   "metadata": {},
   "source": [
    "### Batching the input\n",
    "\n",
    "What if we can't store all of the training data in memory?\n",
    "\n",
    "We can split the data up into \"batches\" and feed them to the network one at a time."
   ]
  },
  {
   "cell_type": "code",
   "execution_count": 15,
   "metadata": {},
   "outputs": [],
   "source": [
    "kf = KFold(n_splits=2, shuffle=True, random_state=42)\n",
    "\n",
    "batches = [test for test, _ in kf.split(X_train, y_train)]"
   ]
  },
  {
   "cell_type": "code",
   "execution_count": 16,
   "metadata": {},
   "outputs": [
    {
     "name": "stdout",
     "output_type": "stream",
     "text": [
      "epoch 1 0.3768439 0.36087793\n",
      "epoch 11 0.0714488 0.09950546\n",
      "epoch 21 0.05107274 0.09013767\n",
      "epoch 31 0.040045716 0.08656746\n",
      "epoch 41 0.032125287 0.0877009\n",
      "epoch 51 0.025555944 0.08919564\n",
      "epoch 61 0.019807762 0.09348834\n",
      "epoch 71 0.015266014 0.09841517\n",
      "epoch 81 0.0118141025 0.107879974\n",
      "epoch 91 0.009299919 0.11493251\n",
      "epoch 101 0.007418267 0.12336645\n"
     ]
    }
   ],
   "source": [
    "init = tf.global_variables_initializer()\n",
    "\n",
    "test_err = []\n",
    "train_err = []\n",
    "\n",
    "with tf.Session() as sess:\n",
    "    init.run()\n",
    "    \n",
    "    for epoch in range(101):\n",
    "        for batch in batches:\n",
    "            X_batch = X_train[batch]\n",
    "            y_batch = y_train[batch]\n",
    "            sess.run(training_op,\n",
    "                     feed_dict={X:X_batch, y:y_batch})\n",
    "        \n",
    "        train_loss = sess.run(loss, feed_dict={X:X_train, y:y_train})\n",
    "        test_loss = sess.run(loss, feed_dict={X:X_test, y:y_test})\n",
    "        test_err.append(test_loss)\n",
    "        train_err.append(train_loss)\n",
    "        if epoch % 10 == 0:\n",
    "            print('epoch', epoch+1, train_loss, test_loss)\n",
    "        \n",
    "    pred = sess.run(y_hat, feed_dict={X:X_test})"
   ]
  },
  {
   "cell_type": "code",
   "execution_count": 17,
   "metadata": {},
   "outputs": [
    {
     "data": {
      "text/plain": [
       "<matplotlib.legend.Legend at 0x1c45da88>"
      ]
     },
     "execution_count": 17,
     "metadata": {},
     "output_type": "execute_result"
    },
    {
     "data": {
      "image/png": "[encoded data removed]",
      "text/plain": [
       "<Figure size 432x288 with 1 Axes>"
      ]
     },
     "metadata": {
      "needs_background": "light"
     },
     "output_type": "display_data"
    }
   ],
   "source": [
    "plt.plot(train_err, label='Train error')\n",
    "plt.plot(test_err, label='Test error')\n",
    "plt.legend()"
   ]
  },
  {
   "cell_type": "code",
   "execution_count": 18,
   "metadata": {},
   "outputs": [],
   "source": [
    "pred_bin = (pred > 0.5).astype(int)"
   ]
  },
  {
   "cell_type": "code",
   "execution_count": 19,
   "metadata": {},
   "outputs": [
    {
     "data": {
      "text/plain": [
       "0.9790209790209791"
      ]
     },
     "execution_count": 19,
     "metadata": {},
     "output_type": "execute_result"
    }
   ],
   "source": [
    "metrics.accuracy_score(y_test, pred_bin)"
   ]
  },
  {
   "cell_type": "code",
   "execution_count": 20,
   "metadata": {},
   "outputs": [
    {
     "data": {
      "text/plain": [
       "array([[92,  0],\n",
       "       [ 3, 48]], dtype=int64)"
      ]
     },
     "execution_count": 20,
     "metadata": {},
     "output_type": "execute_result"
    }
   ],
   "source": [
    "metrics.confusion_matrix(y_test, pred_bin)"
   ]
  },
  {
   "cell_type": "markdown",
   "metadata": {},
   "source": [
    "## Building a Neural Network for Multi-Class Classification\n",
    "\n",
    "---"
   ]
  },
  {
   "cell_type": "code",
   "execution_count": 21,
   "metadata": {},
   "outputs": [],
   "source": [
    "from sklearn.datasets import load_iris\n",
    "import pandas as pd"
   ]
  },
  {
   "cell_type": "code",
   "execution_count": 22,
   "metadata": {},
   "outputs": [],
   "source": [
    "data = load_iris()\n",
    "\n",
    "y = data.target\n",
    "y = pd.get_dummies(y).values\n",
    "\n",
    "X_train, X_test, y_train, y_test = train_test_split(data.data, y)\n",
    "\n",
    "\n",
    "ss = StandardScaler()\n",
    "X_train = ss.fit_transform(X_train)\n",
    "X_test = ss.transform(X_test)"
   ]
  },
  {
   "cell_type": "code",
   "execution_count": 23,
   "metadata": {},
   "outputs": [],
   "source": [
    "tf.reset_default_graph()\n",
    "\n",
    "X = tf.placeholder(dtype=tf.float32, \n",
    "                   shape=(None,X_train.shape[1]),\n",
    "                   name='X')\n",
    "y = tf.placeholder(dtype=tf.float32,\n",
    "                   shape=(None),\n",
    "                   name='y')\n",
    "\n",
    "hidden1 = tf.layers.dense(X, units=X_train.shape[1], \n",
    "                          name='hidden1',\n",
    "                          activation=tf.nn.relu)\n",
    "y_hat = tf.layers.dense(hidden1, \n",
    "                        units=y_train.shape[1],\n",
    "                        activation=tf.nn.softmax)\n",
    "\n",
    "loss = tf.losses.softmax_cross_entropy(y, y_hat)\n",
    "\n",
    "optimizer = tf.train.AdamOptimizer(0.01)\n",
    "\n",
    "training_op = optimizer.minimize(loss)\n",
    "\n",
    "saver = tf.train.Saver()"
   ]
  },
  {
   "cell_type": "code",
   "execution_count": 24,
   "metadata": {},
   "outputs": [
    {
     "name": "stdout",
     "output_type": "stream",
     "text": [
      "epoch 1 1.107857 1.0759689\n",
      "epoch 11 1.0396755 1.0252764\n",
      "epoch 21 0.98880965 0.97828984\n",
      "epoch 31 0.9342766 0.9332445\n",
      "epoch 41 0.87103385 0.8916174\n",
      "epoch 51 0.8120714 0.8541352\n",
      "epoch 61 0.77259296 0.8254249\n",
      "epoch 71 0.738698 0.79883564\n",
      "epoch 81 0.7033985 0.7620492\n",
      "epoch 91 0.6748104 0.72348356\n",
      "epoch 101 0.6568204 0.69734085\n",
      "epoch 111 0.6431262 0.67937654\n",
      "epoch 121 0.6311959 0.6663553\n",
      "epoch 131 0.62085134 0.6567682\n",
      "epoch 141 0.61223495 0.64805925\n",
      "epoch 151 0.60494274 0.64146984\n",
      "epoch 161 0.5987245 0.635914\n",
      "epoch 171 0.59371334 0.6296535\n",
      "epoch 181 0.590139 0.62526435\n",
      "epoch 191 0.58745414 0.6206932\n",
      "epoch 201 0.5853738 0.617888\n",
      "epoch 211 0.58367544 0.61686826\n",
      "epoch 221 0.5822827 0.6158249\n",
      "epoch 231 0.5811159 0.614928\n",
      "epoch 241 0.5801243 0.6140849\n",
      "epoch 251 0.5792699 0.6133992\n",
      "epoch 261 0.57852596 0.61272806\n",
      "epoch 271 0.5778719 0.61208993\n",
      "epoch 281 0.57729214 0.6114765\n",
      "epoch 291 0.5767746 0.61091614\n",
      "epoch 301 0.5763097 0.6103834\n",
      "epoch 311 0.5758899 0.6098756\n",
      "epoch 321 0.57550895 0.6093871\n",
      "epoch 331 0.5751618 0.60891813\n",
      "epoch 341 0.5748442 0.6084632\n",
      "epoch 351 0.5745525 0.60802066\n",
      "epoch 361 0.5742838 0.607589\n",
      "epoch 371 0.57403564 0.6071666\n",
      "epoch 381 0.57380563 0.60675365\n",
      "epoch 391 0.5735919 0.6063482\n",
      "epoch 401 0.57339275 0.6059487\n",
      "epoch 411 0.5732067 0.60555345\n",
      "epoch 421 0.57303244 0.60516447\n",
      "epoch 431 0.5728689 0.60477716\n",
      "epoch 441 0.5727148 0.60439247\n",
      "epoch 451 0.5725693 0.60400844\n",
      "epoch 461 0.57243156 0.6036243\n",
      "epoch 471 0.5723006 0.6032389\n",
      "epoch 481 0.5721758 0.60284454\n",
      "epoch 491 0.5720563 0.6024636\n",
      "epoch 501 0.5719414 0.6020637\n"
     ]
    }
   ],
   "source": [
    "init = tf.global_variables_initializer()\n",
    "\n",
    "test_err = []\n",
    "train_err = []\n",
    "\n",
    "with tf.Session() as sess:\n",
    "    init.run()\n",
    "    \n",
    "    for epoch in range(501):\n",
    "        sess.run(training_op,\n",
    "                 feed_dict={X:X_train, y:y_train})\n",
    "        \n",
    "        train_loss = sess.run(loss, feed_dict={X:X_train, y:y_train})\n",
    "        test_loss = sess.run(loss, feed_dict={X:X_test, y:y_test})\n",
    "        test_err.append(test_loss)\n",
    "        train_err.append(train_loss)\n",
    "        if epoch % 10 == 0:\n",
    "            print('epoch', epoch+1, train_loss, test_loss)\n",
    "            \n",
    "    saver.save(sess, './iris.ckpt')\n",
    "        \n",
    "    pred = sess.run(y_hat, feed_dict={X:X_test})"
   ]
  },
  {
   "cell_type": "code",
   "execution_count": 25,
   "metadata": {},
   "outputs": [
    {
     "data": {
      "text/plain": [
       "<matplotlib.legend.Legend at 0x1ea89488>"
      ]
     },
     "execution_count": 25,
     "metadata": {},
     "output_type": "execute_result"
    },
    {
     "data": {
      "image/png": "[encoded data removed]",
      "text/plain": [
       "<Figure size 432x288 with 1 Axes>"
      ]
     },
     "metadata": {
      "needs_background": "light"
     },
     "output_type": "display_data"
    }
   ],
   "source": [
    "plt.plot(train_err, label='Train error')\n",
    "plt.plot(test_err, label='Test error')\n",
    "plt.legend()"
   ]
  },
  {
   "cell_type": "code",
   "execution_count": 26,
   "metadata": {},
   "outputs": [
    {
     "data": {
      "text/plain": [
       "(array([2.1645034e-08, 6.9511105e-07, 9.9999928e-01], dtype=float32),\n",
       " array([0, 0, 1], dtype=uint8))"
      ]
     },
     "execution_count": 26,
     "metadata": {},
     "output_type": "execute_result"
    }
   ],
   "source": [
    "pred[0], y_test[0]"
   ]
  },
  {
   "cell_type": "markdown",
   "metadata": {},
   "source": [
    "## Saving Your Model\n",
    "\n",
    "---"
   ]
  },
  {
   "cell_type": "code",
   "execution_count": 27,
   "metadata": {},
   "outputs": [
    {
     "name": "stdout",
     "output_type": "stream",
     "text": [
      "WARNING:tensorflow:From C:\\Users\\User\\Anaconda3\\lib\\site-packages\\tensorflow\\python\\training\\saver.py:1266: checkpoint_exists (from tensorflow.python.training.checkpoint_management) is deprecated and will be removed in a future version.\n",
      "Instructions for updating:\n",
      "Use standard file APIs to check for files with this prefix.\n",
      "INFO:tensorflow:Restoring parameters from ./iris.ckpt\n"
     ]
    },
    {
     "data": {
      "text/plain": [
       "array([[2.1645034e-08, 6.9511105e-07, 9.9999928e-01],\n",
       "       [1.6985346e-04, 9.9981207e-01, 1.8083298e-05],\n",
       "       [9.9963558e-01, 3.6436488e-04, 3.1560585e-08],\n",
       "       [2.4478803e-09, 6.0288135e-06, 9.9999392e-01],\n",
       "       [1.0911635e-04, 9.9941623e-01, 4.7460946e-04],\n",
       "       [1.0532610e-03, 9.9743062e-01, 1.5161881e-03],\n",
       "       [9.9961215e-01, 3.8787973e-04, 5.7811100e-08],\n",
       "       [9.7663351e-06, 8.9541515e-03, 9.9103606e-01],\n",
       "       [4.0850355e-03, 8.5136980e-01, 1.4454520e-01],\n",
       "       [1.5433581e-06, 1.0547714e-03, 9.9894375e-01],\n",
       "       [6.5464783e-04, 7.8293972e-02, 9.2105138e-01],\n",
       "       [8.1751473e-08, 2.4678808e-05, 9.9997520e-01],\n",
       "       [9.9792337e-01, 2.0765399e-03, 3.6614427e-08],\n",
       "       [1.6304894e-04, 9.9849260e-01, 1.3443599e-03],\n",
       "       [9.9985921e-01, 1.4070800e-04, 4.0100876e-08],\n",
       "       [1.5261731e-04, 9.9982798e-01, 1.9406314e-05],\n",
       "       [2.3845691e-05, 5.8018053e-03, 9.9417442e-01],\n",
       "       [3.8007227e-05, 2.0226192e-01, 7.9770011e-01],\n",
       "       [4.5218826e-03, 9.9352479e-01, 1.9532668e-03],\n",
       "       [3.8398433e-08, 8.1166008e-06, 9.9999189e-01],\n",
       "       [1.0496023e-05, 3.2086805e-02, 9.6790278e-01],\n",
       "       [4.7096722e-02, 9.5271850e-01, 1.8477507e-04],\n",
       "       [3.3740025e-07, 9.1479487e-05, 9.9990821e-01],\n",
       "       [9.9998343e-01, 1.6481443e-05, 1.0470468e-07],\n",
       "       [6.9163018e-03, 9.9275368e-01, 3.2996174e-04],\n",
       "       [3.4193515e-09, 5.0692341e-07, 9.9999952e-01],\n",
       "       [2.8028961e-05, 4.2781435e-02, 9.5719051e-01],\n",
       "       [2.0932965e-03, 9.9745721e-01, 4.4943288e-04],\n",
       "       [1.1963974e-07, 1.2961294e-03, 9.9870372e-01],\n",
       "       [9.9921536e-01, 7.8457699e-04, 4.3350393e-08],\n",
       "       [3.9921775e-02, 9.5943975e-01, 6.3838356e-04],\n",
       "       [5.2215531e-05, 7.2460777e-01, 2.7534008e-01],\n",
       "       [6.7613444e-05, 9.9992549e-01, 6.9478447e-06],\n",
       "       [9.9974996e-01, 2.5004748e-04, 2.3614623e-08],\n",
       "       [4.5658776e-04, 9.9889332e-01, 6.5013266e-04],\n",
       "       [2.2039630e-09, 4.7321390e-07, 9.9999952e-01],\n",
       "       [8.5265274e-05, 9.9990857e-01, 6.2358777e-06],\n",
       "       [9.9999511e-01, 4.9315495e-06, 3.1120781e-08]], dtype=float32)"
      ]
     },
     "execution_count": 27,
     "metadata": {},
     "output_type": "execute_result"
    }
   ],
   "source": [
    "with tf.Session() as sess:\n",
    "    saver.restore(sess, './iris.ckpt')\n",
    "    pred = sess.run(y_hat, feed_dict={X:X_test})\n",
    "    \n",
    "pred"
   ]
  },
  {
   "cell_type": "code",
   "execution_count": 28,
   "metadata": {},
   "outputs": [
    {
     "data": {
      "text/plain": [
       "array([2, 1, 0, 2, 1, 1, 0, 2, 1, 2, 2, 2, 0, 1, 0, 1, 2, 2, 1, 2, 2, 1,\n",
       "       2, 0, 1, 2, 2, 1, 2, 0, 1, 1, 1, 0, 1, 2, 1, 0])"
      ]
     },
     "execution_count": 28,
     "metadata": {},
     "output_type": "execute_result"
    }
   ],
   "source": [
    "class_preds = np.empty(pred.shape[0], dtype=np.int32)\n",
    "for i,clas in enumerate(map(np.argmax, pred)):\n",
    "    class_preds[i] = clas\n",
    "    \n",
    "class_preds"
   ]
  },
  {
   "cell_type": "markdown",
   "metadata": {},
   "source": [
    "## Practical Suggestions\n",
    "\n",
    "---\n",
    "\n",
    "- In binary classification, start with a single output node with a sigmoid activation function.\n",
    "- For multi-class classification, have one output node for each class and use the softmax activation function.\n",
    "- For hidden layers, the ReLU and hyperbolic tangent (tanh) activation functions often work well.  Start with the ReLU as your first trial.\n",
    "- Start with one hidden layer, then trying adding another if performance is not good.\n",
    "- For simplicity, start with the same number of units in each hidden layer, then increase this number for all hidden layers simultaneously if the performance is not good.\n",
    "- Alternatively, you can use the \"stretchy pants\" approach and through a lot of hidden nodes into your network, but then stop training as soon as you detect the onset of overfitting.\n",
    "\n",
    "> These suggestions are largely adapted from the book _Hands-on Machine Learning with Scikit-Learn & Tensorflow_ by Aurelien Geron, a book I highly recommend!"
   ]
  },
  {
   "cell_type": "code",
   "execution_count": 29,
   "metadata": {},
   "outputs": [],
   "source": [
    "#!pip install tensorflow --upgrade"
   ]
  },
  {
   "cell_type": "code",
   "execution_count": 30,
   "metadata": {},
   "outputs": [],
   "source": [
    "#!pip show tensorflow"
   ]
  }
 ],
 "metadata": {
  "kernelspec": {
   "display_name": "Python 3",
   "language": "python",
   "name": "python3"
  },
  "language_info": {
   "codemirror_mode": {
    "name": "ipython",
    "version": 3
   },
   "file_extension": ".py",
   "mimetype": "text/x-python",
   "name": "python",
   "nbconvert_exporter": "python",
   "pygments_lexer": "ipython3",
   "version": "3.7.4"
  }
 },
 "nbformat": 4,
 "nbformat_minor": 2
}
