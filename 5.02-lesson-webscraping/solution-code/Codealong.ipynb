{
 "cells": [
  {
   "cell_type": "code",
   "execution_count": 1,
   "metadata": {},
   "outputs": [],
   "source": [
    "import pandas as pd\n",
    "import requests\n",
    "from bs4 import BeautifulSoup"
   ]
  },
  {
   "cell_type": "markdown",
   "metadata": {},
   "source": [
    "# Using the requests library"
   ]
  },
  {
   "cell_type": "code",
   "execution_count": 2,
   "metadata": {},
   "outputs": [],
   "source": [
    "url = 'https://rldaggie.github.io/sample-html/'\n",
    "res = requests.get(url)"
   ]
  },
  {
   "cell_type": "markdown",
   "metadata": {},
   "source": [
    "### Status Codes"
   ]
  },
  {
   "cell_type": "code",
   "execution_count": 3,
   "metadata": {},
   "outputs": [
    {
     "data": {
      "text/plain": [
       "200"
      ]
     },
     "execution_count": 3,
     "metadata": {},
     "output_type": "execute_result"
    }
   ],
   "source": [
    "res.status_code"
   ]
  },
  {
   "cell_type": "markdown",
   "metadata": {},
   "source": [
    "### Creating a `BeautifulSoup` object"
   ]
  },
  {
   "cell_type": "code",
   "execution_count": 4,
   "metadata": {},
   "outputs": [],
   "source": [
    "soup = BeautifulSoup(res.content, 'lxml')"
   ]
  },
  {
   "cell_type": "markdown",
   "metadata": {},
   "source": [
    "# `soup.find()`\n",
    "\n",
    "Returns either:\n",
    "\n",
    "1. A soup object of the first match\n",
    "2. `None`"
   ]
  },
  {
   "cell_type": "code",
   "execution_count": 5,
   "metadata": {},
   "outputs": [],
   "source": [
    "h1 = soup.find('h1')"
   ]
  },
  {
   "cell_type": "code",
   "execution_count": 6,
   "metadata": {},
   "outputs": [
    {
     "data": {
      "text/plain": [
       "bs4.element.Tag"
      ]
     },
     "execution_count": 6,
     "metadata": {},
     "output_type": "execute_result"
    }
   ],
   "source": [
    "type(h1)"
   ]
  },
  {
   "cell_type": "code",
   "execution_count": 7,
   "metadata": {},
   "outputs": [
    {
     "data": {
      "text/plain": [
       "'This is an h1'"
      ]
     },
     "execution_count": 7,
     "metadata": {},
     "output_type": "execute_result"
    }
   ],
   "source": [
    "h1.text"
   ]
  },
  {
   "cell_type": "code",
   "execution_count": 8,
   "metadata": {},
   "outputs": [
    {
     "data": {
      "text/plain": [
       "{'class': ['foobar'], 'id': 'title'}"
      ]
     },
     "execution_count": 8,
     "metadata": {},
     "output_type": "execute_result"
    }
   ],
   "source": [
    "h1.attrs"
   ]
  },
  {
   "cell_type": "code",
   "execution_count": 9,
   "metadata": {},
   "outputs": [
    {
     "name": "stdout",
     "output_type": "stream",
     "text": [
      "This is an h1\n"
     ]
    }
   ],
   "source": [
    "if h1:\n",
    "    print(h1.text)"
   ]
  },
  {
   "cell_type": "markdown",
   "metadata": {},
   "source": [
    "# `soup.find_all()`\n",
    "\n",
    "Returns a **_LIST_** of soup objects that match your query"
   ]
  },
  {
   "cell_type": "code",
   "execution_count": 10,
   "metadata": {},
   "outputs": [],
   "source": [
    "h1_tags = soup.find_all('h1')"
   ]
  },
  {
   "cell_type": "code",
   "execution_count": 11,
   "metadata": {},
   "outputs": [
    {
     "data": {
      "text/plain": [
       "['This is an h1', 'This is yet another heading.']"
      ]
     },
     "execution_count": 11,
     "metadata": {},
     "output_type": "execute_result"
    }
   ],
   "source": [
    "[tag.text for tag in h1_tags]"
   ]
  },
  {
   "cell_type": "code",
   "execution_count": 12,
   "metadata": {},
   "outputs": [
    {
     "data": {
      "text/plain": [
       "[{'class': ['foobar'], 'id': 'title'}, {'class': ['foobar']}]"
      ]
     },
     "execution_count": 12,
     "metadata": {},
     "output_type": "execute_result"
    }
   ],
   "source": [
    "[tag.attrs for tag in h1_tags]"
   ]
  },
  {
   "cell_type": "markdown",
   "metadata": {},
   "source": [
    "# Creating a `pandas` DataFrame from a scrape"
   ]
  },
  {
   "cell_type": "code",
   "execution_count": 13,
   "metadata": {},
   "outputs": [
    {
     "data": {
      "text/html": [
       "<div>\n",
       "<style scoped>\n",
       "    .dataframe tbody tr th:only-of-type {\n",
       "        vertical-align: middle;\n",
       "    }\n",
       "\n",
       "    .dataframe tbody tr th {\n",
       "        vertical-align: top;\n",
       "    }\n",
       "\n",
       "    .dataframe thead th {\n",
       "        text-align: right;\n",
       "    }\n",
       "</style>\n",
       "<table border=\"1\" class=\"dataframe\">\n",
       "  <thead>\n",
       "    <tr style=\"text-align: right;\">\n",
       "      <th></th>\n",
       "      <th>name</th>\n",
       "      <th>market</th>\n",
       "    </tr>\n",
       "  </thead>\n",
       "  <tbody>\n",
       "    <tr>\n",
       "      <td>0</td>\n",
       "      <td>Bethany</td>\n",
       "      <td>BOS</td>\n",
       "    </tr>\n",
       "    <tr>\n",
       "      <td>1</td>\n",
       "      <td>Tucker</td>\n",
       "      <td>NYC</td>\n",
       "    </tr>\n",
       "  </tbody>\n",
       "</table>\n",
       "</div>"
      ],
      "text/plain": [
       "      name market\n",
       "0  Bethany    BOS\n",
       "1   Tucker    NYC"
      ]
     },
     "execution_count": 13,
     "metadata": {},
     "output_type": "execute_result"
    }
   ],
   "source": [
    "#people = [\n",
    "#    {'name': 'Bethany', 'market': 'BOS'},\n",
    "#    {'name': 'Tucker', 'market': 'NYC'}\n",
    "#]\n",
    "\n",
    "people = {'name': ['Bethany','Tucker'], \n",
    "     'market': ['BOS','NYC']}\n",
    "\n",
    "pd.DataFrame(people)"
   ]
  },
  {
   "cell_type": "markdown",
   "metadata": {},
   "source": [
    "### Todo List"
   ]
  },
  {
   "cell_type": "code",
   "execution_count": 14,
   "metadata": {},
   "outputs": [
    {
     "data": {
      "text/plain": [
       "<ol class=\"done\">\n",
       "<li>Mow lawn</li>\n",
       "<li class=\"foobar\"><span>Take out compost</span></li>\n",
       "<li><span>Create scraping lecture</span></li>\n",
       "</ol>"
      ]
     },
     "execution_count": 14,
     "metadata": {},
     "output_type": "execute_result"
    }
   ],
   "source": [
    "ol = soup.find('ol', {'class': 'done'})\n",
    "ol"
   ]
  },
  {
   "cell_type": "code",
   "execution_count": 15,
   "metadata": {},
   "outputs": [
    {
     "data": {
      "text/html": [
       "<div>\n",
       "<style scoped>\n",
       "    .dataframe tbody tr th:only-of-type {\n",
       "        vertical-align: middle;\n",
       "    }\n",
       "\n",
       "    .dataframe tbody tr th {\n",
       "        vertical-align: top;\n",
       "    }\n",
       "\n",
       "    .dataframe thead th {\n",
       "        text-align: right;\n",
       "    }\n",
       "</style>\n",
       "<table border=\"1\" class=\"dataframe\">\n",
       "  <thead>\n",
       "    <tr style=\"text-align: right;\">\n",
       "      <th></th>\n",
       "      <th>task</th>\n",
       "    </tr>\n",
       "  </thead>\n",
       "  <tbody>\n",
       "    <tr>\n",
       "      <td>0</td>\n",
       "      <td>Mow lawn</td>\n",
       "    </tr>\n",
       "    <tr>\n",
       "      <td>1</td>\n",
       "      <td>Take out compost</td>\n",
       "    </tr>\n",
       "    <tr>\n",
       "      <td>2</td>\n",
       "      <td>Create scraping lecture</td>\n",
       "    </tr>\n",
       "  </tbody>\n",
       "</table>\n",
       "</div>"
      ],
      "text/plain": [
       "                      task\n",
       "0                 Mow lawn\n",
       "1         Take out compost\n",
       "2  Create scraping lecture"
      ]
     },
     "execution_count": 15,
     "metadata": {},
     "output_type": "execute_result"
    }
   ],
   "source": [
    "todos = []\n",
    "for li in ol.find_all('li'):\n",
    "    todo = {}\n",
    "    todo['task'] = li.text\n",
    "    todos.append(todo)\n",
    "pd.DataFrame(todos)"
   ]
  },
  {
   "cell_type": "markdown",
   "metadata": {},
   "source": [
    "### GA Directory"
   ]
  },
  {
   "cell_type": "code",
   "execution_count": 16,
   "metadata": {},
   "outputs": [],
   "source": [
    "table = soup.find('table', {'id': 'directory'})"
   ]
  },
  {
   "cell_type": "code",
   "execution_count": 17,
   "metadata": {},
   "outputs": [
    {
     "data": {
      "text/html": [
       "<div>\n",
       "<style scoped>\n",
       "    .dataframe tbody tr th:only-of-type {\n",
       "        vertical-align: middle;\n",
       "    }\n",
       "\n",
       "    .dataframe tbody tr th {\n",
       "        vertical-align: top;\n",
       "    }\n",
       "\n",
       "    .dataframe thead th {\n",
       "        text-align: right;\n",
       "    }\n",
       "</style>\n",
       "<table border=\"1\" class=\"dataframe\">\n",
       "  <thead>\n",
       "    <tr style=\"text-align: right;\">\n",
       "      <th></th>\n",
       "      <th>name</th>\n",
       "      <th>email</th>\n",
       "      <th>role</th>\n",
       "    </tr>\n",
       "  </thead>\n",
       "  <tbody>\n",
       "    <tr>\n",
       "      <td>0</td>\n",
       "      <td>Praveen</td>\n",
       "      <td>praveen@ga.co</td>\n",
       "      <td>Student</td>\n",
       "    </tr>\n",
       "    <tr>\n",
       "      <td>1</td>\n",
       "      <td>Fred</td>\n",
       "      <td>fred@ga.co</td>\n",
       "      <td>Student</td>\n",
       "    </tr>\n",
       "    <tr>\n",
       "      <td>2</td>\n",
       "      <td>Homer</td>\n",
       "      <td>homer@ga.co</td>\n",
       "      <td>Student</td>\n",
       "    </tr>\n",
       "    <tr>\n",
       "      <td>3</td>\n",
       "      <td>Kyle</td>\n",
       "      <td>kyle@ga.co</td>\n",
       "      <td>Student</td>\n",
       "    </tr>\n",
       "    <tr>\n",
       "      <td>4</td>\n",
       "      <td>Sam</td>\n",
       "      <td>sam@ga.co</td>\n",
       "      <td>Student</td>\n",
       "    </tr>\n",
       "    <tr>\n",
       "      <td>5</td>\n",
       "      <td>Javier</td>\n",
       "      <td>javier@ga.co</td>\n",
       "      <td>Student</td>\n",
       "    </tr>\n",
       "    <tr>\n",
       "      <td>6</td>\n",
       "      <td>Nengkuan</td>\n",
       "      <td>nengkuan@ga.co</td>\n",
       "      <td>Student</td>\n",
       "    </tr>\n",
       "    <tr>\n",
       "      <td>7</td>\n",
       "      <td>Kieth</td>\n",
       "      <td>kieth@ga.co</td>\n",
       "      <td>Student</td>\n",
       "    </tr>\n",
       "    <tr>\n",
       "      <td>8</td>\n",
       "      <td>Bola</td>\n",
       "      <td>bola@ga.co</td>\n",
       "      <td>Student</td>\n",
       "    </tr>\n",
       "    <tr>\n",
       "      <td>9</td>\n",
       "      <td>Steve</td>\n",
       "      <td>steve@ga.co</td>\n",
       "      <td>Student</td>\n",
       "    </tr>\n",
       "    <tr>\n",
       "      <td>10</td>\n",
       "      <td>Nichole</td>\n",
       "      <td>nichole@ga.co</td>\n",
       "      <td>Instructor</td>\n",
       "    </tr>\n",
       "    <tr>\n",
       "      <td>11</td>\n",
       "      <td>Riley</td>\n",
       "      <td>riley@ga.co</td>\n",
       "      <td>Instructor</td>\n",
       "    </tr>\n",
       "  </tbody>\n",
       "</table>\n",
       "</div>"
      ],
      "text/plain": [
       "        name           email        role\n",
       "0    Praveen   praveen@ga.co     Student\n",
       "1       Fred      fred@ga.co     Student\n",
       "2      Homer     homer@ga.co     Student\n",
       "3       Kyle      kyle@ga.co     Student\n",
       "4        Sam       sam@ga.co     Student\n",
       "5     Javier    javier@ga.co     Student\n",
       "6   Nengkuan  nengkuan@ga.co     Student\n",
       "7      Kieth     kieth@ga.co     Student\n",
       "8       Bola      bola@ga.co     Student\n",
       "9      Steve     steve@ga.co     Student\n",
       "10   Nichole   nichole@ga.co  Instructor\n",
       "11     Riley     riley@ga.co  Instructor"
      ]
     },
     "execution_count": 17,
     "metadata": {},
     "output_type": "execute_result"
    }
   ],
   "source": [
    "people = []\n",
    "for row in table.find('tbody').find_all('tr'):\n",
    "    person = {}\n",
    "    person['name'] = row.find('a').text.strip()\n",
    "    person['email'] = row.find('a').attrs['href'].replace('mailto:', '')\n",
    "    person['role'] = row.find('td').text.strip()\n",
    "    \n",
    "    people.append(person)\n",
    "pd.DataFrame(people)"
   ]
  },
  {
   "cell_type": "markdown",
   "metadata": {},
   "source": [
    "### Basketball Reference"
   ]
  },
  {
   "cell_type": "code",
   "execution_count": 18,
   "metadata": {},
   "outputs": [
    {
     "name": "stdout",
     "output_type": "stream",
     "text": [
      "200\n"
     ]
    }
   ],
   "source": [
    "url = 'https://www.basketball-reference.com/'\n",
    "res = requests.get(url)\n",
    "print(res.status_code)\n",
    "\n",
    "soup = BeautifulSoup(res.content, 'lxml')"
   ]
  },
  {
   "cell_type": "code",
   "execution_count": 19,
   "metadata": {},
   "outputs": [
    {
     "data": {
      "text/html": [
       "<div>\n",
       "<style scoped>\n",
       "    .dataframe tbody tr th:only-of-type {\n",
       "        vertical-align: middle;\n",
       "    }\n",
       "\n",
       "    .dataframe tbody tr th {\n",
       "        vertical-align: top;\n",
       "    }\n",
       "\n",
       "    .dataframe thead th {\n",
       "        text-align: right;\n",
       "    }\n",
       "</style>\n",
       "<table border=\"1\" class=\"dataframe\">\n",
       "  <thead>\n",
       "    <tr style=\"text-align: right;\">\n",
       "      <th></th>\n",
       "      <th>slug</th>\n",
       "      <th>name</th>\n",
       "      <th>wins</th>\n",
       "      <th>losses</th>\n",
       "      <th>rank</th>\n",
       "      <th>conference</th>\n",
       "    </tr>\n",
       "  </thead>\n",
       "  <tbody>\n",
       "    <tr>\n",
       "      <td>0</td>\n",
       "      <td>MIL</td>\n",
       "      <td>Milwaukee Bucks</td>\n",
       "      <td>53</td>\n",
       "      <td>12</td>\n",
       "      <td>1</td>\n",
       "      <td>E</td>\n",
       "    </tr>\n",
       "    <tr>\n",
       "      <td>1</td>\n",
       "      <td>TOR</td>\n",
       "      <td>Toronto Raptors</td>\n",
       "      <td>46</td>\n",
       "      <td>18</td>\n",
       "      <td>2</td>\n",
       "      <td>E</td>\n",
       "    </tr>\n",
       "    <tr>\n",
       "      <td>2</td>\n",
       "      <td>BOS</td>\n",
       "      <td>Boston Celtics</td>\n",
       "      <td>43</td>\n",
       "      <td>21</td>\n",
       "      <td>3</td>\n",
       "      <td>E</td>\n",
       "    </tr>\n",
       "    <tr>\n",
       "      <td>3</td>\n",
       "      <td>MIA</td>\n",
       "      <td>Miami Heat</td>\n",
       "      <td>41</td>\n",
       "      <td>24</td>\n",
       "      <td>4</td>\n",
       "      <td>E</td>\n",
       "    </tr>\n",
       "    <tr>\n",
       "      <td>4</td>\n",
       "      <td>IND</td>\n",
       "      <td>Indiana Pacers</td>\n",
       "      <td>39</td>\n",
       "      <td>26</td>\n",
       "      <td>5</td>\n",
       "      <td>E</td>\n",
       "    </tr>\n",
       "    <tr>\n",
       "      <td>5</td>\n",
       "      <td>PHI</td>\n",
       "      <td>Philadelphia 76ers</td>\n",
       "      <td>39</td>\n",
       "      <td>26</td>\n",
       "      <td>6</td>\n",
       "      <td>E</td>\n",
       "    </tr>\n",
       "    <tr>\n",
       "      <td>6</td>\n",
       "      <td>BRK</td>\n",
       "      <td>Brooklyn Nets</td>\n",
       "      <td>30</td>\n",
       "      <td>34</td>\n",
       "      <td>7</td>\n",
       "      <td>E</td>\n",
       "    </tr>\n",
       "    <tr>\n",
       "      <td>7</td>\n",
       "      <td>ORL</td>\n",
       "      <td>Orlando Magic</td>\n",
       "      <td>30</td>\n",
       "      <td>35</td>\n",
       "      <td>8</td>\n",
       "      <td>E</td>\n",
       "    </tr>\n",
       "    <tr>\n",
       "      <td>8</td>\n",
       "      <td>WAS</td>\n",
       "      <td>Washington Wizards</td>\n",
       "      <td>24</td>\n",
       "      <td>40</td>\n",
       "      <td>9</td>\n",
       "      <td>E</td>\n",
       "    </tr>\n",
       "    <tr>\n",
       "      <td>9</td>\n",
       "      <td>CHO</td>\n",
       "      <td>Charlotte Hornets</td>\n",
       "      <td>23</td>\n",
       "      <td>42</td>\n",
       "      <td>10</td>\n",
       "      <td>E</td>\n",
       "    </tr>\n",
       "    <tr>\n",
       "      <td>10</td>\n",
       "      <td>CHI</td>\n",
       "      <td>Chicago Bulls</td>\n",
       "      <td>22</td>\n",
       "      <td>43</td>\n",
       "      <td>11</td>\n",
       "      <td>E</td>\n",
       "    </tr>\n",
       "    <tr>\n",
       "      <td>11</td>\n",
       "      <td>NYK</td>\n",
       "      <td>New York Knicks</td>\n",
       "      <td>21</td>\n",
       "      <td>45</td>\n",
       "      <td>12</td>\n",
       "      <td>E</td>\n",
       "    </tr>\n",
       "    <tr>\n",
       "      <td>12</td>\n",
       "      <td>DET</td>\n",
       "      <td>Detroit Pistons</td>\n",
       "      <td>20</td>\n",
       "      <td>46</td>\n",
       "      <td>13</td>\n",
       "      <td>E</td>\n",
       "    </tr>\n",
       "    <tr>\n",
       "      <td>13</td>\n",
       "      <td>ATL</td>\n",
       "      <td>Atlanta Hawks</td>\n",
       "      <td>20</td>\n",
       "      <td>47</td>\n",
       "      <td>14</td>\n",
       "      <td>E</td>\n",
       "    </tr>\n",
       "    <tr>\n",
       "      <td>14</td>\n",
       "      <td>CLE</td>\n",
       "      <td>Cleveland Cavaliers</td>\n",
       "      <td>19</td>\n",
       "      <td>46</td>\n",
       "      <td>15</td>\n",
       "      <td>E</td>\n",
       "    </tr>\n",
       "    <tr>\n",
       "      <td>15</td>\n",
       "      <td>LAL</td>\n",
       "      <td>Los Angeles Lakers</td>\n",
       "      <td>49</td>\n",
       "      <td>14</td>\n",
       "      <td>1</td>\n",
       "      <td>W</td>\n",
       "    </tr>\n",
       "    <tr>\n",
       "      <td>16</td>\n",
       "      <td>LAC</td>\n",
       "      <td>Los Angeles Clippers</td>\n",
       "      <td>44</td>\n",
       "      <td>20</td>\n",
       "      <td>2</td>\n",
       "      <td>W</td>\n",
       "    </tr>\n",
       "    <tr>\n",
       "      <td>17</td>\n",
       "      <td>DEN</td>\n",
       "      <td>Denver Nuggets</td>\n",
       "      <td>43</td>\n",
       "      <td>22</td>\n",
       "      <td>3</td>\n",
       "      <td>W</td>\n",
       "    </tr>\n",
       "    <tr>\n",
       "      <td>18</td>\n",
       "      <td>UTA</td>\n",
       "      <td>Utah Jazz</td>\n",
       "      <td>41</td>\n",
       "      <td>23</td>\n",
       "      <td>4</td>\n",
       "      <td>W</td>\n",
       "    </tr>\n",
       "    <tr>\n",
       "      <td>19</td>\n",
       "      <td>OKC</td>\n",
       "      <td>Oklahoma City Thunder</td>\n",
       "      <td>40</td>\n",
       "      <td>24</td>\n",
       "      <td>5</td>\n",
       "      <td>W</td>\n",
       "    </tr>\n",
       "    <tr>\n",
       "      <td>20</td>\n",
       "      <td>HOU</td>\n",
       "      <td>Houston Rockets</td>\n",
       "      <td>40</td>\n",
       "      <td>24</td>\n",
       "      <td>6</td>\n",
       "      <td>W</td>\n",
       "    </tr>\n",
       "    <tr>\n",
       "      <td>21</td>\n",
       "      <td>DAL</td>\n",
       "      <td>Dallas Mavericks</td>\n",
       "      <td>40</td>\n",
       "      <td>27</td>\n",
       "      <td>7</td>\n",
       "      <td>W</td>\n",
       "    </tr>\n",
       "    <tr>\n",
       "      <td>22</td>\n",
       "      <td>MEM</td>\n",
       "      <td>Memphis Grizzlies</td>\n",
       "      <td>32</td>\n",
       "      <td>33</td>\n",
       "      <td>8</td>\n",
       "      <td>W</td>\n",
       "    </tr>\n",
       "    <tr>\n",
       "      <td>23</td>\n",
       "      <td>POR</td>\n",
       "      <td>Portland Trail Blazers</td>\n",
       "      <td>29</td>\n",
       "      <td>37</td>\n",
       "      <td>9</td>\n",
       "      <td>W</td>\n",
       "    </tr>\n",
       "    <tr>\n",
       "      <td>24</td>\n",
       "      <td>NOP</td>\n",
       "      <td>New Orleans Pelicans</td>\n",
       "      <td>28</td>\n",
       "      <td>36</td>\n",
       "      <td>10</td>\n",
       "      <td>W</td>\n",
       "    </tr>\n",
       "    <tr>\n",
       "      <td>25</td>\n",
       "      <td>SAC</td>\n",
       "      <td>Sacramento Kings</td>\n",
       "      <td>28</td>\n",
       "      <td>36</td>\n",
       "      <td>11</td>\n",
       "      <td>W</td>\n",
       "    </tr>\n",
       "    <tr>\n",
       "      <td>26</td>\n",
       "      <td>SAS</td>\n",
       "      <td>San Antonio Spurs</td>\n",
       "      <td>27</td>\n",
       "      <td>36</td>\n",
       "      <td>12</td>\n",
       "      <td>W</td>\n",
       "    </tr>\n",
       "    <tr>\n",
       "      <td>27</td>\n",
       "      <td>PHO</td>\n",
       "      <td>Phoenix Suns</td>\n",
       "      <td>26</td>\n",
       "      <td>39</td>\n",
       "      <td>13</td>\n",
       "      <td>W</td>\n",
       "    </tr>\n",
       "    <tr>\n",
       "      <td>28</td>\n",
       "      <td>MIN</td>\n",
       "      <td>Minnesota Timberwolves</td>\n",
       "      <td>19</td>\n",
       "      <td>45</td>\n",
       "      <td>14</td>\n",
       "      <td>W</td>\n",
       "    </tr>\n",
       "    <tr>\n",
       "      <td>29</td>\n",
       "      <td>GSW</td>\n",
       "      <td>Golden State Warriors</td>\n",
       "      <td>15</td>\n",
       "      <td>50</td>\n",
       "      <td>15</td>\n",
       "      <td>W</td>\n",
       "    </tr>\n",
       "  </tbody>\n",
       "</table>\n",
       "</div>"
      ],
      "text/plain": [
       "   slug                    name wins losses rank conference\n",
       "0   MIL         Milwaukee Bucks   53     12    1          E\n",
       "1   TOR         Toronto Raptors   46     18    2          E\n",
       "2   BOS          Boston Celtics   43     21    3          E\n",
       "3   MIA              Miami Heat   41     24    4          E\n",
       "4   IND          Indiana Pacers   39     26    5          E\n",
       "5   PHI      Philadelphia 76ers   39     26    6          E\n",
       "6   BRK           Brooklyn Nets   30     34    7          E\n",
       "7   ORL           Orlando Magic   30     35    8          E\n",
       "8   WAS      Washington Wizards   24     40    9          E\n",
       "9   CHO       Charlotte Hornets   23     42   10          E\n",
       "10  CHI           Chicago Bulls   22     43   11          E\n",
       "11  NYK         New York Knicks   21     45   12          E\n",
       "12  DET         Detroit Pistons   20     46   13          E\n",
       "13  ATL           Atlanta Hawks   20     47   14          E\n",
       "14  CLE     Cleveland Cavaliers   19     46   15          E\n",
       "15  LAL      Los Angeles Lakers   49     14    1          W\n",
       "16  LAC    Los Angeles Clippers   44     20    2          W\n",
       "17  DEN          Denver Nuggets   43     22    3          W\n",
       "18  UTA               Utah Jazz   41     23    4          W\n",
       "19  OKC   Oklahoma City Thunder   40     24    5          W\n",
       "20  HOU         Houston Rockets   40     24    6          W\n",
       "21  DAL        Dallas Mavericks   40     27    7          W\n",
       "22  MEM       Memphis Grizzlies   32     33    8          W\n",
       "23  POR  Portland Trail Blazers   29     37    9          W\n",
       "24  NOP    New Orleans Pelicans   28     36   10          W\n",
       "25  SAC        Sacramento Kings   28     36   11          W\n",
       "26  SAS       San Antonio Spurs   27     36   12          W\n",
       "27  PHO            Phoenix Suns   26     39   13          W\n",
       "28  MIN  Minnesota Timberwolves   19     45   14          W\n",
       "29  GSW   Golden State Warriors   15     50   15          W"
      ]
     },
     "execution_count": 19,
     "metadata": {},
     "output_type": "execute_result"
    }
   ],
   "source": [
    "teams = []\n",
    "for conf in ['E', 'W']:\n",
    "    table = soup.find('table', {'id': 'confs_standings_'+conf})\n",
    "    for row in table.find('tbody').find_all('tr'):\n",
    "        team = {}\n",
    "        team['slug'] = row.find('a').text\n",
    "        team['name'] = row.find('a').attrs['title']\n",
    "        team['wins'] = row.find_all('td')[2].text\n",
    "        team['wins'] = row.find('td', {'data-stat': 'wins'}).text\n",
    "        team['losses'] = row.find('td', {'data-stat': 'losses'}).text\n",
    "        team['rank'] = row.find('span').text.strip()[1:-1]\n",
    "        team['conference'] = conf\n",
    "\n",
    "        teams.append(team)\n",
    "df = pd.DataFrame(teams)\n",
    "df"
   ]
  },
  {
   "cell_type": "code",
   "execution_count": 20,
   "metadata": {},
   "outputs": [
    {
     "data": {
      "text/plain": [
       "slug          object\n",
       "name          object\n",
       "wins          object\n",
       "losses        object\n",
       "rank          object\n",
       "conference    object\n",
       "dtype: object"
      ]
     },
     "execution_count": 20,
     "metadata": {},
     "output_type": "execute_result"
    }
   ],
   "source": [
    "df.dtypes"
   ]
  }
 ],
 "metadata": {
  "kernelspec": {
   "display_name": "Python 3",
   "language": "python",
   "name": "python3"
  },
  "language_info": {
   "codemirror_mode": {
    "name": "ipython",
    "version": 3
   },
   "file_extension": ".py",
   "mimetype": "text/x-python",
   "name": "python",
   "nbconvert_exporter": "python",
   "pygments_lexer": "ipython3",
   "version": "3.7.4"
  }
 },
 "nbformat": 4,
 "nbformat_minor": 2
}
