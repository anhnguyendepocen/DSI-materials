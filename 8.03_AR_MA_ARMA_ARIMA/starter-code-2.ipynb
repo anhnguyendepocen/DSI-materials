{
 "cells": [
  {
   "cell_type": "markdown",
   "metadata": {},
   "source": [
    "# ARIMA Modeling\n",
    "\n",
    "> Authors: Joseph Nelson, Justin Pounders, Matt Brems\n",
    "\n",
    "### Learning Objectives\n",
    "By the end of this lesson, students should be able to:\n",
    "- Generate and interpret ACF and PACF plots.\n",
    "- Create a proper train/test split on time series data.\n",
    "- Define stationarity.\n",
    "- Conduct and interpret an augmented Dickey-Fuller test for stationarity.\n",
    "- Construct integrated autoregressive moving average (ARIMA) models.\n",
    "- Describe when autoregressive models and moving average models are appropriate.\n",
    "- Identify the optimal values of parameters $p$, $d$, and $q$ through GridSearch.\n",
    "- Identify when seasonality exists in time series data.\n",
    "- Fit and tune a SARIMAX model.\n",
    "- Fit a multivariate time series model."
   ]
  },
  {
   "cell_type": "code",
   "execution_count": 1,
   "metadata": {},
   "outputs": [],
   "source": [
    "# Run this to ensure that statsmodels is version 0.9.0 and scipy is version 1.2.0.\n",
    "# !pip install scipy statsmodels --upgrade"
   ]
  },
  {
   "cell_type": "code",
   "execution_count": 2,
   "metadata": {},
   "outputs": [],
   "source": [
    "import pandas as pd\n",
    "import numpy as np\n",
    "import matplotlib.pyplot as plt\n",
    "\n",
    "import statsmodels.api as sm\n",
    "from statsmodels.tsa.stattools import acf, pacf\n",
    "from statsmodels.graphics.tsaplots import plot_acf, plot_pacf\n",
    "from statsmodels.tsa.seasonal import seasonal_decompose\n",
    "\n",
    "%matplotlib inline"
   ]
  },
  {
   "cell_type": "code",
   "execution_count": 3,
   "metadata": {},
   "outputs": [],
   "source": [
    "# We are required to do this in order to avoid \"FutureWarning\" issues.\n",
    "from pandas.plotting import register_matplotlib_converters\n",
    "register_matplotlib_converters()"
   ]
  },
  {
   "cell_type": "markdown",
   "metadata": {},
   "source": [
    "### Bus Ridership Data\n",
    "> We're going to work with bus ridership data from the 1970s and 1980s. We have:\n",
    "- `date`: the start date for that month's ridership.\n",
    "- `bus_ridership`: how many people rode the bus each month (in thousands).\n",
    "\n",
    "### Portland Precipitation Data\n",
    "> We also have [precipitation data](https://w2.weather.gov/climate/local_data.php?wfo=PQR) measuring the amount of precipitation that fell at Portland's airport during the same dates as the bus ridership data was collected (1973-1982).\n",
    "- `YR`: the year the data was measured.\n",
    "- `MO`: the month the data was measured.\n",
    "- `total_precip`: the amount of precipitation (in inches)."
   ]
  },
  {
   "cell_type": "code",
   "execution_count": 4,
   "metadata": {},
   "outputs": [
    {
     "data": {
      "text/html": [
       "<div>\n",
       "<style scoped>\n",
       "    .dataframe tbody tr th:only-of-type {\n",
       "        vertical-align: middle;\n",
       "    }\n",
       "\n",
       "    .dataframe tbody tr th {\n",
       "        vertical-align: top;\n",
       "    }\n",
       "\n",
       "    .dataframe thead th {\n",
       "        text-align: right;\n",
       "    }\n",
       "</style>\n",
       "<table border=\"1\" class=\"dataframe\">\n",
       "  <thead>\n",
       "    <tr style=\"text-align: right;\">\n",
       "      <th></th>\n",
       "      <th>date</th>\n",
       "      <th>bus_ridership</th>\n",
       "    </tr>\n",
       "  </thead>\n",
       "  <tbody>\n",
       "    <tr>\n",
       "      <th>0</th>\n",
       "      <td>1973-01-01</td>\n",
       "      <td>648</td>\n",
       "    </tr>\n",
       "    <tr>\n",
       "      <th>1</th>\n",
       "      <td>1973-02-01</td>\n",
       "      <td>646</td>\n",
       "    </tr>\n",
       "    <tr>\n",
       "      <th>2</th>\n",
       "      <td>1973-03-02</td>\n",
       "      <td>639</td>\n",
       "    </tr>\n",
       "    <tr>\n",
       "      <th>3</th>\n",
       "      <td>1973-04-02</td>\n",
       "      <td>654</td>\n",
       "    </tr>\n",
       "    <tr>\n",
       "      <th>4</th>\n",
       "      <td>1973-05-02</td>\n",
       "      <td>630</td>\n",
       "    </tr>\n",
       "  </tbody>\n",
       "</table>\n",
       "</div>"
      ],
      "text/plain": [
       "         date  bus_ridership\n",
       "0  1973-01-01            648\n",
       "1  1973-02-01            646\n",
       "2  1973-03-02            639\n",
       "3  1973-04-02            654\n",
       "4  1973-05-02            630"
      ]
     },
     "execution_count": 4,
     "metadata": {},
     "output_type": "execute_result"
    }
   ],
   "source": [
    "# Read in data.\n",
    "bus = pd.read_csv('./datasets/bus.csv')\n",
    "\n",
    "# Check out first five rows.\n",
    "bus.head()"
   ]
  },
  {
   "cell_type": "code",
   "execution_count": 5,
   "metadata": {},
   "outputs": [
    {
     "data": {
      "text/html": [
       "<div>\n",
       "<style scoped>\n",
       "    .dataframe tbody tr th:only-of-type {\n",
       "        vertical-align: middle;\n",
       "    }\n",
       "\n",
       "    .dataframe tbody tr th {\n",
       "        vertical-align: top;\n",
       "    }\n",
       "\n",
       "    .dataframe thead th {\n",
       "        text-align: right;\n",
       "    }\n",
       "</style>\n",
       "<table border=\"1\" class=\"dataframe\">\n",
       "  <thead>\n",
       "    <tr style=\"text-align: right;\">\n",
       "      <th></th>\n",
       "      <th>YR</th>\n",
       "      <th>MO</th>\n",
       "      <th>total_precip</th>\n",
       "    </tr>\n",
       "  </thead>\n",
       "  <tbody>\n",
       "    <tr>\n",
       "      <th>0</th>\n",
       "      <td>1973</td>\n",
       "      <td>1</td>\n",
       "      <td>3.69</td>\n",
       "    </tr>\n",
       "    <tr>\n",
       "      <th>1</th>\n",
       "      <td>1973</td>\n",
       "      <td>2</td>\n",
       "      <td>1.94</td>\n",
       "    </tr>\n",
       "    <tr>\n",
       "      <th>2</th>\n",
       "      <td>1973</td>\n",
       "      <td>3</td>\n",
       "      <td>2.45</td>\n",
       "    </tr>\n",
       "    <tr>\n",
       "      <th>3</th>\n",
       "      <td>1973</td>\n",
       "      <td>4</td>\n",
       "      <td>1.33</td>\n",
       "    </tr>\n",
       "    <tr>\n",
       "      <th>4</th>\n",
       "      <td>1973</td>\n",
       "      <td>5</td>\n",
       "      <td>1.43</td>\n",
       "    </tr>\n",
       "  </tbody>\n",
       "</table>\n",
       "</div>"
      ],
      "text/plain": [
       "     YR  MO total_precip\n",
       "0  1973   1         3.69\n",
       "1  1973   2         1.94\n",
       "2  1973   3         2.45\n",
       "3  1973   4         1.33\n",
       "4  1973   5         1.43"
      ]
     },
     "execution_count": 5,
     "metadata": {},
     "output_type": "execute_result"
    }
   ],
   "source": [
    "# Read in data.\n",
    "precip = pd.read_csv('./datasets/precipitation.csv')\n",
    "\n",
    "# Check out first five rows.\n",
    "precip.head()"
   ]
  },
  {
   "cell_type": "code",
   "execution_count": 6,
   "metadata": {},
   "outputs": [],
   "source": [
    "portland = pd.merge(left=bus,\n",
    "                    right=precip,\n",
    "                    left_on=bus.index,\n",
    "                    right_on=precip.index)"
   ]
  },
  {
   "cell_type": "code",
   "execution_count": 7,
   "metadata": {},
   "outputs": [
    {
     "data": {
      "text/html": [
       "<div>\n",
       "<style scoped>\n",
       "    .dataframe tbody tr th:only-of-type {\n",
       "        vertical-align: middle;\n",
       "    }\n",
       "\n",
       "    .dataframe tbody tr th {\n",
       "        vertical-align: top;\n",
       "    }\n",
       "\n",
       "    .dataframe thead th {\n",
       "        text-align: right;\n",
       "    }\n",
       "</style>\n",
       "<table border=\"1\" class=\"dataframe\">\n",
       "  <thead>\n",
       "    <tr style=\"text-align: right;\">\n",
       "      <th></th>\n",
       "      <th>key_0</th>\n",
       "      <th>date</th>\n",
       "      <th>bus_ridership</th>\n",
       "      <th>YR</th>\n",
       "      <th>MO</th>\n",
       "      <th>total_precip</th>\n",
       "    </tr>\n",
       "  </thead>\n",
       "  <tbody>\n",
       "    <tr>\n",
       "      <th>0</th>\n",
       "      <td>0</td>\n",
       "      <td>1973-01-01</td>\n",
       "      <td>648</td>\n",
       "      <td>1973</td>\n",
       "      <td>1</td>\n",
       "      <td>3.69</td>\n",
       "    </tr>\n",
       "    <tr>\n",
       "      <th>1</th>\n",
       "      <td>1</td>\n",
       "      <td>1973-02-01</td>\n",
       "      <td>646</td>\n",
       "      <td>1973</td>\n",
       "      <td>2</td>\n",
       "      <td>1.94</td>\n",
       "    </tr>\n",
       "    <tr>\n",
       "      <th>2</th>\n",
       "      <td>2</td>\n",
       "      <td>1973-03-02</td>\n",
       "      <td>639</td>\n",
       "      <td>1973</td>\n",
       "      <td>3</td>\n",
       "      <td>2.45</td>\n",
       "    </tr>\n",
       "    <tr>\n",
       "      <th>3</th>\n",
       "      <td>3</td>\n",
       "      <td>1973-04-02</td>\n",
       "      <td>654</td>\n",
       "      <td>1973</td>\n",
       "      <td>4</td>\n",
       "      <td>1.33</td>\n",
       "    </tr>\n",
       "    <tr>\n",
       "      <th>4</th>\n",
       "      <td>4</td>\n",
       "      <td>1973-05-02</td>\n",
       "      <td>630</td>\n",
       "      <td>1973</td>\n",
       "      <td>5</td>\n",
       "      <td>1.43</td>\n",
       "    </tr>\n",
       "  </tbody>\n",
       "</table>\n",
       "</div>"
      ],
      "text/plain": [
       "   key_0        date  bus_ridership    YR  MO total_precip\n",
       "0      0  1973-01-01            648  1973   1         3.69\n",
       "1      1  1973-02-01            646  1973   2         1.94\n",
       "2      2  1973-03-02            639  1973   3         2.45\n",
       "3      3  1973-04-02            654  1973   4         1.33\n",
       "4      4  1973-05-02            630  1973   5         1.43"
      ]
     },
     "execution_count": 7,
     "metadata": {},
     "output_type": "execute_result"
    }
   ],
   "source": [
    "portland.head()"
   ]
  },
  {
   "cell_type": "code",
   "execution_count": 8,
   "metadata": {},
   "outputs": [],
   "source": [
    "portland.drop(columns=['key_0', 'YR', 'MO'], inplace=True)"
   ]
  },
  {
   "cell_type": "code",
   "execution_count": 9,
   "metadata": {},
   "outputs": [
    {
     "data": {
      "text/html": [
       "<div>\n",
       "<style scoped>\n",
       "    .dataframe tbody tr th:only-of-type {\n",
       "        vertical-align: middle;\n",
       "    }\n",
       "\n",
       "    .dataframe tbody tr th {\n",
       "        vertical-align: top;\n",
       "    }\n",
       "\n",
       "    .dataframe thead th {\n",
       "        text-align: right;\n",
       "    }\n",
       "</style>\n",
       "<table border=\"1\" class=\"dataframe\">\n",
       "  <thead>\n",
       "    <tr style=\"text-align: right;\">\n",
       "      <th></th>\n",
       "      <th>date</th>\n",
       "      <th>bus_ridership</th>\n",
       "      <th>total_precip</th>\n",
       "    </tr>\n",
       "  </thead>\n",
       "  <tbody>\n",
       "    <tr>\n",
       "      <th>0</th>\n",
       "      <td>1973-01-01</td>\n",
       "      <td>648</td>\n",
       "      <td>3.69</td>\n",
       "    </tr>\n",
       "    <tr>\n",
       "      <th>1</th>\n",
       "      <td>1973-02-01</td>\n",
       "      <td>646</td>\n",
       "      <td>1.94</td>\n",
       "    </tr>\n",
       "    <tr>\n",
       "      <th>2</th>\n",
       "      <td>1973-03-02</td>\n",
       "      <td>639</td>\n",
       "      <td>2.45</td>\n",
       "    </tr>\n",
       "    <tr>\n",
       "      <th>3</th>\n",
       "      <td>1973-04-02</td>\n",
       "      <td>654</td>\n",
       "      <td>1.33</td>\n",
       "    </tr>\n",
       "    <tr>\n",
       "      <th>4</th>\n",
       "      <td>1973-05-02</td>\n",
       "      <td>630</td>\n",
       "      <td>1.43</td>\n",
       "    </tr>\n",
       "  </tbody>\n",
       "</table>\n",
       "</div>"
      ],
      "text/plain": [
       "         date  bus_ridership total_precip\n",
       "0  1973-01-01            648         3.69\n",
       "1  1973-02-01            646         1.94\n",
       "2  1973-03-02            639         2.45\n",
       "3  1973-04-02            654         1.33\n",
       "4  1973-05-02            630         1.43"
      ]
     },
     "execution_count": 9,
     "metadata": {},
     "output_type": "execute_result"
    }
   ],
   "source": [
    "portland.head()"
   ]
  },
  {
   "cell_type": "markdown",
   "metadata": {},
   "source": [
    "### Create a Date Index for the Data\n",
    "We are going to change our index to match the date."
   ]
  },
  {
   "cell_type": "code",
   "execution_count": 10,
   "metadata": {},
   "outputs": [],
   "source": [
    "# Use the \"date\" column to set the index.\n",
    "portland.set_index('date', inplace=True)"
   ]
  },
  {
   "cell_type": "code",
   "execution_count": 11,
   "metadata": {},
   "outputs": [
    {
     "data": {
      "text/html": [
       "<div>\n",
       "<style scoped>\n",
       "    .dataframe tbody tr th:only-of-type {\n",
       "        vertical-align: middle;\n",
       "    }\n",
       "\n",
       "    .dataframe tbody tr th {\n",
       "        vertical-align: top;\n",
       "    }\n",
       "\n",
       "    .dataframe thead th {\n",
       "        text-align: right;\n",
       "    }\n",
       "</style>\n",
       "<table border=\"1\" class=\"dataframe\">\n",
       "  <thead>\n",
       "    <tr style=\"text-align: right;\">\n",
       "      <th></th>\n",
       "      <th>bus_ridership</th>\n",
       "      <th>total_precip</th>\n",
       "    </tr>\n",
       "    <tr>\n",
       "      <th>date</th>\n",
       "      <th></th>\n",
       "      <th></th>\n",
       "    </tr>\n",
       "  </thead>\n",
       "  <tbody>\n",
       "    <tr>\n",
       "      <th>1973-01-01</th>\n",
       "      <td>648</td>\n",
       "      <td>3.69</td>\n",
       "    </tr>\n",
       "    <tr>\n",
       "      <th>1973-02-01</th>\n",
       "      <td>646</td>\n",
       "      <td>1.94</td>\n",
       "    </tr>\n",
       "    <tr>\n",
       "      <th>1973-03-02</th>\n",
       "      <td>639</td>\n",
       "      <td>2.45</td>\n",
       "    </tr>\n",
       "    <tr>\n",
       "      <th>1973-04-02</th>\n",
       "      <td>654</td>\n",
       "      <td>1.33</td>\n",
       "    </tr>\n",
       "    <tr>\n",
       "      <th>1973-05-02</th>\n",
       "      <td>630</td>\n",
       "      <td>1.43</td>\n",
       "    </tr>\n",
       "  </tbody>\n",
       "</table>\n",
       "</div>"
      ],
      "text/plain": [
       "            bus_ridership total_precip\n",
       "date                                  \n",
       "1973-01-01            648         3.69\n",
       "1973-02-01            646         1.94\n",
       "1973-03-02            639         2.45\n",
       "1973-04-02            654         1.33\n",
       "1973-05-02            630         1.43"
      ]
     },
     "execution_count": 11,
     "metadata": {},
     "output_type": "execute_result"
    }
   ],
   "source": [
    "# Confirm that we did this correctly.\n",
    "portland.head()"
   ]
  },
  {
   "cell_type": "code",
   "execution_count": 12,
   "metadata": {},
   "outputs": [
    {
     "data": {
      "text/plain": [
       "Index(['1973-01-01', '1973-02-01', '1973-03-02', '1973-04-02', '1973-05-02',\n",
       "       '1973-06-02', '1973-07-02', '1973-08-02', '1973-09-02', '1973-10-02',\n",
       "       ...\n",
       "       '1981-09-02', '1981-10-02', '1981-11-02', '1981-12-02', '1982-01-02',\n",
       "       '1982-02-02', '1982-03-02', '1982-04-02', '1982-05-02', '1982-06-02'],\n",
       "      dtype='object', name='date', length=114)"
      ]
     },
     "execution_count": 12,
     "metadata": {},
     "output_type": "execute_result"
    }
   ],
   "source": [
    "# Check out the index only.\n",
    "portland.index"
   ]
  },
  {
   "cell_type": "markdown",
   "metadata": {},
   "source": [
    "Rather than have the index show the start date for the month, let it be the end date so it reflects when the value was recorded."
   ]
  },
  {
   "cell_type": "code",
   "execution_count": 13,
   "metadata": {},
   "outputs": [
    {
     "data": {
      "text/plain": [
       "DatetimeIndex(['1973-01-31', '1973-02-28', '1973-03-31', '1973-04-30',\n",
       "               '1973-05-31', '1973-06-30', '1973-07-31', '1973-08-31',\n",
       "               '1973-09-30', '1973-10-31',\n",
       "               ...\n",
       "               '1981-09-30', '1981-10-31', '1981-11-30', '1981-12-31',\n",
       "               '1982-01-31', '1982-02-28', '1982-03-31', '1982-04-30',\n",
       "               '1982-05-31', '1982-06-30'],\n",
       "              dtype='datetime64[ns]', length=114, freq='M')"
      ]
     },
     "execution_count": 13,
     "metadata": {},
     "output_type": "execute_result"
    }
   ],
   "source": [
    "# Edit the index.\n",
    "portland.index = pd.date_range('1/1/1973', # start date is January 1, 1973\n",
    "                               periods=len(portland.index), # we want one period per entry\n",
    "                               freq='M') # frequency in months\n",
    "\n",
    "# Confirm we edited the index properly.\n",
    "portland.index"
   ]
  },
  {
   "cell_type": "markdown",
   "metadata": {},
   "source": [
    "Let's plot this raw data."
   ]
  },
  {
   "cell_type": "code",
   "execution_count": 14,
   "metadata": {},
   "outputs": [
    {
     "data": {
      "image/png": "[encoded data removed]",
      "text/plain": [
       "<Figure size 720x432 with 1 Axes>"
      ]
     },
     "metadata": {
      "needs_background": "light"
     },
     "output_type": "display_data"
    }
   ],
   "source": [
    "# Set figure size.\n",
    "plt.figure(figsize=(10,6))\n",
    "\n",
    "# Generate line plot of bus_ridership.\n",
    "plt.plot(portland['bus_ridership'])\n",
    "plt.title(label='Monthly Ridership (in thousands)', fontsize=18);"
   ]
  },
  {
   "cell_type": "markdown",
   "metadata": {},
   "source": [
    "<details><summary>Check: How would you describe this data?</summary>\n",
    "    \n",
    "- The data are correlated with one another.\n",
    "- The mean (straight-line trend) is increasing.\n",
    "- There appears to be some seasonality each year; this is especially apparent in the 1976-1979 window.\n",
    "</details>"
   ]
  },
  {
   "cell_type": "markdown",
   "metadata": {},
   "source": []
  },
  {
   "cell_type": "code",
   "execution_count": null,
   "metadata": {},
   "outputs": [],
   "source": []
  },
  {
   "cell_type": "markdown",
   "metadata": {},
   "source": []
  },
  {
   "cell_type": "code",
   "execution_count": null,
   "metadata": {},
   "outputs": [],
   "source": []
  },
  {
   "cell_type": "markdown",
   "metadata": {},
   "source": [
    "## Train/Test Split\n",
    "\n",
    "Our goal, as with all train/test splits, is to:\n",
    "- avoid overfitting in our model, and\n",
    "- to get an unbiased estimate of model performance on new, \"unseen\" data.\n",
    "\n",
    "When fitting a time series model, we shouldn't do a random train-test split like we do with non-correlated data.\n",
    "\n",
    "Since our goal with time series analysis is almost always to forecast values forward in time, the idea with a time series train/test split is to train on earlier data and test/evaluate on later data.\n",
    "\n",
    "Most commonly, we'll set our:\n",
    "- training set to be the \"first\" 67% - 80% of our data timewise.\n",
    "- test set be the \"last\" 20% - 33% timewise.\n",
    "\n",
    "Let's split our dataframe by taking the first 80% of rows for training and the rest for testing."
   ]
  },
  {
   "cell_type": "code",
   "execution_count": 15,
   "metadata": {},
   "outputs": [
    {
     "data": {
      "text/plain": [
       "91.2"
      ]
     },
     "execution_count": 15,
     "metadata": {},
     "output_type": "execute_result"
    }
   ],
   "source": [
    "# What index gives us our 80th percentile of rows?\n",
    "portland.shape[0] * (4 / 5)"
   ]
  },
  {
   "cell_type": "code",
   "execution_count": 16,
   "metadata": {},
   "outputs": [
    {
     "data": {
      "text/plain": [
       "(91, 2)"
      ]
     },
     "execution_count": 16,
     "metadata": {},
     "output_type": "execute_result"
    }
   ],
   "source": [
    "# Set training data to be first 80% of rows.\n",
    "train = portland.iloc[0:91]\n",
    "\n",
    "# Check shape to confirm we did this properly.\n",
    "train.shape"
   ]
  },
  {
   "cell_type": "code",
   "execution_count": 17,
   "metadata": {},
   "outputs": [
    {
     "data": {
      "text/plain": [
       "(23, 2)"
      ]
     },
     "execution_count": 17,
     "metadata": {},
     "output_type": "execute_result"
    }
   ],
   "source": [
    "# Set testing data to be last 20% of rows.\n",
    "test = portland.iloc[91:]\n",
    "\n",
    "# Check shape to confirm we did this properly.\n",
    "test.shape"
   ]
  },
  {
   "cell_type": "markdown",
   "metadata": {},
   "source": [
    "## ARIMA Model\n",
    "\n",
    "An [ARIMA model](http://www.statsmodels.org/stable/generated/statsmodels.tsa.arima_model.ARIMA.html#statsmodels.tsa.arima_model.ARIMA) is a very useful model that forms the basis for most of time series modeling.\n",
    "\n",
    "ARIMA stands for:\n",
    "- Integrated\n",
    "- AutoRegressive\n",
    "- Moving Average models.\n",
    "\n",
    "*(That ordering isn't a typo)*.\n",
    "\n",
    "There are three pieces to ARIMA modeling.\n",
    "1. \"Differencing\" step.\n",
    "2. Autoregressive piece.\n",
    "3. Moving average piece.\n",
    "\n",
    "We'll cover each of these in order.\n",
    "\n",
    "### Differencing\n",
    "\n",
    "The purpose of the differencing step is to satisfy one assumption that is crucial to fitting an ARIMA model: **stationarity**.\n",
    "\n",
    "#### Stationarity\n",
    "\n",
    "Stationarity, formally, means that our time series:\n",
    "- has a constant mean over time.\n",
    "- has an autocorrelation that only depends on lag $k$, not on time $t$. (That is, $Corr(Y_t, Y_{t-k})$ should only depend on how far apart the observations are in time.)\n",
    "\n",
    "Informally, stationarity means that there aren't systematic changes in our time series over time.\n",
    "- A sine curve is a good example of a stationary time series."
   ]
  },
  {
   "cell_type": "code",
   "execution_count": 18,
   "metadata": {},
   "outputs": [
    {
     "data": {
      "image/png": "[encoded data removed]",
      "text/plain": [
       "<Figure size 432x288 with 1 Axes>"
      ]
     },
     "metadata": {
      "needs_background": "light"
     },
     "output_type": "display_data"
    }
   ],
   "source": [
    "np.random.seed(42)\n",
    "\n",
    "t = np.linspace(0, 15, 100)\n",
    "y = 5 * np.sin(t) + np.random.normal(0, 2, 100)\n",
    "\n",
    "plt.scatter(t, y);"
   ]
  },
  {
   "cell_type": "markdown",
   "metadata": {},
   "source": [
    "The problem is, many time series **aren't stationary**.\n",
    "- The amount that stock prices vary on a day-to-day basis aren't going to be the same.\n",
    "- Crop prices may increase or decrease over time; assuming a constant mean here doesn't make sense.\n",
    "\n",
    "So, what do we do?\n",
    "- We'll check to see if our data are stationary.\n",
    "- If our data aren't stationary, then that's where we difference our time series.\n",
    "\n",
    "#### Checking for Stationarity: the Augmented Dickey-Fuller Test\n",
    "\n",
    "The [augmented Dickey-Fuller test](https://en.wikipedia.org/wiki/Augmented_Dickey%E2%80%93Fuller_test) is a hypothesis test that tests for stationarity. We assume that our data are not stationary. With enough evidence, we may accept that our data are stationary.\n",
    "\n",
    "Specifically, the test is as follows:\n",
    "\n",
    "$$\n",
    "\\begin{eqnarray}\n",
    "&H_0:& \\text{not stationary} \\\\\n",
    "&H_A:& \\text{stationary}\n",
    "\\end{eqnarray}\n",
    "$$\n",
    "\n",
    "<details><summary>Thus, would a small $p$-value or a large $p$-value give us evidence that our time series is stationary?</summary>\n",
    "\n",
    "- A small $p$-value would give us evidence to reject the null hypothesis, meaning we accept that our time series is stationary.\n",
    "</details>\n",
    "\n",
    "\n",
    "### Integrated Autoregressive Moving Average (ARIMA) Models\n",
    "\n",
    "Often, our time series data will see both long-term trends **and** sudden fluctuations. Thus, we want to combine AR and MA models together.\n",
    "\n",
    "<details><summary>Check: What are some examples where we might see both long-term trends and sudden fluctuations in our time series data? </summary>\n",
    "\n",
    "- Stock price data. Stocks increase and decrease over time, but news or other stock changes may have sudden effects on prices.\n",
    "- Gas or oil prices. Similar logic as stock prices.\n",
    "- Public transportation ridership. While public transportation may see slow changes over time, marketing campaigns, changes in price, or accidents may have a sudden, unforeseen shock on ridership.\n",
    "</details>\n",
    "\n",
    "An [ARIMA model](http://www.statsmodels.org/stable/generated/statsmodels.tsa.arima_model.ARIMA.html#statsmodels.tsa.arima_model.ARIMA) is a very useful and very general model. We are literally just adding together our AR(p) and MA(q) models, with one additional change.\n",
    "\n",
    "$$\n",
    "\\begin{eqnarray*}\n",
    "Y_t - Y_{t-d} &=& AR(p) + MA(q) \\\\\n",
    "&=& \\mu + \\sum_{k=1}^p \\beta_kY_{t-k} + \\sum_{i=1}^q w_i\\varepsilon_{t-i} + \\varepsilon_t\n",
    "\\end{eqnarray*}\n",
    "$$\n",
    "\n",
    "Note that we are not predicting $Y_t$, but instead $Y_t - Y_{t-d}$. We difference our time series. This is because, in order for AR, MA, and ARIMA models to work, we need to meet one assumption: **stationarity**.\n",
    "\n",
    "\n",
    "\n",
    "### Augmented Dickey-Fuller Test\n"
   ]
  },
  {
   "cell_type": "code",
   "execution_count": 19,
   "metadata": {},
   "outputs": [
    {
     "data": {
      "text/plain": [
       "(-0.5909480353423043,\n",
       " 0.8730143095579228,\n",
       " 12,\n",
       " 78,\n",
       " {'1%': -3.517113604831504,\n",
       "  '5%': -2.8993754262546574,\n",
       "  '10%': -2.5869547797501644},\n",
       " 812.0468124533252)"
      ]
     },
     "execution_count": 19,
     "metadata": {},
     "output_type": "execute_result"
    }
   ],
   "source": [
    "from statsmodels.tsa.stattools import adfuller\n",
    "\n",
    "adfuller(train['bus_ridership'])"
   ]
  },
  {
   "cell_type": "code",
   "execution_count": 20,
   "metadata": {},
   "outputs": [],
   "source": [
    "# Code written by Joseph Nelson.\n",
    "\n",
    "def interpret_dftest(dftest):\n",
    "    dfoutput = pd.Series(dftest[0:2], index=['Test Statistic','p-value'])\n",
    "    return dfoutput"
   ]
  },
  {
   "cell_type": "code",
   "execution_count": 21,
   "metadata": {},
   "outputs": [
    {
     "data": {
      "text/plain": [
       "Test Statistic   -0.590948\n",
       "p-value           0.873014\n",
       "dtype: float64"
      ]
     },
     "execution_count": 21,
     "metadata": {},
     "output_type": "execute_result"
    }
   ],
   "source": [
    "interpret_dftest(adfuller(train['bus_ridership']))"
   ]
  },
  {
   "cell_type": "markdown",
   "metadata": {},
   "source": [
    "<details><summary>How would we interpret this $p$-value? </summary>\n",
    "    \n",
    "- Remember that we compare our $p$-value to $\\alpha$, which is usually set at 0.10, 0.05, or 0.01. Because $p = 0.87$, it is larger than any $\\alpha$ we'd reasonably pick. Thus, we cannot accept that our series `bus_ridership` is stationary.\n",
    "</details>\n",
    "\n",
    "##### In order to achieve stationarity, we need to difference!\n",
    "\n",
    "Differencing our time series means that instead of modeling our time series $Y_t$ directly, we'll model some difference:\n",
    "\n",
    "$$\n",
    "\\begin{eqnarray*}\n",
    "\\Delta_t &=& Y_t - Y_{t-d}\n",
    "\\end{eqnarray*}\n",
    "$$\n",
    "\n",
    "Maybe the time series $Y_1, Y_2, \\ldots$ is not stationary... but the difference between time period $t-d$ and time period $t$ might be!\n",
    "\n",
    "Why do we difference? \n",
    "- Differencing allows us to get a stationary time series out of a non-stationary time series.\n",
    "- This means that we'll be able to fit an ARIMA model to the **differenced** data!\n",
    "\n",
    "We'll start with a difference of $d = 1$ and iterate upward until we find a value of $d$ that makes our time series stationary."
   ]
  },
  {
   "cell_type": "code",
   "execution_count": 22,
   "metadata": {},
   "outputs": [
    {
     "name": "stdout",
     "output_type": "stream",
     "text": [
      "Checking difference of 1.\n",
      "p-value = 0.19819753102854604.\n",
      "\n",
      "Checking difference of 2.\n",
      "p-value = 0.11481778228986322.\n",
      "\n",
      "Checking difference of 3.\n",
      "p-value = 0.1976459747305867.\n",
      "\n",
      "Checking difference of 4.\n",
      "p-value = 0.023887227697658678.\n",
      "Differencing our time series by d=4 yields a stationary time series!\n"
     ]
    }
   ],
   "source": [
    "# Write a for loop to find the lowest difference value d.\n",
    "\n",
    "# Iterate through all possible differences.\n",
    "for d in range(1, len(train['bus_ridership'])):\n",
    "    \n",
    "    # Print out a counter and the corresponding p-value.\n",
    "    print(f'Checking difference of {d}.')\n",
    "    print(f'p-value = {interpret_dftest(adfuller(train[\"bus_ridership\"].diff(d).dropna()))[\"p-value\"]}.')\n",
    "          \n",
    "    # If our data, differenced by d time periods, are stationary, print that out!\n",
    "    if interpret_dftest(adfuller(train['bus_ridership'].diff(d).dropna()))['p-value'] < 0.05:\n",
    "        print(f'Differencing our time series by d={d} yields a stationary time series!')\n",
    "        break\n",
    "    \n",
    "    print()"
   ]
  },
  {
   "cell_type": "markdown",
   "metadata": {},
   "source": [
    "From this process, we would conclude that we should difference our time series by a lag of $d=4$.\n",
    "- Rather than modeling $Y_t$ directly, we'll model $\\Delta_t = Y_t - Y_{t-4}$.\n",
    "- If we generate autocorrelation and partial autocorrelation plots moving forward, then we should generate plots of the **differenced** time series, not the original time series!"
   ]
  },
  {
   "cell_type": "markdown",
   "metadata": {},
   "source": [
    "There are three pieces to ARIMA modeling.\n",
    "1. \"Differencing\" step.\n",
    "2. Autoregressive piece.\n",
    "3. Moving average piece.\n",
    "\n",
    "### Autoregressive Piece\n",
    "\n",
    "The next piece to ARIMA modeling that we'll cover is the **autoregressive** piece, commonly abbreviated `AR`."
   ]
  },
  {
   "cell_type": "markdown",
   "metadata": {},
   "source": [
    "<details><summary>Check: Without us covering it, what do you think the autoregressive piece might do?</summary>\n",
    "\n",
    "- An autoregressive model is where we regress a variable on itself by regressing newer values on older values. For example, $Y_t = \\beta_0 + \\beta_1Y_{t-1} + \\beta_2Y_{t-2}$.\n",
    "- A helpful hint to remembering autoregressive models is to think about the prefix \"auto:\"\n",
    "    - Autocorrelation is the correlation of one variable with itself. \n",
    "    - An autobiography is a book written by a person, about that same person. \n",
    "    - An autotransplant is a surgical procedure in which an organ is transplanted from a person to that same person.\n",
    "</details>"
   ]
  },
  {
   "cell_type": "markdown",
   "metadata": {},
   "source": [
    "The autoregressive piece to the ARIMA model is responsible for **modeling the long-term trends** in our time series, like:\n",
    "- the changes in crop yield over time in response to climate change, or \n",
    "- the relatively steady increase of employees within an organization over time. \n",
    "\n",
    "The autoregressive piece **doesn't handle sudden, random shocks well**, like:\n",
    "- a wildfire or overly rainy season dramatically impacting crop yield, or\n",
    "- a massive acquisition/layoff that leads to a sudden jump/drop in the number of employees in an organization.\n",
    "\n",
    "The autoregressive piece of our ARIMA model will learn regression coefficients on the features that are the previous $p$ values. \n",
    "- An $AR(1)$ piece includes one prior value: $\\beta_0 + \\beta_1Y_{t-1}$\n",
    "- An $AR(2)$ piece includes two prior values: $\\beta_0 + \\beta_1Y_{t-1} + \\beta_2Y_{t-2}$\n",
    "- An $AR(p)$ piece includes $p$ prior values: $\\beta_0 + \\sum_{k=1}^p \\beta_kY_{t-k}$"
   ]
  },
  {
   "cell_type": "markdown",
   "metadata": {},
   "source": [
    "<details><summary>Check: How do you think we might decide on a value of $p$?</summary>\n",
    "\n",
    "- We could use our autocorrelation plot to see for what values of $k$ there is a significant correlation between $Y_t$ and $Y_{t-k}$.\n",
    "</details>"
   ]
  },
  {
   "cell_type": "code",
   "execution_count": null,
   "metadata": {},
   "outputs": [],
   "source": [
    "# Set figure/axes.\n",
    "fig, ax = plt.subplots(figsize=(9,5))\n",
    "\n",
    "# Generate plot.\n",
    "plot_acf(train[\"bus_ridership\"].diff(4).dropna(), lags=30, ax=ax);"
   ]
  },
  {
   "cell_type": "markdown",
   "metadata": {},
   "source": [
    "### Visual:\n",
    "| Index | $Y_t$ | $Y_{t-1}$ | $Y_{t-2}$ | $Y_{t-3}$ |\n",
    "|-------|-------|-----------|-----------|-----------|\n",
    "| 1     | $y_1$ | NaN       | NaN       | NaN       |\n",
    "| 2     | $y_2$ | $y_1$     | NaN       | NaN       |\n",
    "| 3     | $y_3$ | $y_2$     | $y_1$     | NaN       |\n",
    "| 4     | $y_4$ | $y_3$     | $y_2$     | $y_1$     |\n",
    "\n",
    "- The left-most value of the autocorrelation plot is $Corr(Y_t, Y_t)$. This should always be 1! (The height of the blue dot will always be 1.)\n",
    "- The next value (moving one step to the right) of the autocorrelation plot visualizes $Corr(Y_t, Y_{t-1})$. The height of the blue dot here is about 0.95.\n",
    "- The next value of the autocorrelation plot visualizes $Corr(Y_t, Y_{t-2})$.\n",
    "- And so on..."
   ]
  },
  {
   "cell_type": "markdown",
   "metadata": {},
   "source": [
    "<details><summary>Based on the plot above, for what lags $k$ is $Y_t$ significantly correlated with $Y_{t-k}$?</summary>\n",
    "    \n",
    "#### This is the main point of interpreting an autocorrelation plot.\n",
    "- Remember that the autocorrelation plot above shows that observations are highly correlated with one another. \n",
    "- For example, this plot shows that observations that are one time lag apart have a correlation around 60%. Observations that are two time lags apart have a correlation around 30%. (And so on...)\n",
    "- The blue band indicates the 95% confidence interval for these correlations.\n",
    "    - Observations inside the blue band mean that there is no significant correlations between $Y_t$ and $Y_{t-k}$ for lag $k$.\n",
    "    - Observations outside the blue band mean that there **is** a significant correlation between $Y_t$ and $Y_{t-k}$ for lag $k$.\n",
    "\n",
    "#### Thus, there is a statistically significant correlation between $Y_t$ and $Y_{t-k}$ for $k = 1, 2, 4, 5, 6, 7, 8, 12, and 24$.\n",
    "</details>"
   ]
  },
  {
   "cell_type": "markdown",
   "metadata": {},
   "source": [
    "<details><summary>Check: What might be a downside of relying solely on this plot?</summary>\n",
    "\n",
    "- If $Y_t$ is correlated with $Y_{t-1}$ and $Y_{t-2}$, then $Y_{t-1}$ and $Y_{t-2}$ are also likely correlated. We should have some way to account for how correlated all these are. **Enter the partial autocorrelation plot!**\n",
    "</details>"
   ]
  },
  {
   "cell_type": "code",
   "execution_count": null,
   "metadata": {},
   "outputs": [],
   "source": [
    "# Set figure/axes.\n",
    "fig, ax = plt.subplots(figsize=(9,5))\n",
    "\n",
    "# Generate plot.\n",
    "plot_pacf(train[\"bus_ridership\"].diff(4).dropna(), lags=30, ax=ax);"
   ]
  },
  {
   "cell_type": "markdown",
   "metadata": {},
   "source": [
    "<details><summary>How would you interpret the partial autocorrelation plot here?</summary>\n",
    "\n",
    "### Interpret the partial autocorrelation plot.\n",
    "1. The partial autocorrelation plot above shows that observations are highly correlated with one another. \n",
    "2. **However, the partial autocorrelation plot checks for the correlation between observations, conditioning on all lower-lag autocorrelations.** (That is, the partial autocorrelation between $Y_t$ and $Y_{t-2}$ is the correlation between $Y_t$ and $Y_{t-2}$ that has already taken into account the autocorrelation between $Y_t$ and $Y_{t-1}$.)\n",
    "3. The blue band indicates the 95% confidence interval for these correlations.\n",
    "    - Observations inside the blue band mean that there is no significant correlations between $Y_t$ and $Y_{t-k}$ for lag $k$, **accounting for all lower-order lags**.\n",
    "    - Observations outside the blue band mean that there **is** a significant correlation between $Y_t$ and $Y_{t-k}$ for lag $k$, **accounting for all lower-order lags**.\n",
    "</details>"
   ]
  },
  {
   "cell_type": "markdown",
   "metadata": {},
   "source": [
    "#### Determining a Value of $p$ based on the ACF and PACF.\n",
    "\n",
    "If the PACF (partial autocorrelation function) has a sharp cut-off and the lag-1 ACF (autocorrelation function) value is positive, choose $p$ to be the lag in the PACF before the cut-off.\n",
    "- Note: $p=1$ is the most common.\n",
    "\n",
    "If the PACF does not have a sharp cut-off or the lag-1 ACF value is not positive, then let $p=0$."
   ]
  },
  {
   "cell_type": "markdown",
   "metadata": {},
   "source": [
    "<details><summary>Based on the ACF and PACF, what value of $p$ would you select?</summary>\n",
    "\n",
    "- The PACF has a sharp cut-off between lag 1 and lag 2.\n",
    "- The first lag in the ACF is positive.\n",
    "- Thus, we should set $p=1$.\n",
    "</details>"
   ]
  },
  {
   "cell_type": "markdown",
   "metadata": {},
   "source": [
    "### Fit an ARIMA model.\n",
    "\n",
    "There are three pieces to ARIMA modeling.\n",
    "1. \"Differencing\" step.\n",
    "2. Autoregressive piece.\n",
    "3. Moving average piece.\n",
    "\n",
    "We haven't yet learned about the moving average piece, but let's fit an ARIMA model now, then come back to talk about the moving average piece."
   ]
  },
  {
   "cell_type": "code",
   "execution_count": null,
   "metadata": {},
   "outputs": [],
   "source": [
    "# Import ARIMA model.\n",
    "from statsmodels.tsa.arima_model import ARIMA"
   ]
  },
  {
   "cell_type": "code",
   "execution_count": null,
   "metadata": {},
   "outputs": [],
   "source": [
    "# Instantiate model.\n",
    "\n",
    "# Remember that, in statsmodels, we pass our data \n",
    "# in when we instantiate the model!\n",
    "\n",
    "model = ARIMA(endog = train['bus_ridership'].diff(4).dropna(), # endog = Y variable\n",
    "              order = (1,0,0)) # (p, d, q) <-- talk about q later!\n",
    "\n",
    "# Note that we manually difference our data.\n",
    "# In the present version of statsmodels, only\n",
    "# certain values of d are supported."
   ]
  },
  {
   "cell_type": "code",
   "execution_count": null,
   "metadata": {},
   "outputs": [],
   "source": [
    "# Fit model.\n",
    "arima_1_4_0 = model.fit()"
   ]
  },
  {
   "cell_type": "code",
   "execution_count": null,
   "metadata": {},
   "outputs": [],
   "source": [
    "# Generate predictions.\n",
    "preds = arima_1_4_0.predict()"
   ]
  },
  {
   "cell_type": "code",
   "execution_count": null,
   "metadata": {},
   "outputs": [],
   "source": [
    "preds.head()"
   ]
  },
  {
   "cell_type": "markdown",
   "metadata": {},
   "source": [
    "<details><summary>What do these predicted values represent?</summary>\n",
    "\n",
    "- These predicted values represent $\\hat{\\Delta}_t$, which is the 4-lagged\n",
    "- The first observation represents how much the bus ridership will change between January 1973 and May 1973.\n",
    "- The second observation represents how much the bus ridership will change between February 1973 and June 1973.\n",
    "- And so on.\n",
    "</details>"
   ]
  },
  {
   "cell_type": "code",
   "execution_count": null,
   "metadata": {},
   "outputs": [],
   "source": [
    "# Plot data.\n",
    "plt.figure(figsize=(10,6))\n",
    "plt.plot(train['bus_ridership'].diff(4).dropna(), color = 'blue')\n",
    "plt.plot(preds, color = 'orange')\n",
    "plt.title(label = 'Bus Ridership with ARIMA(1,4,0) Predictions', fontsize=18)\n",
    "plt.show();"
   ]
  },
  {
   "cell_type": "code",
   "execution_count": null,
   "metadata": {},
   "outputs": [],
   "source": [
    "# Evaluate these predictions using MSE.\n",
    "\n",
    "from sklearn.metrics import mean_squared_error\n",
    "mean_squared_error(train['bus_ridership'].diff(4).dropna(), preds)"
   ]
  },
  {
   "cell_type": "markdown",
   "metadata": {},
   "source": [
    "We would call the above model an $ARIMA(1, 4, 0)$ model.\n",
    "\n",
    "In general, ARIMA is parameterized as $ARIMA(p, d, q)$, where: \n",
    "- $d$ is the order of differencing we found using the Augmented Dickey-Fuller test.\n",
    "- $p$ is the number of autoregressive terms in our model.\n",
    "- and $q$ is coming up next!\n",
    "\n",
    "There are three pieces to ARIMA modeling.\n",
    "1. \"Differencing\" step.\n",
    "2. Autoregressive piece.\n",
    "3. Moving average piece.\n",
    "\n",
    "### Moving Average Piece\n",
    "\n",
    "The final piece to ARIMA modeling that we'll cover is the **moving average** piece, commonly abbreviated `MA`.\n",
    "\n",
    "In the moving average piece, we take **previous error terms** as inputs. They predict the next value based on deviations from previous predictions.\n",
    "- A $MA(1)$ piece regresses $Y_t$ on one prior error: $\\mu + w_1\\varepsilon_{t-1} + \\varepsilon_t$\n",
    "- A $MA(2)$ piece regresses $Y_t$ on two prior errors: $\\mu + w_1\\varepsilon_{t-1} + w_2\\varepsilon_{t-2} + \\varepsilon_t$\n",
    "- A $MA(3)$ piece regresses $Y_t$ on three prior errors: $\\mu + w_1\\varepsilon_{t-1} + w_2\\varepsilon_{t-2} + w_3\\varepsilon_{t-3} + \\varepsilon_t$\n",
    "\n",
    "We denote this piece as $MA(q)$, where $q$ indicates the number of previous errors to incorporate.\n",
    "\n",
    "The moving average piece **does handle sudden, random shocks well**, (unlike the AR piece) like:\n",
    "- a wildfire or overly rainy season dramatically impacting crop yield, or\n",
    "- a massive acquisition/layoff that leads to a sudden jump/drop in the number of employees in an organization.\n",
    "\n",
    "<details><summary>Technical Bonus Note:</summary>\n",
    "\n",
    "- Because the error terms ($\\varepsilon$) are unobserved, we rely on sophisticated algorithms to estimate the coefficients $w_i$ when fitting this model. [Check out a paper on the topic here.](https://www.it.uu.se/research/publications/reports/2006-022/2006-022-nc.pdf)\n",
    "</details>"
   ]
  },
  {
   "cell_type": "markdown",
   "metadata": {},
   "source": [
    "#### Determining a Value of $q$ based on the ACF and PACF.\n",
    "\n",
    "If the PACF (partial autocorrelation function) has a sharp cut-off and the lag-1 ACF (autocorrelation function) value is negative, choose $q$ to be the lag in the ACF before the cut-off.\n",
    "- Note: $p$ is determined by the lag in the PACF; $q$ is determined by the lag in the ACF.\n",
    "\n",
    "If the PACF does not have a sharp cut-off or the lag-1 ACF value is not negative, then let $q=0$."
   ]
  },
  {
   "cell_type": "markdown",
   "metadata": {},
   "source": [
    "<details><summary>Based on the ACF and PACF, what value of $q$ would you select?</summary>\n",
    "\n",
    "- The PACF has a sharp cut-off between lag 1 and lag 2.\n",
    "- The first lag in the ACF is positive.\n",
    "- Thus, we should set $q=0$.\n",
    "</details>"
   ]
  },
  {
   "cell_type": "markdown",
   "metadata": {},
   "source": [
    "**Recap:** The AR piece is appropriate when modeling long-term trends in our process. The MA piece is appropriate when modeling sudden fluctuations in our process."
   ]
  },
  {
   "cell_type": "markdown",
   "metadata": {},
   "source": [
    "### Pulling the ARIMA Model Together\n",
    "\n",
    "There are three pieces to ARIMA modeling.\n",
    "1. \"Differencing\" step.\n",
    "2. Autoregressive piece.\n",
    "3. Moving average piece.\n",
    "\n",
    "Often, our time series data will see both long-term trends **and** sudden fluctuations. Thus, we want to combine AR and MA pieces together."
   ]
  },
  {
   "cell_type": "markdown",
   "metadata": {},
   "source": [
    "<details><summary>Check: What are some examples where we might see both long-term trends and sudden fluctuations in our time series data? </summary>\n",
    "\n",
    "- Stock price data. Stocks increase and decrease over time, but news or other stock changes may have sudden effects on prices.\n",
    "- Gas or oil prices. Similar logic as stock prices.\n",
    "- Public transportation ridership. While public transportation may see slow changes over time, marketing campaigns, changes in price, or accidents may have a sudden, unforeseen shock on ridership.\n",
    "</details>"
   ]
  },
  {
   "cell_type": "markdown",
   "metadata": {},
   "source": [
    "- An ARIMA(p, d, q) model is specified by:\n",
    "    - how many lags $p$ we regress $Y_t$ on.\n",
    "    - how many errors $q$ we regress $Y_t$ on.\n",
    "    - and how many differences $d$ we want to calculate in order to achieve stationarity.\n",
    "\n",
    "An $ARIMA(p,d,q)$ model is specified as follows:\n",
    "$$\n",
    "\\begin{eqnarray*}\n",
    "ARIMA(p,d,q) \\Rightarrow Y_t - Y_{t-d} &=& AR(p) + MA(q) \\\\\n",
    "Y_t - Y_{t-d} &=& \\mu + \\sum_{k=1}^p \\beta_kY_{t-k} + \\sum_{i=1}^q w_i\\varepsilon_{t-i} + \\varepsilon_t\n",
    "\\end{eqnarray*}\n",
    "$$\n",
    "\n",
    "Depending on our values of $p$, $d$, and $q$, we might refer to these models by slightly different names.\n",
    "\n",
    "- If $d=0$ and $q=0$, an AR(p) model is specified by how many lags $p$ we regress $Y_t$ on.\n",
    "- If $d=0$ and $p=0$, an MA(q) model is specified by how many errors $q$ we regress $Y_t$ on.\n",
    "- If $d=0$, an ARMA(p, q) model is specified by how many lags $p$ and how many errors $q$ we regress $Y_t$ on.\n",
    "\n",
    "| p | d | q |          Model         |\n",
    "|:-:|:-:|:-:|:----------------------:|\n",
    "| 1 | 0 | 0 |  ARIMA(1,0,0) = AR(1)  |\n",
    "| 0 | 0 | 1 |  ARIMA(0,0,1) = MA(1)  |\n",
    "| 1 | 0 | 1 | ARIMA(1,0,1) = ARMA(1) |\n",
    "| 1 | 1 | 1 |      ARIMA(1,1,1)      |\n",
    "| 1 | 1 | 0 |      ARIMA(1,1,0)      |\n",
    "| 0 | 1 | 1 |      ARIMA(0,1,1)      |\n"
   ]
  },
  {
   "cell_type": "markdown",
   "metadata": {},
   "source": [
    "How do we find the right values of $p$, $d$, $q$?\n",
    "- Manually looking through plots and the Augmented Dickey-Fuller test is the best way to go (like we did above).\n",
    "- \"GridSearch\" to find the right difference."
   ]
  },
  {
   "cell_type": "code",
   "execution_count": null,
   "metadata": {},
   "outputs": [],
   "source": [
    "for p in range(4):\n",
    "    for d in range(4):\n",
    "        for q in range(4):\n",
    "            arima = ARIMA(endog = train['bus_ridership'].astype('float32'), # Y variable\n",
    "                          order = (p, d, q)) # (p, d, q)\n",
    "            model = arima.fit()\n",
    "            preds = model.predict()\n",
    "            print(f'The MSE for (p = {p}, d = {d}, q = {q}) is {mean_squared_error(train[\"bus_ridership\"], preds)}.')"
   ]
  },
  {
   "cell_type": "markdown",
   "metadata": {},
   "source": [
    "Remember, finding coefficients for an MA (or ARMA or ARIMA) model is difficult.\n",
    "\n",
    "For example, consider an $MA(2)$ model.\n",
    "$$MA(2) \\Rightarrow Y_t = \\mu + w_1\\varepsilon_{t-1} + w_2\\varepsilon_{t-2} + \\varepsilon_t$$\n",
    "\n",
    "The model requires us to regress on errors, but we don't actually observe these errors. (The algorithm for fitting this is complicated and is beyond the scope of this lesson. [Check more out here](https://www.it.uu.se/research/publications/reports/2006-022/2006-022-nc.pdf).)\n",
    "\n",
    "There are a few ways to handle this:\n",
    "- Add a seasonal component to our model.\n",
    "- Specify a different model.\n",
    "- \"Hack\" our answer by adding `try` and `except` statements to our for loops.\n",
    "\n",
    "<details><summary>What is the purpose of try and except statements?</summary>\n",
    "\n",
    "- If our code encounters an error, then it will automatically stop. Sometimes this is good (so we can debug) but sometimes this isn't desirable!\n",
    "- `try` and `except` statements allow us to \"try\" to do something and, if there's an error, we can just `pass` it so that our code doesn't stop running.\n",
    "- This isn't always a good thing... errors are usually telling us that something is wrong. But we're going to hack our answer here so that we can check all values of $p$, $d$, and $q$ and just not run the model if some values of $p$, $d$, and $q$ are invalid.\n",
    "</details>"
   ]
  },
  {
   "cell_type": "code",
   "execution_count": null,
   "metadata": {},
   "outputs": [],
   "source": [
    "for p in range(4):\n",
    "    for d in range(4):\n",
    "        for q in range(4):\n",
    "            try:\n",
    "                arima = ARIMA(endog = train['bus_ridership'].astype('float32'), # Y variable\n",
    "                              order = (p, d, q)) # (p, d, q)\n",
    "                model = arima.fit()\n",
    "                preds = model.predict()\n",
    "                print(f'The MSE for (p = {p}, d = {d}, q = {q}) is {mean_squared_error(train[\"bus_ridership\"], preds)}.')\n",
    "            \n",
    "            except:\n",
    "                pass"
   ]
  },
  {
   "cell_type": "markdown",
   "metadata": {},
   "source": [
    "## Seasonal Model\n",
    "\n",
    "We can think of seasonality as a repeating pattern (like a cycle) that occurs over time."
   ]
  },
  {
   "cell_type": "code",
   "execution_count": null,
   "metadata": {},
   "outputs": [],
   "source": [
    "# Plot data.\n",
    "plt.figure(figsize=(10,6))\n",
    "plt.plot(train['bus_ridership'])\n",
    "plt.title(label = 'Monthly Bus Ridership', fontsize=18)\n",
    "plt.show();"
   ]
  },
  {
   "cell_type": "markdown",
   "metadata": {},
   "source": [
    "<details><summary>By looking at this data, is there is strong evidence of seasonality? If so, what evidence supports seasonality?</summary>\n",
    "\n",
    "- Yes! There are repeated spikes that seem to occur every year or so.\n",
    "- If we look back on our differenced ACF plot, we note a cyclical pattern as well.\n",
    "</details>"
   ]
  },
  {
   "cell_type": "code",
   "execution_count": null,
   "metadata": {},
   "outputs": [],
   "source": [
    "# Set figure/axes.\n",
    "fig, ax = plt.subplots(figsize=(9,5))\n",
    "\n",
    "# Generate plot.\n",
    "plot_acf(train[\"bus_ridership\"].diff(4).dropna(), lags=30, ax=ax);"
   ]
  },
  {
   "cell_type": "code",
   "execution_count": null,
   "metadata": {},
   "outputs": [],
   "source": [
    "# Set figure/axes.\n",
    "fig, ax = plt.subplots(figsize=(9,5))\n",
    "\n",
    "# Generate plot.\n",
    "plot_pacf(train[\"bus_ridership\"].diff(4).dropna(), lags=30, ax=ax);"
   ]
  },
  {
   "cell_type": "markdown",
   "metadata": {},
   "source": [
    "We can fit a **seasonal ARIMA (SARIMA) model** to our data. This model will:\n",
    "- Have the ARIMA components we've described thus far, which are good for stationary trends.\n",
    "- Include a seasonal component that will allow us to also account for seasonality that occurs over time.\n",
    "\n",
    "The SARIMA model is given by $ARIMA(p, d, q) × (P, D, Q, S)$, where:\n",
    "- $ARIMA(p, d, q)$ is the ARIMA model we've already discussed with AR order $p$, MA order $q$, and differencing order $d$.\n",
    "- $(P, D, Q, S)$ refers to the seasonal AR order $P$, the seasonal MA order $Q$, the seasonal differencing order $D$, and the length of the season $S$.\n",
    "- In order to **rigorously** fit a seasonal model, specify $S$ that appears to make sense.\n",
    "    - Here, we might try 12.\n",
    "        - In looking at the ACF plot, there's a clear seasonal trend that peaks every 12 months.\n",
    "        - There are 12 months in a year, which makes even more sense that we'd see bus ridership fluctuate on a yearly pattern.\n",
    "    - Then find the values of $P$, $D$, and $Q$ by looking at the ACF/PACF plot, but skipping by values of $S$. (i.e. if $S=12$, then check out the ACF and PACF plots 12 steps apart from one another.)\n",
    "- In order to more realistically fit a seasonal model... GridSearch!"
   ]
  },
  {
   "cell_type": "code",
   "execution_count": null,
   "metadata": {},
   "outputs": [],
   "source": [
    "from statsmodels.tsa.statespace.sarimax import SARIMAX"
   ]
  },
  {
   "cell_type": "code",
   "execution_count": null,
   "metadata": {},
   "outputs": [],
   "source": [
    "# Fit a SARIMA(1, 0, 0) x (1, 0, 0, 12) model.\n",
    "\n",
    "sarima = SARIMAX(endog = train['bus_ridership'],\n",
    "                 order = (1, 4, 0),              # (p, d, q)\n",
    "                 seasonal_order = (1, 0, 0, 12)) # (P, D, Q, S)\n",
    "\n",
    "# Fit SARIMA model.\n",
    "model = sarima.fit()\n",
    "\n",
    "# Generate predictions based on test set.\n",
    "# Start at time period 91 and end at 113.\n",
    "preds = model.predict(start=91, end=113)\n",
    "\n",
    "# Evaluate predictions.\n",
    "print(mean_squared_error(test['bus_ridership'], preds))\n",
    "\n",
    "# Plot data.\n",
    "plt.figure(figsize=(10,6))\n",
    "plt.plot(train['bus_ridership'], color = 'blue')\n",
    "plt.plot(test['bus_ridership'], color = 'orange')\n",
    "plt.plot(preds, color = 'green')\n",
    "plt.title(label = 'Bus Ridership Monthly Volume with SARIMA(1, 0, 0) x (1, 0, 0, 12) Predictions', fontsize=16)\n",
    "plt.show();"
   ]
  },
  {
   "cell_type": "markdown",
   "metadata": {},
   "source": [
    "Our predictions are not matching the data!  Let's try tweaking parameters $P$, $D$, $Q$, and $S$ to see how we can get our green line to better match the orange line.\n",
    "\n",
    "Generally, this is \"most easily\" done through a manual GridSearch process."
   ]
  },
  {
   "cell_type": "code",
   "execution_count": null,
   "metadata": {},
   "outputs": [],
   "source": [
    "# Starting MSE and (P, D, Q).\n",
    "mse = 99 * (10 ** 50)\n",
    "final_P = 0\n",
    "final_D = 0\n",
    "final_Q = 0\n",
    "final_S = 0\n",
    "\n",
    "for P in range(3):\n",
    "    for Q in range(3):\n",
    "        for D in range(3):\n",
    "            for S in range(0,13,4):\n",
    "                try:\n",
    "                    # Instantiate SARIMA model.\n",
    "                    sarima = SARIMAX(endog = train['bus_ridership'],\n",
    "                                     order = (1, 0, 0),              # (p, d, q)\n",
    "                                     seasonal_order = (P, D, Q, S)) # (P, D, Q, S)\n",
    "\n",
    "                    # Fit SARIMA model.\n",
    "                    model = sarima.fit()\n",
    "\n",
    "                    # Generate predictions based on training set.\n",
    "                    # Start at time period 91 and end at 113.\n",
    "                    preds = model.predict(start=91, end=113)\n",
    "\n",
    "                    # Evaluate predictions.\n",
    "                    print(f'The MSE for (1, 0, 0)x({P},{D},{Q},{S}) is: {mean_squared_error(train[\"bus_ridership\"], preds)}')\n",
    "\n",
    "                    # Save for final report.\n",
    "                    if mse > mean_squared_error(train['bus_ridership'], preds):\n",
    "                        mse = mean_squared_error(train['bus_ridership'], preds)\n",
    "                        final_P = P\n",
    "                        final_D = D\n",
    "                        final_Q = Q\n",
    "                        final_S = S\n",
    "\n",
    "                except:\n",
    "                    pass\n",
    "\n",
    "print(f'Our model that minimizes MSE on the training data is the SARIMA(1, 0, 0)x({final_P},{final_D},{final_Q},{final_S}).')\n",
    "print(f'This model has an MSE of {mse}.')"
   ]
  },
  {
   "cell_type": "markdown",
   "metadata": {},
   "source": [
    "<details><summary>What should our main concerns be about a manual GridSearch process like this?</summary>\n",
    "\n",
    "- The amount of time it takes to fit our models!\n",
    "- We aren't cross-validating; we're only evaluating on all of our training data, which will likely end up overfitting. (Cross-validation is also more complicated with time series data; you can check out more [here](https://scikit-learn.org/stable/modules/generated/sklearn.model_selection.TimeSeriesSplit.html) and [here](https://machinelearningmastery.com/backtest-machine-learning-models-time-series-forecasting/).)\n",
    "</details>"
   ]
  },
  {
   "cell_type": "markdown",
   "metadata": {},
   "source": [
    "# eXogenous Predictors\n",
    "\n",
    "In time series analysis, we spend most of our time focused on how we can quantify the relationship between $Y_t$ and $Y_{t-k}$ and then use that relationship to forecast values of $Y_t$.\n",
    "\n",
    "Future bus ridership probably isn't limited to just past performance of bus ridership. \n",
    "\n",
    "However, we can (and should!) still use $X$ variables in our data.\n",
    "- In `statsmodels` and in various disciplines like econometrics, the $X$ variables are known as `exogenous`.\n",
    "- More on exogenous/endogenous [here](http://www.statsmodels.org/stable/endog_exog.html).\n",
    "\n",
    "In fact, the SARIMAX model stands for \"Seasonal Autoregressive Integrated Moving Average with eXogenous regressors model.\"\n",
    "\n",
    "#### One important practical note: \n",
    "If you're going to fit a SARIMAX model, make sure that your $X$ variable makes sense - especially timewise.\n",
    "> For example, if we want to forecast bus ridership stock volume for December 2018 based on Intel's stock volume, I probably shouldn't use Intel's stock volume in December 2018 as an input. (I'm forecasting a value of $Y$ when I wouldn't have access to that value of $X$.)\n",
    "\n",
    "I should probably lag my $X$ variable by at least one time point. \n",
    "\n",
    "\n",
    "| Index | $bus_t$ | $precip_{t-1}$ |\n",
    "|-------|---------|--------------|\n",
    "| 1     | $bus_1$ | NA           |\n",
    "| 2     | $bus_2$ | $precip_1$     |\n",
    "| 3     | $bus_3$ | $precip_2$     |\n",
    "| 4     | $bus_4$ | $precip_3$     |\n",
    "\n",
    "\n",
    "> `portland['precip_lag_1'] = portland['total_precip'].shift(1)`"
   ]
  },
  {
   "cell_type": "code",
   "execution_count": null,
   "metadata": {},
   "outputs": [],
   "source": [
    "train['precip_lag_1'] = train['total_precip'].shift(1)"
   ]
  },
  {
   "cell_type": "code",
   "execution_count": null,
   "metadata": {},
   "outputs": [],
   "source": [
    "# Starting MSE and (P, D, Q).\n",
    "mse = 99 * (10 ** 16)\n",
    "final_P = 0\n",
    "final_D = 0\n",
    "final_Q = 0\n",
    "final_S = 0\n",
    "\n",
    "for P in range(3):\n",
    "    for Q in range(3):\n",
    "        for D in range(3):\n",
    "            for S in range(0,13,4):\n",
    "                try:\n",
    "                    # Instantiate SARIMA model.\n",
    "                    sarima = SARIMAX(endog = train['bus_ridership'],\n",
    "                                     order = (1, 0, 0),              # (p, d, q)\n",
    "                                     seasonal_order = (P, D, Q, S),  # (P, D, Q, S)\n",
    "                                     exog = train['precip_lag_1']) \n",
    "\n",
    "                    # Fit SARIMA model.\n",
    "                    model = sarima.fit()\n",
    "\n",
    "                    # Generate predictions based on training set.\n",
    "                    # Start at time period 91 and end at 113.\n",
    "                    preds = model.predict(start=91, end=113)\n",
    "\n",
    "                    # Evaluate predictions.\n",
    "                    print(f'The MSE for (1, 0, 0)x({P},{D},{Q},{S}) is: {mean_squared_error(train[\"bus_ridership\"], preds)}')\n",
    "\n",
    "                    # Save for final report.\n",
    "                    if mse > mean_squared_error(train['bus_ridership'], preds):\n",
    "                        mse = mean_squared_error(train['bus_ridership'], preds)\n",
    "                        final_P = P\n",
    "                        final_D = D\n",
    "                        final_Q = Q\n",
    "                        final_S = S\n",
    "\n",
    "                except:\n",
    "                    pass\n",
    "\n",
    "print(f'Our model that minimizes MSE on the training data is the SARIMA(1, 0, 0)x({final_P},{final_D},{final_Q},{final_S}).')\n",
    "print(f'This model has an MSE of {mse}.')"
   ]
  }
 ],
 "metadata": {
  "kernelspec": {
   "display_name": "Python 3",
   "language": "python",
   "name": "python3"
  },
  "language_info": {
   "codemirror_mode": {
    "name": "ipython",
    "version": 3
   },
   "file_extension": ".py",
   "mimetype": "text/x-python",
   "name": "python",
   "nbconvert_exporter": "python",
   "pygments_lexer": "ipython3",
   "version": "3.6.8"
  }
 },
 "nbformat": 4,
 "nbformat_minor": 2
}
