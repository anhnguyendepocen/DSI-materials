{
 "cells": [
  {
   "cell_type": "markdown",
   "metadata": {},
   "source": [
    "# Project 2: Prediction of Ames Housing Sale Price  \n",
    "--- \n",
    "- EDA and Cleaning \n",
    "- <b>Preprocessing and Feature Engineering</b> (YOU ARE HERE)\n",
    "- Model Benchmarks (***initial modelling)\n",
    "- Model Tuning \n",
    "- Production Model and Insights (***business recs)"
   ]
  },
  {
   "cell_type": "code",
   "execution_count": 32,
   "metadata": {},
   "outputs": [],
   "source": [
    "#Importing libraries \n",
    "\n",
    "import pandas as pd\n",
    "import numpy as np\n",
    "import seaborn as sns\n",
    "import matplotlib.pyplot as plt\n",
    "import scipy.stats as stats\n",
    "\n",
    "%matplotlib inline\n",
    "\n",
    "import warnings\n",
    "warnings.filterwarnings('ignore')"
   ]
  },
  {
   "cell_type": "markdown",
   "metadata": {},
   "source": [
    "--- \n",
    "#### Preprocessing and feature engineering, based on the findings of data cleaning and EDA in the previous notebook, will be done in this notebook. "
   ]
  },
  {
   "cell_type": "markdown",
   "metadata": {},
   "source": [
    "--- \n",
    "## Contents\n",
    "- [Preprocessing of train dataset](#Preprocessing-of-train-dataset)\n",
    "- [Preprocessing of test dataset](#Preprocessing-of-test-dataset)\n",
    "- [Exporting preprocessed data](#Exporting-preprocessed-data) "
   ]
  },
  {
   "cell_type": "markdown",
   "metadata": {},
   "source": [
    "---\n",
    "## Preprocessing of train dataset"
   ]
  },
  {
   "cell_type": "code",
   "execution_count": 33,
   "metadata": {},
   "outputs": [],
   "source": [
    "#Importing train dataset\n",
    "\n",
    "train = pd.read_csv('./datasets/train.csv')"
   ]
  },
  {
   "cell_type": "code",
   "execution_count": 34,
   "metadata": {
    "scrolled": true
   },
   "outputs": [
    {
     "data": {
      "text/html": [
       "<div>\n",
       "<style scoped>\n",
       "    .dataframe tbody tr th:only-of-type {\n",
       "        vertical-align: middle;\n",
       "    }\n",
       "\n",
       "    .dataframe tbody tr th {\n",
       "        vertical-align: top;\n",
       "    }\n",
       "\n",
       "    .dataframe thead th {\n",
       "        text-align: right;\n",
       "    }\n",
       "</style>\n",
       "<table border=\"1\" class=\"dataframe\">\n",
       "  <thead>\n",
       "    <tr style=\"text-align: right;\">\n",
       "      <th></th>\n",
       "      <th>Id</th>\n",
       "      <th>PID</th>\n",
       "      <th>MS SubClass</th>\n",
       "      <th>MS Zoning</th>\n",
       "      <th>Lot Frontage</th>\n",
       "      <th>Lot Area</th>\n",
       "      <th>Street</th>\n",
       "      <th>Alley</th>\n",
       "      <th>Lot Shape</th>\n",
       "      <th>Land Contour</th>\n",
       "      <th>...</th>\n",
       "      <th>Screen Porch</th>\n",
       "      <th>Pool Area</th>\n",
       "      <th>Pool QC</th>\n",
       "      <th>Fence</th>\n",
       "      <th>Misc Feature</th>\n",
       "      <th>Misc Val</th>\n",
       "      <th>Mo Sold</th>\n",
       "      <th>Yr Sold</th>\n",
       "      <th>Sale Type</th>\n",
       "      <th>SalePrice</th>\n",
       "    </tr>\n",
       "  </thead>\n",
       "  <tbody>\n",
       "    <tr>\n",
       "      <th>0</th>\n",
       "      <td>109</td>\n",
       "      <td>533352170</td>\n",
       "      <td>60</td>\n",
       "      <td>RL</td>\n",
       "      <td>NaN</td>\n",
       "      <td>13517</td>\n",
       "      <td>Pave</td>\n",
       "      <td>NaN</td>\n",
       "      <td>IR1</td>\n",
       "      <td>Lvl</td>\n",
       "      <td>...</td>\n",
       "      <td>0</td>\n",
       "      <td>0</td>\n",
       "      <td>NaN</td>\n",
       "      <td>NaN</td>\n",
       "      <td>NaN</td>\n",
       "      <td>0</td>\n",
       "      <td>3</td>\n",
       "      <td>2010</td>\n",
       "      <td>WD</td>\n",
       "      <td>130500</td>\n",
       "    </tr>\n",
       "    <tr>\n",
       "      <th>1</th>\n",
       "      <td>544</td>\n",
       "      <td>531379050</td>\n",
       "      <td>60</td>\n",
       "      <td>RL</td>\n",
       "      <td>43.0</td>\n",
       "      <td>11492</td>\n",
       "      <td>Pave</td>\n",
       "      <td>NaN</td>\n",
       "      <td>IR1</td>\n",
       "      <td>Lvl</td>\n",
       "      <td>...</td>\n",
       "      <td>0</td>\n",
       "      <td>0</td>\n",
       "      <td>NaN</td>\n",
       "      <td>NaN</td>\n",
       "      <td>NaN</td>\n",
       "      <td>0</td>\n",
       "      <td>4</td>\n",
       "      <td>2009</td>\n",
       "      <td>WD</td>\n",
       "      <td>220000</td>\n",
       "    </tr>\n",
       "    <tr>\n",
       "      <th>2</th>\n",
       "      <td>153</td>\n",
       "      <td>535304180</td>\n",
       "      <td>20</td>\n",
       "      <td>RL</td>\n",
       "      <td>68.0</td>\n",
       "      <td>7922</td>\n",
       "      <td>Pave</td>\n",
       "      <td>NaN</td>\n",
       "      <td>Reg</td>\n",
       "      <td>Lvl</td>\n",
       "      <td>...</td>\n",
       "      <td>0</td>\n",
       "      <td>0</td>\n",
       "      <td>NaN</td>\n",
       "      <td>NaN</td>\n",
       "      <td>NaN</td>\n",
       "      <td>0</td>\n",
       "      <td>1</td>\n",
       "      <td>2010</td>\n",
       "      <td>WD</td>\n",
       "      <td>109000</td>\n",
       "    </tr>\n",
       "    <tr>\n",
       "      <th>3</th>\n",
       "      <td>318</td>\n",
       "      <td>916386060</td>\n",
       "      <td>60</td>\n",
       "      <td>RL</td>\n",
       "      <td>73.0</td>\n",
       "      <td>9802</td>\n",
       "      <td>Pave</td>\n",
       "      <td>NaN</td>\n",
       "      <td>Reg</td>\n",
       "      <td>Lvl</td>\n",
       "      <td>...</td>\n",
       "      <td>0</td>\n",
       "      <td>0</td>\n",
       "      <td>NaN</td>\n",
       "      <td>NaN</td>\n",
       "      <td>NaN</td>\n",
       "      <td>0</td>\n",
       "      <td>4</td>\n",
       "      <td>2010</td>\n",
       "      <td>WD</td>\n",
       "      <td>174000</td>\n",
       "    </tr>\n",
       "    <tr>\n",
       "      <th>4</th>\n",
       "      <td>255</td>\n",
       "      <td>906425045</td>\n",
       "      <td>50</td>\n",
       "      <td>RL</td>\n",
       "      <td>82.0</td>\n",
       "      <td>14235</td>\n",
       "      <td>Pave</td>\n",
       "      <td>NaN</td>\n",
       "      <td>IR1</td>\n",
       "      <td>Lvl</td>\n",
       "      <td>...</td>\n",
       "      <td>0</td>\n",
       "      <td>0</td>\n",
       "      <td>NaN</td>\n",
       "      <td>NaN</td>\n",
       "      <td>NaN</td>\n",
       "      <td>0</td>\n",
       "      <td>3</td>\n",
       "      <td>2010</td>\n",
       "      <td>WD</td>\n",
       "      <td>138500</td>\n",
       "    </tr>\n",
       "  </tbody>\n",
       "</table>\n",
       "<p>5 rows × 81 columns</p>\n",
       "</div>"
      ],
      "text/plain": [
       "    Id        PID  MS SubClass MS Zoning  Lot Frontage  Lot Area Street Alley  \\\n",
       "0  109  533352170           60        RL           NaN     13517   Pave   NaN   \n",
       "1  544  531379050           60        RL          43.0     11492   Pave   NaN   \n",
       "2  153  535304180           20        RL          68.0      7922   Pave   NaN   \n",
       "3  318  916386060           60        RL          73.0      9802   Pave   NaN   \n",
       "4  255  906425045           50        RL          82.0     14235   Pave   NaN   \n",
       "\n",
       "  Lot Shape Land Contour  ... Screen Porch Pool Area Pool QC Fence  \\\n",
       "0       IR1          Lvl  ...            0         0     NaN   NaN   \n",
       "1       IR1          Lvl  ...            0         0     NaN   NaN   \n",
       "2       Reg          Lvl  ...            0         0     NaN   NaN   \n",
       "3       Reg          Lvl  ...            0         0     NaN   NaN   \n",
       "4       IR1          Lvl  ...            0         0     NaN   NaN   \n",
       "\n",
       "  Misc Feature Misc Val Mo Sold Yr Sold  Sale Type  SalePrice  \n",
       "0          NaN        0       3    2010        WD      130500  \n",
       "1          NaN        0       4    2009        WD      220000  \n",
       "2          NaN        0       1    2010        WD      109000  \n",
       "3          NaN        0       4    2010        WD      174000  \n",
       "4          NaN        0       3    2010        WD      138500  \n",
       "\n",
       "[5 rows x 81 columns]"
      ]
     },
     "execution_count": 34,
     "metadata": {},
     "output_type": "execute_result"
    }
   ],
   "source": [
    "train.head()"
   ]
  },
  {
   "cell_type": "code",
   "execution_count": 35,
   "metadata": {},
   "outputs": [],
   "source": [
    "#converting column names to lower case and removing space for easier coding \n",
    "\n",
    "train.columns = train.columns.str.lower()\n",
    "train.columns = train.columns.str.replace(' ', '')"
   ]
  },
  {
   "cell_type": "markdown",
   "metadata": {},
   "source": [
    "### Based on the EDA done in the previous notebook, the following changes will be made:"
   ]
  },
  {
   "cell_type": "markdown",
   "metadata": {},
   "source": [
    "#### Dealing with null values\n",
    "- Categorical columns with null values will be filled with 'None'\n",
    "- Numerical columns with null values will be filled with 0"
   ]
  },
  {
   "cell_type": "code",
   "execution_count": 36,
   "metadata": {},
   "outputs": [
    {
     "data": {
      "text/plain": [
       "Series([], dtype: int64)"
      ]
     },
     "execution_count": 36,
     "metadata": {},
     "output_type": "execute_result"
    }
   ],
   "source": [
    "train._get_numeric_data().fillna(0, inplace=True)\n",
    "train.fillna('None', inplace=True)\n",
    "train.isnull().sum()[train.isnull().sum()>0]"
   ]
  },
  {
   "cell_type": "code",
   "execution_count": 37,
   "metadata": {
    "scrolled": false
   },
   "outputs": [
    {
     "name": "stdout",
     "output_type": "stream",
     "text": [
      "<class 'pandas.core.frame.DataFrame'>\n",
      "RangeIndex: 2051 entries, 0 to 2050\n",
      "Data columns (total 81 columns):\n",
      " #   Column         Non-Null Count  Dtype  \n",
      "---  ------         --------------  -----  \n",
      " 0   id             2051 non-null   int64  \n",
      " 1   pid            2051 non-null   int64  \n",
      " 2   mssubclass     2051 non-null   int64  \n",
      " 3   mszoning       2051 non-null   object \n",
      " 4   lotfrontage    2051 non-null   float64\n",
      " 5   lotarea        2051 non-null   int64  \n",
      " 6   street         2051 non-null   object \n",
      " 7   alley          2051 non-null   object \n",
      " 8   lotshape       2051 non-null   object \n",
      " 9   landcontour    2051 non-null   object \n",
      " 10  utilities      2051 non-null   object \n",
      " 11  lotconfig      2051 non-null   object \n",
      " 12  landslope      2051 non-null   object \n",
      " 13  neighborhood   2051 non-null   object \n",
      " 14  condition1     2051 non-null   object \n",
      " 15  condition2     2051 non-null   object \n",
      " 16  bldgtype       2051 non-null   object \n",
      " 17  housestyle     2051 non-null   object \n",
      " 18  overallqual    2051 non-null   int64  \n",
      " 19  overallcond    2051 non-null   int64  \n",
      " 20  yearbuilt      2051 non-null   int64  \n",
      " 21  yearremod/add  2051 non-null   int64  \n",
      " 22  roofstyle      2051 non-null   object \n",
      " 23  roofmatl       2051 non-null   object \n",
      " 24  exterior1st    2051 non-null   object \n",
      " 25  exterior2nd    2051 non-null   object \n",
      " 26  masvnrtype     2051 non-null   object \n",
      " 27  masvnrarea     2051 non-null   float64\n",
      " 28  exterqual      2051 non-null   object \n",
      " 29  extercond      2051 non-null   object \n",
      " 30  foundation     2051 non-null   object \n",
      " 31  bsmtqual       2051 non-null   object \n",
      " 32  bsmtcond       2051 non-null   object \n",
      " 33  bsmtexposure   2051 non-null   object \n",
      " 34  bsmtfintype1   2051 non-null   object \n",
      " 35  bsmtfinsf1     2051 non-null   float64\n",
      " 36  bsmtfintype2   2051 non-null   object \n",
      " 37  bsmtfinsf2     2051 non-null   float64\n",
      " 38  bsmtunfsf      2051 non-null   float64\n",
      " 39  totalbsmtsf    2051 non-null   float64\n",
      " 40  heating        2051 non-null   object \n",
      " 41  heatingqc      2051 non-null   object \n",
      " 42  centralair     2051 non-null   object \n",
      " 43  electrical     2051 non-null   object \n",
      " 44  1stflrsf       2051 non-null   int64  \n",
      " 45  2ndflrsf       2051 non-null   int64  \n",
      " 46  lowqualfinsf   2051 non-null   int64  \n",
      " 47  grlivarea      2051 non-null   int64  \n",
      " 48  bsmtfullbath   2051 non-null   float64\n",
      " 49  bsmthalfbath   2051 non-null   float64\n",
      " 50  fullbath       2051 non-null   int64  \n",
      " 51  halfbath       2051 non-null   int64  \n",
      " 52  bedroomabvgr   2051 non-null   int64  \n",
      " 53  kitchenabvgr   2051 non-null   int64  \n",
      " 54  kitchenqual    2051 non-null   object \n",
      " 55  totrmsabvgrd   2051 non-null   int64  \n",
      " 56  functional     2051 non-null   object \n",
      " 57  fireplaces     2051 non-null   int64  \n",
      " 58  fireplacequ    2051 non-null   object \n",
      " 59  garagetype     2051 non-null   object \n",
      " 60  garageyrblt    2051 non-null   float64\n",
      " 61  garagefinish   2051 non-null   object \n",
      " 62  garagecars     2051 non-null   float64\n",
      " 63  garagearea     2051 non-null   float64\n",
      " 64  garagequal     2051 non-null   object \n",
      " 65  garagecond     2051 non-null   object \n",
      " 66  paveddrive     2051 non-null   object \n",
      " 67  wooddecksf     2051 non-null   int64  \n",
      " 68  openporchsf    2051 non-null   int64  \n",
      " 69  enclosedporch  2051 non-null   int64  \n",
      " 70  3ssnporch      2051 non-null   int64  \n",
      " 71  screenporch    2051 non-null   int64  \n",
      " 72  poolarea       2051 non-null   int64  \n",
      " 73  poolqc         2051 non-null   object \n",
      " 74  fence          2051 non-null   object \n",
      " 75  miscfeature    2051 non-null   object \n",
      " 76  miscval        2051 non-null   int64  \n",
      " 77  mosold         2051 non-null   int64  \n",
      " 78  yrsold         2051 non-null   int64  \n",
      " 79  saletype       2051 non-null   object \n",
      " 80  saleprice      2051 non-null   int64  \n",
      "dtypes: float64(11), int64(28), object(42)\n",
      "memory usage: 1.3+ MB\n"
     ]
    }
   ],
   "source": [
    "train.info()"
   ]
  },
  {
   "cell_type": "markdown",
   "metadata": {},
   "source": [
    "#### Drop columns with high % of 0 or None. These columns are have low correlation with sale price and will have minimal impact on sale price.\n",
    "   - bsmtfinsf2 (high % of 0)\n",
    "   - miscval (high % of 0)\n",
    "   - lowqualfinsf (high % of 0)\n",
    "   - bsmthalfbath (high % of 0)\n",
    "   - alley (high % of None)\n",
    "   - fence (high % of None)\n",
    "   - miscfeature (high % of None)\n",
    "\n",
    "#### Drop columns with high % of the same value and low correlation with sale price. \n",
    "- street\n",
    "- utilities \n",
    "- heating\n",
    "- bsmtfintype2 \n",
    "- centralair\n",
    "- saletype\n",
    "- bsmtcond\n",
    "- extercond\n",
    "- garagequal"
   ]
  },
  {
   "cell_type": "code",
   "execution_count": 38,
   "metadata": {},
   "outputs": [],
   "source": [
    "train.drop(['bsmtfinsf2', 'miscval', 'lowqualfinsf', 'bsmthalfbath', 'alley', 'fence', 'miscfeature','street', \n",
    "            'utilities', 'heating', 'bsmtfintype2', 'centralair', 'saletype', 'bsmtcond', 'extercond','garagequal'],\n",
    "           axis = 1, inplace = True)"
   ]
  },
  {
   "cell_type": "code",
   "execution_count": 39,
   "metadata": {
    "scrolled": true
   },
   "outputs": [
    {
     "data": {
      "text/plain": [
       "Index(['id', 'pid', 'mssubclass', 'mszoning', 'lotfrontage', 'lotarea',\n",
       "       'lotshape', 'landcontour', 'lotconfig', 'landslope', 'neighborhood',\n",
       "       'condition1', 'condition2', 'bldgtype', 'housestyle', 'overallqual',\n",
       "       'overallcond', 'yearbuilt', 'yearremod/add', 'roofstyle', 'roofmatl',\n",
       "       'exterior1st', 'exterior2nd', 'masvnrtype', 'masvnrarea', 'exterqual',\n",
       "       'foundation', 'bsmtqual', 'bsmtexposure', 'bsmtfintype1', 'bsmtfinsf1',\n",
       "       'bsmtunfsf', 'totalbsmtsf', 'heatingqc', 'electrical', '1stflrsf',\n",
       "       '2ndflrsf', 'grlivarea', 'bsmtfullbath', 'fullbath', 'halfbath',\n",
       "       'bedroomabvgr', 'kitchenabvgr', 'kitchenqual', 'totrmsabvgrd',\n",
       "       'functional', 'fireplaces', 'fireplacequ', 'garagetype', 'garageyrblt',\n",
       "       'garagefinish', 'garagecars', 'garagearea', 'garagecond', 'paveddrive',\n",
       "       'wooddecksf', 'openporchsf', 'enclosedporch', '3ssnporch',\n",
       "       'screenporch', 'poolarea', 'poolqc', 'mosold', 'yrsold', 'saleprice'],\n",
       "      dtype='object')"
      ]
     },
     "execution_count": 39,
     "metadata": {},
     "output_type": "execute_result"
    }
   ],
   "source": [
    "train.columns"
   ]
  },
  {
   "cell_type": "markdown",
   "metadata": {},
   "source": [
    "#### Drop 'pid' column as there is already an 'id' column to identify the house\n",
    "\n"
   ]
  },
  {
   "cell_type": "code",
   "execution_count": 40,
   "metadata": {},
   "outputs": [],
   "source": [
    "train.drop(['pid'], axis = 1, inplace = True)"
   ]
  },
  {
   "cell_type": "markdown",
   "metadata": {},
   "source": [
    "#### Drop columns with strong collinearity\n",
    "- totalbsmtsf\n",
    "- totrmsabvgrd\n",
    "- garagecars"
   ]
  },
  {
   "cell_type": "code",
   "execution_count": 41,
   "metadata": {},
   "outputs": [],
   "source": [
    "train.drop(['totalbsmtsf', 'totrmsabvgrd', 'garagecars'], axis = 1, inplace = True)"
   ]
  },
  {
   "cell_type": "code",
   "execution_count": 42,
   "metadata": {},
   "outputs": [
    {
     "data": {
      "text/plain": [
       "Index(['id', 'mssubclass', 'mszoning', 'lotfrontage', 'lotarea', 'lotshape',\n",
       "       'landcontour', 'lotconfig', 'landslope', 'neighborhood', 'condition1',\n",
       "       'condition2', 'bldgtype', 'housestyle', 'overallqual', 'overallcond',\n",
       "       'yearbuilt', 'yearremod/add', 'roofstyle', 'roofmatl', 'exterior1st',\n",
       "       'exterior2nd', 'masvnrtype', 'masvnrarea', 'exterqual', 'foundation',\n",
       "       'bsmtqual', 'bsmtexposure', 'bsmtfintype1', 'bsmtfinsf1', 'bsmtunfsf',\n",
       "       'heatingqc', 'electrical', '1stflrsf', '2ndflrsf', 'grlivarea',\n",
       "       'bsmtfullbath', 'fullbath', 'halfbath', 'bedroomabvgr', 'kitchenabvgr',\n",
       "       'kitchenqual', 'functional', 'fireplaces', 'fireplacequ', 'garagetype',\n",
       "       'garageyrblt', 'garagefinish', 'garagearea', 'garagecond', 'paveddrive',\n",
       "       'wooddecksf', 'openporchsf', 'enclosedporch', '3ssnporch',\n",
       "       'screenporch', 'poolarea', 'poolqc', 'mosold', 'yrsold', 'saleprice'],\n",
       "      dtype='object')"
      ]
     },
     "execution_count": 42,
     "metadata": {},
     "output_type": "execute_result"
    }
   ],
   "source": [
    "train.columns"
   ]
  },
  {
   "cell_type": "markdown",
   "metadata": {},
   "source": [
    "#### Drop outliers these columns \n",
    "- lotfrontage\n",
    "- lotarea\n",
    "- bsmtfinsf1\n",
    "- grlivarea"
   ]
  },
  {
   "cell_type": "code",
   "execution_count": 43,
   "metadata": {},
   "outputs": [],
   "source": [
    "train.drop(train[train['lotfrontage'] > 300].index, inplace = True)\n",
    "train.drop(train[train['lotarea'] > 100000].index, inplace = True)\n",
    "train.drop(train[train['bsmtfinsf1'] > 3500].index, inplace = True)\n",
    "train.drop(train[train['grlivarea'] > 4500].index, inplace = True)"
   ]
  },
  {
   "cell_type": "code",
   "execution_count": 44,
   "metadata": {},
   "outputs": [
    {
     "data": {
      "image/png": "[encoded data removed]",
      "text/plain": [
       "<Figure size 1080x216 with 4 Axes>"
      ]
     },
     "metadata": {
      "needs_background": "light"
     },
     "output_type": "display_data"
    }
   ],
   "source": [
    "#scatter plots to make sure outliers removed \n",
    "def subplot_scatter(dataframe, list_of_columns):\n",
    "    nrows = int(np.ceil(len(list_of_columns)/4)) \n",
    "    fig, ax = plt.subplots(nrows=nrows, ncols=4,figsize=(15, nrows*3)) \n",
    "    ax = ax.ravel() \n",
    "    for i, column in enumerate(list_of_columns): \n",
    "        sns.regplot(x=dataframe[column],y=dataframe['saleprice'], ax=ax[i], line_kws = {'color':'grey'})        \n",
    "        ax[i].set_title(f'{column} vs saleprice',fontsize=14)  \n",
    "        ax[i].set_xlabel(column, fontsize=12)\n",
    "        ax[i].set_ylabel('saleprice', fontsize=12)\n",
    "    plt.tight_layout()\n",
    "    \n",
    "subplot_scatter(train, ['lotfrontage', 'lotarea','bsmtfinsf1','grlivarea'])"
   ]
  },
  {
   "cell_type": "markdown",
   "metadata": {},
   "source": [
    "#### Convert ordinal categorical columns to numeric columns  \n",
    "- exterqual\n",
    "- bsmtqual\n",
    "- bsmtexposure\n",
    "- heatingqc\n",
    "- kitchenqual\n",
    "- fireplacequ\n",
    "- garagecond\n",
    "- lotshape\n",
    "\n"
   ]
  },
  {
   "cell_type": "code",
   "execution_count": 45,
   "metadata": {},
   "outputs": [],
   "source": [
    "ordinal_numeric = {'exterqual': {'Ex': 5, 'Gd': 4, 'TA': 3, 'Fa': 2, 'Po': 1, 'None': 0},\n",
    " 'bsmtqual': {'Ex': 5, 'Gd': 4, 'TA': 3, 'Fa': 2, 'Po': 1, 'None': 0},\n",
    " 'heatingqc': {'Ex': 5, 'Gd': 4, 'TA': 3, 'Fa': 2, 'Po': 1, 'None': 0},\n",
    " 'fireplacequ': {'Ex': 5, 'Gd': 4, 'TA': 3, 'Fa': 2, 'Po': 1, 'None': 0},\n",
    " 'garagecond': {'Ex': 5, 'Gd': 4, 'TA': 3, 'Fa': 2, 'Po': 1, 'None': 0},\n",
    " 'bsmtexposure': {'Gd': 4, 'Av': 3, 'Mn': 2, 'No': 1, 'None':0},\n",
    " 'lotshape': {'IR3': 3, 'IR2': 2, 'IR1': 1, 'Reg': 0}}     \n",
    "\n",
    "train.replace(ordinal_numeric, inplace=True)"
   ]
  },
  {
   "cell_type": "code",
   "execution_count": 46,
   "metadata": {},
   "outputs": [
    {
     "name": "stdout",
     "output_type": "stream",
     "text": [
      " exterqual unique values: [4 3 5 2]\n",
      " bsmtqual unique values: [3 4 2 0 5 1]\n",
      " heatingqc unique values: [5 3 4 2 1]\n",
      " fireplacequ unique values: [0 3 4 1 5 2]\n",
      " garagecond unique values: [3 2 0 1 4 5]\n",
      " bsmtexposure unique values: [1 4 3 0 2]\n",
      " lotshape unique values: [1 0 2 3]\n"
     ]
    }
   ],
   "source": [
    "print(f\" exterqual unique values: {train['exterqual'].unique()}\")\n",
    "print(f\" bsmtqual unique values: {train['bsmtqual'].unique()}\")\n",
    "print(f\" heatingqc unique values: {train['heatingqc'].unique()}\")\n",
    "print(f\" fireplacequ unique values: {train['fireplacequ'].unique()}\")\n",
    "print(f\" garagecond unique values: {train['garagecond'].unique()}\")\n",
    "print(f\" bsmtexposure unique values: {train['bsmtexposure'].unique()}\")\n",
    "print(f\" lotshape unique values: {train['lotshape'].unique()}\")"
   ]
  },
  {
   "cell_type": "markdown",
   "metadata": {},
   "source": [
    "#### New columns to indicate presence of features\n",
    "These features seem to have strong positive correlation with sale price. Thus, columns to indicate their presence in the house will be added\n",
    "- porch\n",
    "    - drop: 3ssnporch, enclosedporch, openporchsf, screenporch\n",
    "- pool\n",
    "    - drop: poolarea, poolqc\n",
    "- garage\n",
    "- fireplace\n",
    "- bsmt\n",
    "- masvnr\n",
    "\n"
   ]
  },
  {
   "cell_type": "code",
   "execution_count": 47,
   "metadata": {
    "scrolled": true
   },
   "outputs": [
    {
     "data": {
      "text/plain": [
       "array([1, 0])"
      ]
     },
     "execution_count": 47,
     "metadata": {},
     "output_type": "execute_result"
    }
   ],
   "source": [
    "# porch\n",
    "porch_col = ['3ssnporch','enclosedporch','openporchsf','screenporch']\n",
    "train['porch'] = train[porch_col].sum(axis=1).apply(lambda x: 1 if x > 0 else 0)\n",
    "train.drop(porch_col, axis = 1, inplace = True)\n",
    "\n",
    "train['porch'].unique()"
   ]
  },
  {
   "cell_type": "code",
   "execution_count": 48,
   "metadata": {
    "scrolled": false
   },
   "outputs": [
    {
     "data": {
      "text/plain": [
       "array([0, 1])"
      ]
     },
     "execution_count": 48,
     "metadata": {},
     "output_type": "execute_result"
    }
   ],
   "source": [
    "#pool\n",
    "pool_col = ['poolarea','poolqc']\n",
    "train['pool'] = train['poolarea'].apply(lambda x: 1 if x > 0 else 0)\n",
    "train.drop(pool_col, axis = 1, inplace = True)\n",
    "\n",
    "train['pool'].unique()"
   ]
  },
  {
   "cell_type": "code",
   "execution_count": 49,
   "metadata": {},
   "outputs": [
    {
     "name": "stdout",
     "output_type": "stream",
     "text": [
      " garage unique values: [1 0]\n",
      " fireplace unique values: [0 1]\n",
      " bsmt unique values: [1]\n",
      " masvnr unique values: [1 0]\n"
     ]
    }
   ],
   "source": [
    "#garage, fireplace, bsmt, masvnr\n",
    "train['garage'] = train['garagearea'].apply(lambda x: 1 if x > 0 else 0)\n",
    "train['fireplace'] = train['fireplaces'].apply(lambda x: 1 if x > 0 else 0)\n",
    "train['bsmt'] = train['bsmtqual'].apply(lambda x: 0 if x == 'None' else 1)\n",
    "train['masvnr'] = train['masvnrarea'].apply(lambda x: 1 if x > 0 else 0)\n",
    "\n",
    "print(f\" garage unique values: {train['garage'].unique()}\")\n",
    "print(f\" fireplace unique values: {train['fireplace'].unique()}\")\n",
    "print(f\" bsmt unique values: {train['bsmt'].unique()}\")\n",
    "print(f\" masvnr unique values: {train['masvnr'].unique()}\")"
   ]
  },
  {
   "cell_type": "markdown",
   "metadata": {},
   "source": [
    "#### New columns to show new features\n",
    "- agesold \n",
    "    - Indicate age of house when sold \n",
    "- remodelled\n",
    "    - Indicate if house was remodelled before \n",
    "- bighouse \n",
    "    - Indicate if house has more than 2 floors "
   ]
  },
  {
   "cell_type": "code",
   "execution_count": 50,
   "metadata": {
    "scrolled": false
   },
   "outputs": [
    {
     "name": "stdout",
     "output_type": "stream",
     "text": [
      "[ 34  13  57   4 110  44   1  51  55  38  37 129   9   6  92  46  30  39\n",
      "  18  48  45  71 112  58  28  77  11   2  29  33  43   0  31  54  73  68\n",
      "  56   5  81  40  41  52  12  88  47  78  82  50  97  93  15  49  87  32\n",
      " 109   8  91   7  70  62  53  83  74  35 135  98  59  76  27  95  19  36\n",
      "  89  69  24  65 118  66   3  42 106  10  20  22  99  26  23  60  25  86\n",
      "  90  21  84  14  63  94  72  67 125 114  61  96  64  17 119  16  80 100\n",
      " 107  79 101 108 127  85 136 103 128 115 117 111  75 113]\n"
     ]
    },
    {
     "data": {
      "text/html": [
       "<div>\n",
       "<style scoped>\n",
       "    .dataframe tbody tr th:only-of-type {\n",
       "        vertical-align: middle;\n",
       "    }\n",
       "\n",
       "    .dataframe tbody tr th {\n",
       "        vertical-align: top;\n",
       "    }\n",
       "\n",
       "    .dataframe thead th {\n",
       "        text-align: right;\n",
       "    }\n",
       "</style>\n",
       "<table border=\"1\" class=\"dataframe\">\n",
       "  <thead>\n",
       "    <tr style=\"text-align: right;\">\n",
       "      <th></th>\n",
       "      <th>id</th>\n",
       "      <th>mssubclass</th>\n",
       "      <th>mszoning</th>\n",
       "      <th>lotfrontage</th>\n",
       "      <th>lotarea</th>\n",
       "      <th>lotshape</th>\n",
       "      <th>landcontour</th>\n",
       "      <th>lotconfig</th>\n",
       "      <th>landslope</th>\n",
       "      <th>neighborhood</th>\n",
       "      <th>...</th>\n",
       "      <th>mosold</th>\n",
       "      <th>yrsold</th>\n",
       "      <th>saleprice</th>\n",
       "      <th>porch</th>\n",
       "      <th>pool</th>\n",
       "      <th>garage</th>\n",
       "      <th>fireplace</th>\n",
       "      <th>bsmt</th>\n",
       "      <th>masvnr</th>\n",
       "      <th>agesold</th>\n",
       "    </tr>\n",
       "  </thead>\n",
       "  <tbody>\n",
       "    <tr>\n",
       "      <th>0</th>\n",
       "      <td>109</td>\n",
       "      <td>60</td>\n",
       "      <td>RL</td>\n",
       "      <td>0.0</td>\n",
       "      <td>13517</td>\n",
       "      <td>1</td>\n",
       "      <td>Lvl</td>\n",
       "      <td>CulDSac</td>\n",
       "      <td>Gtl</td>\n",
       "      <td>Sawyer</td>\n",
       "      <td>...</td>\n",
       "      <td>3</td>\n",
       "      <td>2010</td>\n",
       "      <td>130500</td>\n",
       "      <td>1</td>\n",
       "      <td>0</td>\n",
       "      <td>1</td>\n",
       "      <td>0</td>\n",
       "      <td>1</td>\n",
       "      <td>1</td>\n",
       "      <td>34</td>\n",
       "    </tr>\n",
       "    <tr>\n",
       "      <th>1</th>\n",
       "      <td>544</td>\n",
       "      <td>60</td>\n",
       "      <td>RL</td>\n",
       "      <td>43.0</td>\n",
       "      <td>11492</td>\n",
       "      <td>1</td>\n",
       "      <td>Lvl</td>\n",
       "      <td>CulDSac</td>\n",
       "      <td>Gtl</td>\n",
       "      <td>SawyerW</td>\n",
       "      <td>...</td>\n",
       "      <td>4</td>\n",
       "      <td>2009</td>\n",
       "      <td>220000</td>\n",
       "      <td>1</td>\n",
       "      <td>0</td>\n",
       "      <td>1</td>\n",
       "      <td>1</td>\n",
       "      <td>1</td>\n",
       "      <td>1</td>\n",
       "      <td>13</td>\n",
       "    </tr>\n",
       "  </tbody>\n",
       "</table>\n",
       "<p>2 rows × 62 columns</p>\n",
       "</div>"
      ],
      "text/plain": [
       "    id  mssubclass mszoning  lotfrontage  lotarea  lotshape landcontour  \\\n",
       "0  109          60       RL          0.0    13517         1         Lvl   \n",
       "1  544          60       RL         43.0    11492         1         Lvl   \n",
       "\n",
       "  lotconfig landslope neighborhood  ... mosold yrsold saleprice porch  pool  \\\n",
       "0   CulDSac       Gtl       Sawyer  ...      3   2010    130500     1     0   \n",
       "1   CulDSac       Gtl      SawyerW  ...      4   2009    220000     1     0   \n",
       "\n",
       "   garage  fireplace  bsmt masvnr agesold  \n",
       "0       1          0     1      1      34  \n",
       "1       1          1     1      1      13  \n",
       "\n",
       "[2 rows x 62 columns]"
      ]
     },
     "execution_count": 50,
     "metadata": {},
     "output_type": "execute_result"
    }
   ],
   "source": [
    "#agesold\n",
    "train['agesold'] = train['yrsold']-train['yearbuilt']\n",
    "print(train['agesold'].unique())\n",
    "train.head(2)"
   ]
  },
  {
   "cell_type": "code",
   "execution_count": 51,
   "metadata": {
    "scrolled": true
   },
   "outputs": [
    {
     "name": "stdout",
     "output_type": "stream",
     "text": [
      "[0 1]\n"
     ]
    },
    {
     "data": {
      "text/html": [
       "<div>\n",
       "<style scoped>\n",
       "    .dataframe tbody tr th:only-of-type {\n",
       "        vertical-align: middle;\n",
       "    }\n",
       "\n",
       "    .dataframe tbody tr th {\n",
       "        vertical-align: top;\n",
       "    }\n",
       "\n",
       "    .dataframe thead th {\n",
       "        text-align: right;\n",
       "    }\n",
       "</style>\n",
       "<table border=\"1\" class=\"dataframe\">\n",
       "  <thead>\n",
       "    <tr style=\"text-align: right;\">\n",
       "      <th></th>\n",
       "      <th>id</th>\n",
       "      <th>mssubclass</th>\n",
       "      <th>mszoning</th>\n",
       "      <th>lotfrontage</th>\n",
       "      <th>lotarea</th>\n",
       "      <th>lotshape</th>\n",
       "      <th>landcontour</th>\n",
       "      <th>lotconfig</th>\n",
       "      <th>landslope</th>\n",
       "      <th>neighborhood</th>\n",
       "      <th>...</th>\n",
       "      <th>yrsold</th>\n",
       "      <th>saleprice</th>\n",
       "      <th>porch</th>\n",
       "      <th>pool</th>\n",
       "      <th>garage</th>\n",
       "      <th>fireplace</th>\n",
       "      <th>bsmt</th>\n",
       "      <th>masvnr</th>\n",
       "      <th>agesold</th>\n",
       "      <th>remodelled</th>\n",
       "    </tr>\n",
       "  </thead>\n",
       "  <tbody>\n",
       "    <tr>\n",
       "      <th>0</th>\n",
       "      <td>109</td>\n",
       "      <td>60</td>\n",
       "      <td>RL</td>\n",
       "      <td>0.0</td>\n",
       "      <td>13517</td>\n",
       "      <td>1</td>\n",
       "      <td>Lvl</td>\n",
       "      <td>CulDSac</td>\n",
       "      <td>Gtl</td>\n",
       "      <td>Sawyer</td>\n",
       "      <td>...</td>\n",
       "      <td>2010</td>\n",
       "      <td>130500</td>\n",
       "      <td>1</td>\n",
       "      <td>0</td>\n",
       "      <td>1</td>\n",
       "      <td>0</td>\n",
       "      <td>1</td>\n",
       "      <td>1</td>\n",
       "      <td>34</td>\n",
       "      <td>0</td>\n",
       "    </tr>\n",
       "    <tr>\n",
       "      <th>1</th>\n",
       "      <td>544</td>\n",
       "      <td>60</td>\n",
       "      <td>RL</td>\n",
       "      <td>43.0</td>\n",
       "      <td>11492</td>\n",
       "      <td>1</td>\n",
       "      <td>Lvl</td>\n",
       "      <td>CulDSac</td>\n",
       "      <td>Gtl</td>\n",
       "      <td>SawyerW</td>\n",
       "      <td>...</td>\n",
       "      <td>2009</td>\n",
       "      <td>220000</td>\n",
       "      <td>1</td>\n",
       "      <td>0</td>\n",
       "      <td>1</td>\n",
       "      <td>1</td>\n",
       "      <td>1</td>\n",
       "      <td>1</td>\n",
       "      <td>13</td>\n",
       "      <td>0</td>\n",
       "    </tr>\n",
       "  </tbody>\n",
       "</table>\n",
       "<p>2 rows × 62 columns</p>\n",
       "</div>"
      ],
      "text/plain": [
       "    id  mssubclass mszoning  lotfrontage  lotarea  lotshape landcontour  \\\n",
       "0  109          60       RL          0.0    13517         1         Lvl   \n",
       "1  544          60       RL         43.0    11492         1         Lvl   \n",
       "\n",
       "  lotconfig landslope neighborhood  ... yrsold saleprice porch pool  garage  \\\n",
       "0   CulDSac       Gtl       Sawyer  ...   2010    130500     1    0       1   \n",
       "1   CulDSac       Gtl      SawyerW  ...   2009    220000     1    0       1   \n",
       "\n",
       "   fireplace  bsmt masvnr agesold remodelled  \n",
       "0          0     1      1      34          0  \n",
       "1          1     1      1      13          0  \n",
       "\n",
       "[2 rows x 62 columns]"
      ]
     },
     "execution_count": 51,
     "metadata": {},
     "output_type": "execute_result"
    }
   ],
   "source": [
    "#remodelled\n",
    "train['remodelled'] = np.where(train['yearremod/add'] == train['yearbuilt'], 1, 0)\n",
    "print(train['remodelled'].unique())\n",
    "train.drop(['yearremod/add'], axis = 1, inplace = True)\n",
    "train.head(2)"
   ]
  },
  {
   "cell_type": "code",
   "execution_count": 52,
   "metadata": {
    "scrolled": true
   },
   "outputs": [
    {
     "name": "stdout",
     "output_type": "stream",
     "text": [
      "[0 1]\n"
     ]
    },
    {
     "data": {
      "text/html": [
       "<div>\n",
       "<style scoped>\n",
       "    .dataframe tbody tr th:only-of-type {\n",
       "        vertical-align: middle;\n",
       "    }\n",
       "\n",
       "    .dataframe tbody tr th {\n",
       "        vertical-align: top;\n",
       "    }\n",
       "\n",
       "    .dataframe thead th {\n",
       "        text-align: right;\n",
       "    }\n",
       "</style>\n",
       "<table border=\"1\" class=\"dataframe\">\n",
       "  <thead>\n",
       "    <tr style=\"text-align: right;\">\n",
       "      <th></th>\n",
       "      <th>id</th>\n",
       "      <th>mssubclass</th>\n",
       "      <th>mszoning</th>\n",
       "      <th>lotfrontage</th>\n",
       "      <th>lotarea</th>\n",
       "      <th>lotshape</th>\n",
       "      <th>landcontour</th>\n",
       "      <th>lotconfig</th>\n",
       "      <th>landslope</th>\n",
       "      <th>neighborhood</th>\n",
       "      <th>...</th>\n",
       "      <th>saleprice</th>\n",
       "      <th>porch</th>\n",
       "      <th>pool</th>\n",
       "      <th>garage</th>\n",
       "      <th>fireplace</th>\n",
       "      <th>bsmt</th>\n",
       "      <th>masvnr</th>\n",
       "      <th>agesold</th>\n",
       "      <th>remodelled</th>\n",
       "      <th>bighouse</th>\n",
       "    </tr>\n",
       "  </thead>\n",
       "  <tbody>\n",
       "    <tr>\n",
       "      <th>0</th>\n",
       "      <td>109</td>\n",
       "      <td>60</td>\n",
       "      <td>RL</td>\n",
       "      <td>0.0</td>\n",
       "      <td>13517</td>\n",
       "      <td>1</td>\n",
       "      <td>Lvl</td>\n",
       "      <td>CulDSac</td>\n",
       "      <td>Gtl</td>\n",
       "      <td>Sawyer</td>\n",
       "      <td>...</td>\n",
       "      <td>130500</td>\n",
       "      <td>1</td>\n",
       "      <td>0</td>\n",
       "      <td>1</td>\n",
       "      <td>0</td>\n",
       "      <td>1</td>\n",
       "      <td>1</td>\n",
       "      <td>34</td>\n",
       "      <td>0</td>\n",
       "      <td>0</td>\n",
       "    </tr>\n",
       "    <tr>\n",
       "      <th>1</th>\n",
       "      <td>544</td>\n",
       "      <td>60</td>\n",
       "      <td>RL</td>\n",
       "      <td>43.0</td>\n",
       "      <td>11492</td>\n",
       "      <td>1</td>\n",
       "      <td>Lvl</td>\n",
       "      <td>CulDSac</td>\n",
       "      <td>Gtl</td>\n",
       "      <td>SawyerW</td>\n",
       "      <td>...</td>\n",
       "      <td>220000</td>\n",
       "      <td>1</td>\n",
       "      <td>0</td>\n",
       "      <td>1</td>\n",
       "      <td>1</td>\n",
       "      <td>1</td>\n",
       "      <td>1</td>\n",
       "      <td>13</td>\n",
       "      <td>0</td>\n",
       "      <td>0</td>\n",
       "    </tr>\n",
       "  </tbody>\n",
       "</table>\n",
       "<p>2 rows × 63 columns</p>\n",
       "</div>"
      ],
      "text/plain": [
       "    id  mssubclass mszoning  lotfrontage  lotarea  lotshape landcontour  \\\n",
       "0  109          60       RL          0.0    13517         1         Lvl   \n",
       "1  544          60       RL         43.0    11492         1         Lvl   \n",
       "\n",
       "  lotconfig landslope neighborhood  ... saleprice porch pool garage  \\\n",
       "0   CulDSac       Gtl       Sawyer  ...    130500     1    0      1   \n",
       "1   CulDSac       Gtl      SawyerW  ...    220000     1    0      1   \n",
       "\n",
       "   fireplace  bsmt  masvnr agesold remodelled bighouse  \n",
       "0          0     1       1      34          0        0  \n",
       "1          1     1       1      13          0        0  \n",
       "\n",
       "[2 rows x 63 columns]"
      ]
     },
     "execution_count": 52,
     "metadata": {},
     "output_type": "execute_result"
    }
   ],
   "source": [
    "#bighouse\n",
    "train['bighouse'] = np.where(train['1stflrsf']+train['2ndflrsf'] == train['grlivarea'], 0, 1)\n",
    "print(train['bighouse'].unique())\n",
    "train.head(2)"
   ]
  },
  {
   "cell_type": "markdown",
   "metadata": {},
   "source": [
    "#### Drop columns \n",
    "- garageyrblt\n",
    "- 1stflrsf"
   ]
  },
  {
   "cell_type": "code",
   "execution_count": 53,
   "metadata": {
    "scrolled": true
   },
   "outputs": [
    {
     "data": {
      "text/plain": [
       "Index(['id', 'mssubclass', 'mszoning', 'lotfrontage', 'lotarea', 'lotshape',\n",
       "       'landcontour', 'lotconfig', 'landslope', 'neighborhood', 'condition1',\n",
       "       'condition2', 'bldgtype', 'housestyle', 'overallqual', 'overallcond',\n",
       "       'yearbuilt', 'roofstyle', 'roofmatl', 'exterior1st', 'exterior2nd',\n",
       "       'masvnrtype', 'masvnrarea', 'exterqual', 'foundation', 'bsmtqual',\n",
       "       'bsmtexposure', 'bsmtfintype1', 'bsmtfinsf1', 'bsmtunfsf', 'heatingqc',\n",
       "       'electrical', '2ndflrsf', 'grlivarea', 'bsmtfullbath', 'fullbath',\n",
       "       'halfbath', 'bedroomabvgr', 'kitchenabvgr', 'kitchenqual', 'functional',\n",
       "       'fireplaces', 'fireplacequ', 'garagetype', 'garagefinish', 'garagearea',\n",
       "       'garagecond', 'paveddrive', 'wooddecksf', 'mosold', 'yrsold',\n",
       "       'saleprice', 'porch', 'pool', 'garage', 'fireplace', 'bsmt', 'masvnr',\n",
       "       'agesold', 'remodelled', 'bighouse'],\n",
       "      dtype='object')"
      ]
     },
     "execution_count": 53,
     "metadata": {},
     "output_type": "execute_result"
    }
   ],
   "source": [
    "train.drop(['garageyrblt', '1stflrsf'], axis = 1, inplace = True)\n",
    "train.columns"
   ]
  },
  {
   "cell_type": "markdown",
   "metadata": {},
   "source": [
    "Add new column\n",
    "- 2ndflr \n",
    "    - drop 2ndflrsf"
   ]
  },
  {
   "cell_type": "code",
   "execution_count": 54,
   "metadata": {
    "scrolled": true
   },
   "outputs": [
    {
     "name": "stdout",
     "output_type": "stream",
     "text": [
      " 2ndflr unique values: [1 0]\n"
     ]
    }
   ],
   "source": [
    "#2ndflr\n",
    "train['2ndflr'] = train['2ndflrsf'].apply(lambda x: 1 if x > 0 else 0)\n",
    "train.drop(['2ndflrsf'], axis = 1, inplace = True)\n",
    "print(f\" 2ndflr unique values: {train['2ndflr'].unique()}\")"
   ]
  },
  {
   "cell_type": "markdown",
   "metadata": {},
   "source": [
    "#### Modifications to columns\n",
    "- landslope\n",
    "    - Group Sev with Mod"
   ]
  },
  {
   "cell_type": "code",
   "execution_count": 55,
   "metadata": {},
   "outputs": [
    {
     "data": {
      "text/plain": [
       "flat      1951\n",
       "sloped      95\n",
       "Name: landslope, dtype: int64"
      ]
     },
     "execution_count": 55,
     "metadata": {},
     "output_type": "execute_result"
    }
   ],
   "source": [
    "train['landslope'] = train['landslope'].apply(lambda x: 'flat' if x == 'Gtl' else 'sloped')\n",
    "train['landslope'].value_counts()"
   ]
  },
  {
   "cell_type": "code",
   "execution_count": 56,
   "metadata": {
    "scrolled": false
   },
   "outputs": [
    {
     "name": "stdout",
     "output_type": "stream",
     "text": [
      "<class 'pandas.core.frame.DataFrame'>\n",
      "Int64Index: 2046 entries, 0 to 2050\n",
      "Data columns (total 61 columns):\n",
      " #   Column        Non-Null Count  Dtype  \n",
      "---  ------        --------------  -----  \n",
      " 0   id            2046 non-null   int64  \n",
      " 1   mssubclass    2046 non-null   int64  \n",
      " 2   mszoning      2046 non-null   object \n",
      " 3   lotfrontage   2046 non-null   float64\n",
      " 4   lotarea       2046 non-null   int64  \n",
      " 5   lotshape      2046 non-null   int64  \n",
      " 6   landcontour   2046 non-null   object \n",
      " 7   lotconfig     2046 non-null   object \n",
      " 8   landslope     2046 non-null   object \n",
      " 9   neighborhood  2046 non-null   object \n",
      " 10  condition1    2046 non-null   object \n",
      " 11  condition2    2046 non-null   object \n",
      " 12  bldgtype      2046 non-null   object \n",
      " 13  housestyle    2046 non-null   object \n",
      " 14  overallqual   2046 non-null   int64  \n",
      " 15  overallcond   2046 non-null   int64  \n",
      " 16  yearbuilt     2046 non-null   int64  \n",
      " 17  roofstyle     2046 non-null   object \n",
      " 18  roofmatl      2046 non-null   object \n",
      " 19  exterior1st   2046 non-null   object \n",
      " 20  exterior2nd   2046 non-null   object \n",
      " 21  masvnrtype    2046 non-null   object \n",
      " 22  masvnrarea    2046 non-null   float64\n",
      " 23  exterqual     2046 non-null   int64  \n",
      " 24  foundation    2046 non-null   object \n",
      " 25  bsmtqual      2046 non-null   int64  \n",
      " 26  bsmtexposure  2046 non-null   int64  \n",
      " 27  bsmtfintype1  2046 non-null   object \n",
      " 28  bsmtfinsf1    2046 non-null   float64\n",
      " 29  bsmtunfsf     2046 non-null   float64\n",
      " 30  heatingqc     2046 non-null   int64  \n",
      " 31  electrical    2046 non-null   object \n",
      " 32  grlivarea     2046 non-null   int64  \n",
      " 33  bsmtfullbath  2046 non-null   float64\n",
      " 34  fullbath      2046 non-null   int64  \n",
      " 35  halfbath      2046 non-null   int64  \n",
      " 36  bedroomabvgr  2046 non-null   int64  \n",
      " 37  kitchenabvgr  2046 non-null   int64  \n",
      " 38  kitchenqual   2046 non-null   object \n",
      " 39  functional    2046 non-null   object \n",
      " 40  fireplaces    2046 non-null   int64  \n",
      " 41  fireplacequ   2046 non-null   int64  \n",
      " 42  garagetype    2046 non-null   object \n",
      " 43  garagefinish  2046 non-null   object \n",
      " 44  garagearea    2046 non-null   float64\n",
      " 45  garagecond    2046 non-null   int64  \n",
      " 46  paveddrive    2046 non-null   object \n",
      " 47  wooddecksf    2046 non-null   int64  \n",
      " 48  mosold        2046 non-null   int64  \n",
      " 49  yrsold        2046 non-null   int64  \n",
      " 50  saleprice     2046 non-null   int64  \n",
      " 51  porch         2046 non-null   int64  \n",
      " 52  pool          2046 non-null   int64  \n",
      " 53  garage        2046 non-null   int64  \n",
      " 54  fireplace     2046 non-null   int64  \n",
      " 55  bsmt          2046 non-null   int64  \n",
      " 56  masvnr        2046 non-null   int64  \n",
      " 57  agesold       2046 non-null   int64  \n",
      " 58  remodelled    2046 non-null   int64  \n",
      " 59  bighouse      2046 non-null   int64  \n",
      " 60  2ndflr        2046 non-null   int64  \n",
      "dtypes: float64(6), int64(33), object(22)\n",
      "memory usage: 991.0+ KB\n"
     ]
    }
   ],
   "source": [
    "train.info()"
   ]
  },
  {
   "cell_type": "markdown",
   "metadata": {},
   "source": [
    "---\n",
    "## Preprocessing of test dataset\n",
    "\n",
    "#### I will repeat the steps I took for preprocessing the train dataset, except removing outliers to preserve number of rows in test dataframe"
   ]
  },
  {
   "cell_type": "code",
   "execution_count": 57,
   "metadata": {},
   "outputs": [],
   "source": [
    "#Importing test dataset\n",
    "test = pd.read_csv('./datasets/test.csv')"
   ]
  },
  {
   "cell_type": "code",
   "execution_count": 58,
   "metadata": {
    "scrolled": false
   },
   "outputs": [
    {
     "data": {
      "text/html": [
       "<div>\n",
       "<style scoped>\n",
       "    .dataframe tbody tr th:only-of-type {\n",
       "        vertical-align: middle;\n",
       "    }\n",
       "\n",
       "    .dataframe tbody tr th {\n",
       "        vertical-align: top;\n",
       "    }\n",
       "\n",
       "    .dataframe thead th {\n",
       "        text-align: right;\n",
       "    }\n",
       "</style>\n",
       "<table border=\"1\" class=\"dataframe\">\n",
       "  <thead>\n",
       "    <tr style=\"text-align: right;\">\n",
       "      <th></th>\n",
       "      <th>Id</th>\n",
       "      <th>PID</th>\n",
       "      <th>MS SubClass</th>\n",
       "      <th>MS Zoning</th>\n",
       "      <th>Lot Frontage</th>\n",
       "      <th>Lot Area</th>\n",
       "      <th>Street</th>\n",
       "      <th>Alley</th>\n",
       "      <th>Lot Shape</th>\n",
       "      <th>Land Contour</th>\n",
       "      <th>...</th>\n",
       "      <th>3Ssn Porch</th>\n",
       "      <th>Screen Porch</th>\n",
       "      <th>Pool Area</th>\n",
       "      <th>Pool QC</th>\n",
       "      <th>Fence</th>\n",
       "      <th>Misc Feature</th>\n",
       "      <th>Misc Val</th>\n",
       "      <th>Mo Sold</th>\n",
       "      <th>Yr Sold</th>\n",
       "      <th>Sale Type</th>\n",
       "    </tr>\n",
       "  </thead>\n",
       "  <tbody>\n",
       "    <tr>\n",
       "      <th>0</th>\n",
       "      <td>2658</td>\n",
       "      <td>902301120</td>\n",
       "      <td>190</td>\n",
       "      <td>RM</td>\n",
       "      <td>69.0</td>\n",
       "      <td>9142</td>\n",
       "      <td>Pave</td>\n",
       "      <td>Grvl</td>\n",
       "      <td>Reg</td>\n",
       "      <td>Lvl</td>\n",
       "      <td>...</td>\n",
       "      <td>0</td>\n",
       "      <td>0</td>\n",
       "      <td>0</td>\n",
       "      <td>NaN</td>\n",
       "      <td>NaN</td>\n",
       "      <td>NaN</td>\n",
       "      <td>0</td>\n",
       "      <td>4</td>\n",
       "      <td>2006</td>\n",
       "      <td>WD</td>\n",
       "    </tr>\n",
       "    <tr>\n",
       "      <th>1</th>\n",
       "      <td>2718</td>\n",
       "      <td>905108090</td>\n",
       "      <td>90</td>\n",
       "      <td>RL</td>\n",
       "      <td>NaN</td>\n",
       "      <td>9662</td>\n",
       "      <td>Pave</td>\n",
       "      <td>NaN</td>\n",
       "      <td>IR1</td>\n",
       "      <td>Lvl</td>\n",
       "      <td>...</td>\n",
       "      <td>0</td>\n",
       "      <td>0</td>\n",
       "      <td>0</td>\n",
       "      <td>NaN</td>\n",
       "      <td>NaN</td>\n",
       "      <td>NaN</td>\n",
       "      <td>0</td>\n",
       "      <td>8</td>\n",
       "      <td>2006</td>\n",
       "      <td>WD</td>\n",
       "    </tr>\n",
       "    <tr>\n",
       "      <th>2</th>\n",
       "      <td>2414</td>\n",
       "      <td>528218130</td>\n",
       "      <td>60</td>\n",
       "      <td>RL</td>\n",
       "      <td>58.0</td>\n",
       "      <td>17104</td>\n",
       "      <td>Pave</td>\n",
       "      <td>NaN</td>\n",
       "      <td>IR1</td>\n",
       "      <td>Lvl</td>\n",
       "      <td>...</td>\n",
       "      <td>0</td>\n",
       "      <td>0</td>\n",
       "      <td>0</td>\n",
       "      <td>NaN</td>\n",
       "      <td>NaN</td>\n",
       "      <td>NaN</td>\n",
       "      <td>0</td>\n",
       "      <td>9</td>\n",
       "      <td>2006</td>\n",
       "      <td>New</td>\n",
       "    </tr>\n",
       "    <tr>\n",
       "      <th>3</th>\n",
       "      <td>1989</td>\n",
       "      <td>902207150</td>\n",
       "      <td>30</td>\n",
       "      <td>RM</td>\n",
       "      <td>60.0</td>\n",
       "      <td>8520</td>\n",
       "      <td>Pave</td>\n",
       "      <td>NaN</td>\n",
       "      <td>Reg</td>\n",
       "      <td>Lvl</td>\n",
       "      <td>...</td>\n",
       "      <td>0</td>\n",
       "      <td>0</td>\n",
       "      <td>0</td>\n",
       "      <td>NaN</td>\n",
       "      <td>NaN</td>\n",
       "      <td>NaN</td>\n",
       "      <td>0</td>\n",
       "      <td>7</td>\n",
       "      <td>2007</td>\n",
       "      <td>WD</td>\n",
       "    </tr>\n",
       "    <tr>\n",
       "      <th>4</th>\n",
       "      <td>625</td>\n",
       "      <td>535105100</td>\n",
       "      <td>20</td>\n",
       "      <td>RL</td>\n",
       "      <td>NaN</td>\n",
       "      <td>9500</td>\n",
       "      <td>Pave</td>\n",
       "      <td>NaN</td>\n",
       "      <td>IR1</td>\n",
       "      <td>Lvl</td>\n",
       "      <td>...</td>\n",
       "      <td>0</td>\n",
       "      <td>185</td>\n",
       "      <td>0</td>\n",
       "      <td>NaN</td>\n",
       "      <td>NaN</td>\n",
       "      <td>NaN</td>\n",
       "      <td>0</td>\n",
       "      <td>7</td>\n",
       "      <td>2009</td>\n",
       "      <td>WD</td>\n",
       "    </tr>\n",
       "  </tbody>\n",
       "</table>\n",
       "<p>5 rows × 80 columns</p>\n",
       "</div>"
      ],
      "text/plain": [
       "     Id        PID  MS SubClass MS Zoning  Lot Frontage  Lot Area Street  \\\n",
       "0  2658  902301120          190        RM          69.0      9142   Pave   \n",
       "1  2718  905108090           90        RL           NaN      9662   Pave   \n",
       "2  2414  528218130           60        RL          58.0     17104   Pave   \n",
       "3  1989  902207150           30        RM          60.0      8520   Pave   \n",
       "4   625  535105100           20        RL           NaN      9500   Pave   \n",
       "\n",
       "  Alley Lot Shape Land Contour  ... 3Ssn Porch Screen Porch Pool Area Pool QC  \\\n",
       "0  Grvl       Reg          Lvl  ...          0            0         0     NaN   \n",
       "1   NaN       IR1          Lvl  ...          0            0         0     NaN   \n",
       "2   NaN       IR1          Lvl  ...          0            0         0     NaN   \n",
       "3   NaN       Reg          Lvl  ...          0            0         0     NaN   \n",
       "4   NaN       IR1          Lvl  ...          0          185         0     NaN   \n",
       "\n",
       "  Fence Misc Feature Misc Val Mo Sold  Yr Sold  Sale Type  \n",
       "0   NaN          NaN        0       4     2006        WD   \n",
       "1   NaN          NaN        0       8     2006        WD   \n",
       "2   NaN          NaN        0       9     2006        New  \n",
       "3   NaN          NaN        0       7     2007        WD   \n",
       "4   NaN          NaN        0       7     2009        WD   \n",
       "\n",
       "[5 rows x 80 columns]"
      ]
     },
     "execution_count": 58,
     "metadata": {},
     "output_type": "execute_result"
    }
   ],
   "source": [
    "test.head()"
   ]
  },
  {
   "cell_type": "code",
   "execution_count": 60,
   "metadata": {},
   "outputs": [
    {
     "name": "stdout",
     "output_type": "stream",
     "text": [
      "<class 'pandas.core.frame.DataFrame'>\n",
      "RangeIndex: 879 entries, 0 to 878\n",
      "Data columns (total 80 columns):\n",
      " #   Column           Non-Null Count  Dtype  \n",
      "---  ------           --------------  -----  \n",
      " 0   Id               879 non-null    int64  \n",
      " 1   PID              879 non-null    int64  \n",
      " 2   MS SubClass      879 non-null    int64  \n",
      " 3   MS Zoning        879 non-null    object \n",
      " 4   Lot Frontage     879 non-null    float64\n",
      " 5   Lot Area         879 non-null    int64  \n",
      " 6   Street           879 non-null    object \n",
      " 7   Alley            879 non-null    object \n",
      " 8   Lot Shape        879 non-null    object \n",
      " 9   Land Contour     879 non-null    object \n",
      " 10  Utilities        879 non-null    object \n",
      " 11  Lot Config       879 non-null    object \n",
      " 12  Land Slope       879 non-null    object \n",
      " 13  Neighborhood     879 non-null    object \n",
      " 14  Condition 1      879 non-null    object \n",
      " 15  Condition 2      879 non-null    object \n",
      " 16  Bldg Type        879 non-null    object \n",
      " 17  House Style      879 non-null    object \n",
      " 18  Overall Qual     879 non-null    int64  \n",
      " 19  Overall Cond     879 non-null    int64  \n",
      " 20  Year Built       879 non-null    int64  \n",
      " 21  Year Remod/Add   879 non-null    int64  \n",
      " 22  Roof Style       879 non-null    object \n",
      " 23  Roof Matl        879 non-null    object \n",
      " 24  Exterior 1st     879 non-null    object \n",
      " 25  Exterior 2nd     879 non-null    object \n",
      " 26  Mas Vnr Type     879 non-null    object \n",
      " 27  Mas Vnr Area     879 non-null    float64\n",
      " 28  Exter Qual       879 non-null    object \n",
      " 29  Exter Cond       879 non-null    object \n",
      " 30  Foundation       879 non-null    object \n",
      " 31  Bsmt Qual        879 non-null    object \n",
      " 32  Bsmt Cond        879 non-null    object \n",
      " 33  Bsmt Exposure    879 non-null    object \n",
      " 34  BsmtFin Type 1   879 non-null    object \n",
      " 35  BsmtFin SF 1     879 non-null    int64  \n",
      " 36  BsmtFin Type 2   879 non-null    object \n",
      " 37  BsmtFin SF 2     879 non-null    int64  \n",
      " 38  Bsmt Unf SF      879 non-null    int64  \n",
      " 39  Total Bsmt SF    879 non-null    int64  \n",
      " 40  Heating          879 non-null    object \n",
      " 41  Heating QC       879 non-null    object \n",
      " 42  Central Air      879 non-null    object \n",
      " 43  Electrical       879 non-null    object \n",
      " 44  1st Flr SF       879 non-null    int64  \n",
      " 45  2nd Flr SF       879 non-null    int64  \n",
      " 46  Low Qual Fin SF  879 non-null    int64  \n",
      " 47  Gr Liv Area      879 non-null    int64  \n",
      " 48  Bsmt Full Bath   879 non-null    int64  \n",
      " 49  Bsmt Half Bath   879 non-null    int64  \n",
      " 50  Full Bath        879 non-null    int64  \n",
      " 51  Half Bath        879 non-null    int64  \n",
      " 52  Bedroom AbvGr    879 non-null    int64  \n",
      " 53  Kitchen AbvGr    879 non-null    int64  \n",
      " 54  Kitchen Qual     879 non-null    object \n",
      " 55  TotRms AbvGrd    879 non-null    int64  \n",
      " 56  Functional       879 non-null    object \n",
      " 57  Fireplaces       879 non-null    int64  \n",
      " 58  Fireplace Qu     879 non-null    object \n",
      " 59  Garage Type      879 non-null    object \n",
      " 60  Garage Yr Blt    879 non-null    float64\n",
      " 61  Garage Finish    879 non-null    object \n",
      " 62  Garage Cars      879 non-null    int64  \n",
      " 63  Garage Area      879 non-null    int64  \n",
      " 64  Garage Qual      879 non-null    object \n",
      " 65  Garage Cond      879 non-null    object \n",
      " 66  Paved Drive      879 non-null    object \n",
      " 67  Wood Deck SF     879 non-null    int64  \n",
      " 68  Open Porch SF    879 non-null    int64  \n",
      " 69  Enclosed Porch   879 non-null    int64  \n",
      " 70  3Ssn Porch       879 non-null    int64  \n",
      " 71  Screen Porch     879 non-null    int64  \n",
      " 72  Pool Area        879 non-null    int64  \n",
      " 73  Pool QC          879 non-null    object \n",
      " 74  Fence            879 non-null    object \n",
      " 75  Misc Feature     879 non-null    object \n",
      " 76  Misc Val         879 non-null    int64  \n",
      " 77  Mo Sold          879 non-null    int64  \n",
      " 78  Yr Sold          879 non-null    int64  \n",
      " 79  Sale Type        879 non-null    object \n",
      "dtypes: float64(3), int64(35), object(42)\n",
      "memory usage: 549.5+ KB\n"
     ]
    }
   ],
   "source": [
    "test.info()"
   ]
  },
  {
   "cell_type": "code",
   "execution_count": 61,
   "metadata": {},
   "outputs": [],
   "source": [
    "#converting column names to lower case and removing space for easier coding \n",
    "\n",
    "test.columns = test.columns.str.lower()\n",
    "test.columns = test.columns.str.replace(' ', '')"
   ]
  },
  {
   "cell_type": "code",
   "execution_count": 59,
   "metadata": {},
   "outputs": [
    {
     "data": {
      "text/plain": [
       "Series([], dtype: int64)"
      ]
     },
     "execution_count": 59,
     "metadata": {},
     "output_type": "execute_result"
    }
   ],
   "source": [
    "#replace null values with 0 for numeric columns and None for categorical columns\n",
    "test._get_numeric_data().fillna(0, inplace=True)\n",
    "test.fillna('None', inplace=True)\n",
    "test.isnull().sum()[test.isnull().sum()>0]"
   ]
  },
  {
   "cell_type": "code",
   "execution_count": 62,
   "metadata": {
    "scrolled": false
   },
   "outputs": [
    {
     "name": "stdout",
     "output_type": "stream",
     "text": [
      "[0 1]\n",
      "<class 'pandas.core.frame.DataFrame'>\n",
      "RangeIndex: 879 entries, 0 to 878\n",
      "Data columns (total 60 columns):\n",
      " #   Column        Non-Null Count  Dtype  \n",
      "---  ------        --------------  -----  \n",
      " 0   id            879 non-null    int64  \n",
      " 1   mssubclass    879 non-null    int64  \n",
      " 2   mszoning      879 non-null    object \n",
      " 3   lotfrontage   879 non-null    float64\n",
      " 4   lotarea       879 non-null    int64  \n",
      " 5   lotshape      879 non-null    int64  \n",
      " 6   landcontour   879 non-null    object \n",
      " 7   lotconfig     879 non-null    object \n",
      " 8   landslope     879 non-null    object \n",
      " 9   neighborhood  879 non-null    object \n",
      " 10  condition1    879 non-null    object \n",
      " 11  condition2    879 non-null    object \n",
      " 12  bldgtype      879 non-null    object \n",
      " 13  housestyle    879 non-null    object \n",
      " 14  overallqual   879 non-null    int64  \n",
      " 15  overallcond   879 non-null    int64  \n",
      " 16  yearbuilt     879 non-null    int64  \n",
      " 17  roofstyle     879 non-null    object \n",
      " 18  roofmatl      879 non-null    object \n",
      " 19  exterior1st   879 non-null    object \n",
      " 20  exterior2nd   879 non-null    object \n",
      " 21  masvnrtype    879 non-null    object \n",
      " 22  masvnrarea    879 non-null    float64\n",
      " 23  exterqual     879 non-null    int64  \n",
      " 24  foundation    879 non-null    object \n",
      " 25  bsmtqual      879 non-null    int64  \n",
      " 26  bsmtexposure  879 non-null    int64  \n",
      " 27  bsmtfintype1  879 non-null    object \n",
      " 28  bsmtfinsf1    879 non-null    int64  \n",
      " 29  bsmtunfsf     879 non-null    int64  \n",
      " 30  heatingqc     879 non-null    int64  \n",
      " 31  electrical    879 non-null    object \n",
      " 32  grlivarea     879 non-null    int64  \n",
      " 33  bsmtfullbath  879 non-null    int64  \n",
      " 34  fullbath      879 non-null    int64  \n",
      " 35  halfbath      879 non-null    int64  \n",
      " 36  bedroomabvgr  879 non-null    int64  \n",
      " 37  kitchenabvgr  879 non-null    int64  \n",
      " 38  kitchenqual   879 non-null    object \n",
      " 39  functional    879 non-null    object \n",
      " 40  fireplaces    879 non-null    int64  \n",
      " 41  fireplacequ   879 non-null    int64  \n",
      " 42  garagetype    879 non-null    object \n",
      " 43  garagefinish  879 non-null    object \n",
      " 44  garagearea    879 non-null    int64  \n",
      " 45  garagecond    879 non-null    int64  \n",
      " 46  paveddrive    879 non-null    object \n",
      " 47  wooddecksf    879 non-null    int64  \n",
      " 48  mosold        879 non-null    int64  \n",
      " 49  yrsold        879 non-null    int64  \n",
      " 50  porch         879 non-null    int64  \n",
      " 51  pool          879 non-null    int64  \n",
      " 52  garage        879 non-null    int64  \n",
      " 53  fireplace     879 non-null    int64  \n",
      " 54  bsmt          879 non-null    int64  \n",
      " 55  masvnr        879 non-null    int64  \n",
      " 56  agesold       879 non-null    int64  \n",
      " 57  remodelled    879 non-null    int64  \n",
      " 58  bighouse      879 non-null    int64  \n",
      " 59  2ndflr        879 non-null    int64  \n",
      "dtypes: float64(2), int64(36), object(22)\n",
      "memory usage: 412.2+ KB\n"
     ]
    }
   ],
   "source": [
    "#drop numeric and categorical cols with high % of 0, None, same values and low corr with saleprice\n",
    "test.drop(['bsmtfinsf2', 'miscval', 'lowqualfinsf', 'bsmthalfbath', 'alley', 'fence', 'miscfeature','street', \n",
    "            'utilities', 'heating', 'bsmtfintype2', 'centralair', 'saletype', 'bsmtcond', 'extercond','garagequal'],\n",
    "           axis = 1, inplace = True)\n",
    "\n",
    "#drop pid column\n",
    "test.drop(['pid'], axis = 1, inplace = True)\n",
    "\n",
    "#drop high collinearity columns\n",
    "test.drop(['totalbsmtsf', 'totrmsabvgrd', 'garagecars'], axis = 1, inplace = True)\n",
    "\n",
    "#convert ordinal to numeric \n",
    "ordinal_numeric = {'exterqual': {'Ex': 5, 'Gd': 4, 'TA': 3, 'Fa': 2, 'Po': 1, 'None': 0},\n",
    " 'bsmtqual': {'Ex': 5, 'Gd': 4, 'TA': 3, 'Fa': 2, 'Po': 1, 'None': 0},\n",
    " 'heatingqc': {'Ex': 5, 'Gd': 4, 'TA': 3, 'Fa': 2, 'Po': 1, 'None': 0},\n",
    " 'fireplacequ': {'Ex': 5, 'Gd': 4, 'TA': 3, 'Fa': 2, 'Po': 1, 'None': 0},\n",
    " 'garagecond': {'Ex': 5, 'Gd': 4, 'TA': 3, 'Fa': 2, 'Po': 1, 'None': 0},\n",
    " 'bsmtexposure': {'Gd': 4, 'Av': 3, 'Mn': 2, 'No': 1, 'None':0},\n",
    " 'lotshape': {'IR3': 3, 'IR2': 2, 'IR1': 1, 'Reg': 0}}     \n",
    "test.replace(ordinal_numeric, inplace=True)\n",
    "\n",
    "# porch\n",
    "porch_col = ['3ssnporch','enclosedporch','openporchsf','screenporch']\n",
    "test['porch'] = test[porch_col].sum(axis=1).apply(lambda x: 1 if x > 0 else 0)\n",
    "test.drop(porch_col, axis = 1, inplace = True)\n",
    "\n",
    "#pool\n",
    "pool_col = ['poolarea','poolqc']\n",
    "test['pool'] = test['poolarea'].apply(lambda x: 1 if x > 0 else 0)\n",
    "test.drop(pool_col, axis = 1, inplace = True)\n",
    "\n",
    "#garage, fireplace, bsmt, masvnr\n",
    "test['garage'] = test['garagearea'].apply(lambda x: 1 if x > 0 else 0)\n",
    "test['fireplace'] = test['fireplaces'].apply(lambda x: 1 if x > 0 else 0)\n",
    "test['bsmt'] = test['bsmtqual'].apply(lambda x: 0 if x == 'None' else 1)\n",
    "test['masvnr'] = test['masvnrarea'].apply(lambda x: 1 if x > 0 else 0)\n",
    "\n",
    "#agesold\n",
    "test['agesold'] = test['yrsold']-test['yearbuilt']\n",
    "\n",
    "#remodelled\n",
    "test['remodelled'] = np.where(test['yearremod/add'] == test['yearbuilt'], 1, 0)\n",
    "test.drop(['yearremod/add'], axis = 1, inplace = True)\n",
    "\n",
    "#bighouse\n",
    "test['bighouse'] = np.where(test['1stflrsf']+test['2ndflrsf'] == test['grlivarea'], 0, 1)\n",
    "print(test['bighouse'].unique())\n",
    "train.head(2)\n",
    "\n",
    "#Drop garageyrblt, 1stflrsf columns \n",
    "test.drop(['garageyrblt', '1stflrsf'], axis = 1, inplace = True)\n",
    "\n",
    "#Add new 2ndflr column, drop 2ndflrsf\n",
    "test['2ndflr'] = test['2ndflrsf'].apply(lambda x: 1 if x > 0 else 0)\n",
    "test.drop(['2ndflrsf'], axis = 1, inplace = True)\n",
    "\n",
    "#Modification to landslope columns (flat and sloped)\n",
    "test['landslope'] = test['landslope'].apply(lambda x: 'flat' if x == 'Gtl' else 'sloped')\n",
    "\n",
    "test.info()"
   ]
  },
  {
   "cell_type": "markdown",
   "metadata": {},
   "source": [
    "--- \n",
    "## Exporting preprocessed data \n",
    "\n",
    "The preprocessed data will be exported as .csv files and used in the next notebook (Model Benchmarks)"
   ]
  },
  {
   "cell_type": "code",
   "execution_count": 68,
   "metadata": {
    "scrolled": true
   },
   "outputs": [],
   "source": [
    "train_preprocessed = train\n",
    "train_preprocessed.to_csv('./data/train_preprocessed.csv')\n",
    "test_preprocessed = test\n",
    "test_preprocessed.to_csv('./data/test_preprocessed.csv')"
   ]
  },
  {
   "cell_type": "code",
   "execution_count": null,
   "metadata": {},
   "outputs": [],
   "source": []
  }
 ],
 "metadata": {
  "kernelspec": {
   "display_name": "Python 3",
   "language": "python",
   "name": "python3"
  },
  "language_info": {
   "codemirror_mode": {
    "name": "ipython",
    "version": 3
   },
   "file_extension": ".py",
   "mimetype": "text/x-python",
   "name": "python",
   "nbconvert_exporter": "python",
   "pygments_lexer": "ipython3",
   "version": "3.7.6"
  }
 },
 "nbformat": 4,
 "nbformat_minor": 4
}
