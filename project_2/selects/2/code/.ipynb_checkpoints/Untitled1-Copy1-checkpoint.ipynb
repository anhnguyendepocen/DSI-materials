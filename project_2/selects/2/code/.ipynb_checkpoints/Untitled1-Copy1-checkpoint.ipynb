{
 "cells": [
  {
   "cell_type": "code",
   "execution_count": 1,
   "metadata": {},
   "outputs": [],
   "source": [
    "#Import libraries for use\n",
    "\n",
    "import numpy as np\n",
    "import pandas as pd\n",
    "import patsy\n",
    "\n",
    "from sklearn.linear_model import Ridge, Lasso, ElasticNet, LinearRegression, RidgeCV, LassoCV, ElasticNetCV\n",
    "from sklearn.model_selection import cross_val_score\n",
    "from sklearn.impute import SimpleImputer\n",
    "\n",
    "import matplotlib\n",
    "import matplotlib.pyplot as plt\n",
    "import seaborn as sns\n",
    "plt.style.use('fivethirtyeight')\n",
    "\n",
    "%config InlineBackend.figure_format = 'retina'\n",
    "%matplotlib inline\n"
   ]
  },
  {
   "cell_type": "code",
   "execution_count": 2,
   "metadata": {},
   "outputs": [],
   "source": [
    "test = pd.read_csv(\"../datasets/test.csv\")"
   ]
  },
  {
   "cell_type": "code",
   "execution_count": 3,
   "metadata": {},
   "outputs": [
    {
     "name": "stdout",
     "output_type": "stream",
     "text": [
      "<class 'pandas.core.frame.DataFrame'>\n",
      "RangeIndex: 879 entries, 0 to 878\n",
      "Data columns (total 80 columns):\n",
      " #   Column           Non-Null Count  Dtype  \n",
      "---  ------           --------------  -----  \n",
      " 0   Id               879 non-null    int64  \n",
      " 1   PID              879 non-null    int64  \n",
      " 2   MS SubClass      879 non-null    int64  \n",
      " 3   MS Zoning        879 non-null    object \n",
      " 4   Lot Frontage     719 non-null    float64\n",
      " 5   Lot Area         879 non-null    int64  \n",
      " 6   Street           879 non-null    object \n",
      " 7   Alley            58 non-null     object \n",
      " 8   Lot Shape        879 non-null    object \n",
      " 9   Land Contour     879 non-null    object \n",
      " 10  Utilities        879 non-null    object \n",
      " 11  Lot Config       879 non-null    object \n",
      " 12  Land Slope       879 non-null    object \n",
      " 13  Neighborhood     879 non-null    object \n",
      " 14  Condition 1      879 non-null    object \n",
      " 15  Condition 2      879 non-null    object \n",
      " 16  Bldg Type        879 non-null    object \n",
      " 17  House Style      879 non-null    object \n",
      " 18  Overall Qual     879 non-null    int64  \n",
      " 19  Overall Cond     879 non-null    int64  \n",
      " 20  Year Built       879 non-null    int64  \n",
      " 21  Year Remod/Add   879 non-null    int64  \n",
      " 22  Roof Style       879 non-null    object \n",
      " 23  Roof Matl        879 non-null    object \n",
      " 24  Exterior 1st     879 non-null    object \n",
      " 25  Exterior 2nd     879 non-null    object \n",
      " 26  Mas Vnr Type     878 non-null    object \n",
      " 27  Mas Vnr Area     878 non-null    float64\n",
      " 28  Exter Qual       879 non-null    object \n",
      " 29  Exter Cond       879 non-null    object \n",
      " 30  Foundation       879 non-null    object \n",
      " 31  Bsmt Qual        854 non-null    object \n",
      " 32  Bsmt Cond        854 non-null    object \n",
      " 33  Bsmt Exposure    854 non-null    object \n",
      " 34  BsmtFin Type 1   854 non-null    object \n",
      " 35  BsmtFin SF 1     879 non-null    int64  \n",
      " 36  BsmtFin Type 2   854 non-null    object \n",
      " 37  BsmtFin SF 2     879 non-null    int64  \n",
      " 38  Bsmt Unf SF      879 non-null    int64  \n",
      " 39  Total Bsmt SF    879 non-null    int64  \n",
      " 40  Heating          879 non-null    object \n",
      " 41  Heating QC       879 non-null    object \n",
      " 42  Central Air      879 non-null    object \n",
      " 43  Electrical       878 non-null    object \n",
      " 44  1st Flr SF       879 non-null    int64  \n",
      " 45  2nd Flr SF       879 non-null    int64  \n",
      " 46  Low Qual Fin SF  879 non-null    int64  \n",
      " 47  Gr Liv Area      879 non-null    int64  \n",
      " 48  Bsmt Full Bath   879 non-null    int64  \n",
      " 49  Bsmt Half Bath   879 non-null    int64  \n",
      " 50  Full Bath        879 non-null    int64  \n",
      " 51  Half Bath        879 non-null    int64  \n",
      " 52  Bedroom AbvGr    879 non-null    int64  \n",
      " 53  Kitchen AbvGr    879 non-null    int64  \n",
      " 54  Kitchen Qual     879 non-null    object \n",
      " 55  TotRms AbvGrd    879 non-null    int64  \n",
      " 56  Functional       879 non-null    object \n",
      " 57  Fireplaces       879 non-null    int64  \n",
      " 58  Fireplace Qu     457 non-null    object \n",
      " 59  Garage Type      835 non-null    object \n",
      " 60  Garage Yr Blt    834 non-null    float64\n",
      " 61  Garage Finish    834 non-null    object \n",
      " 62  Garage Cars      879 non-null    int64  \n",
      " 63  Garage Area      879 non-null    int64  \n",
      " 64  Garage Qual      834 non-null    object \n",
      " 65  Garage Cond      834 non-null    object \n",
      " 66  Paved Drive      879 non-null    object \n",
      " 67  Wood Deck SF     879 non-null    int64  \n",
      " 68  Open Porch SF    879 non-null    int64  \n",
      " 69  Enclosed Porch   879 non-null    int64  \n",
      " 70  3Ssn Porch       879 non-null    int64  \n",
      " 71  Screen Porch     879 non-null    int64  \n",
      " 72  Pool Area        879 non-null    int64  \n",
      " 73  Pool QC          4 non-null      object \n",
      " 74  Fence            172 non-null    object \n",
      " 75  Misc Feature     41 non-null     object \n",
      " 76  Misc Val         879 non-null    int64  \n",
      " 77  Mo Sold          879 non-null    int64  \n",
      " 78  Yr Sold          879 non-null    int64  \n",
      " 79  Sale Type        879 non-null    object \n",
      "dtypes: float64(3), int64(35), object(42)\n",
      "memory usage: 549.5+ KB\n"
     ]
    }
   ],
   "source": [
    "test.info()"
   ]
  },
  {
   "cell_type": "code",
   "execution_count": 4,
   "metadata": {},
   "outputs": [],
   "source": [
    "#Code to clean test set \n",
    "#Values that underwent imp3\n",
    "imp3 = SimpleImputer(missing_values=np.nan, fill_value=69.0, strategy='constant')\n",
    "test.loc[:,\"Lot Frontage\"] = imp3.fit_transform(test['Lot Frontage'].values.reshape(-1,1))\n",
    "\n",
    "#Values that underwent imp2\n",
    "imp2 = SimpleImputer(missing_values=np.nan, fill_value='None', strategy='constant')\n",
    "test.loc[:,\"Alley\"] = imp2.fit_transform(test['Alley'].values.reshape(-1,1))\n",
    "test.loc[:,\"Garage Type\"] = imp2.fit_transform(test['Garage Type'].values.reshape(-1,1))\n",
    "test.loc[:,\"Misc Feature\"] = imp2.fit_transform(test['Misc Feature'].values.reshape(-1,1))\n",
    "basement_test = test.loc[:,['Bsmt Qual','Bsmt Cond','Bsmt Exposure','BsmtFin Type 1','BsmtFin Type 2']]\n",
    "test.loc[:,['Bsmt Qual','Bsmt Cond','Bsmt Exposure','BsmtFin Type 1','BsmtFin Type 2']] = imp2.fit_transform(basement_test)\n",
    "test.loc[:,\"Fireplace Qu\"] = imp2.fit_transform(test['Fireplace Qu'].values.reshape(-1,1))\n",
    "garage_test = test.loc[:,['Garage Finish','Garage Qual','Garage Cond']]\n",
    "test.loc[:,['Garage Finish','Garage Qual','Garage Cond']] = imp2.fit_transform(garage_test)\n",
    "test.loc[:,\"Pool QC\"] = imp2.fit_transform(test['Pool QC'].values.reshape(-1,1))\n",
    "test.loc[:,\"Fence\"] = imp2.fit_transform(test['Fence'].values.reshape(-1,1))\n",
    "\n",
    "#15 ^  \n",
    "\n",
    "#Values that underwent imp1\n",
    "imp1 = SimpleImputer(missing_values=np.nan, strategy='most_frequent')\n",
    "test.loc[:,\"Mas Vnr Type\":\"Mas Vnr Area\"] = imp1.fit_transform(test.loc[:,\"Mas Vnr Type\":\"Mas Vnr Area\"])\n",
    "\n",
    "#Values that underwent fillna:\n",
    "test['Garage Yr Blt'].fillna(1978,inplace=True)\n",
    "test['Electrical'].fillna(0,inplace=True)\n"
   ]
  },
  {
   "cell_type": "code",
   "execution_count": 5,
   "metadata": {},
   "outputs": [],
   "source": [
    "#Prepare pandas to be able to view all the columns after one-hot encoding\n",
    "pd.set_option('max_columns',250)\n",
    "\n",
    "#One-hot encode the non-null nominal variables\n",
    "test = pd.get_dummies(test, columns=[\"MS SubClass\",\n",
    "                                         \"MS Zoning\",\n",
    "                                         \"Street\",\n",
    "                                         \"Land Contour\",\n",
    "                                         \"Lot Config\",\n",
    "                                         \"Neighborhood\",\n",
    "                                         \"Condition 1\",\n",
    "                                         \"Condition 2\",\n",
    "                                         \"Bldg Type\",\n",
    "                                         \"House Style\",\n",
    "                                         \"Roof Style\",\n",
    "                                         \"Roof Matl\",\n",
    "                                         \"Exterior 1st\",\n",
    "                                         \"Exterior 2nd\",\n",
    "                                         \"Foundation\",\n",
    "                                         \"Heating\",\n",
    "                                         \"Central Air\",\n",
    "                                         \"Sale Type\",\n",
    "                                         \"Alley\",\n",
    "                                         \"Mas Vnr Type\",\n",
    "                                         \"Garage Type\",\n",
    "                                         \"Misc Feature\"],\n",
    "                          \n",
    "                     drop_first=True )"
   ]
  },
  {
   "cell_type": "code",
   "execution_count": 9,
   "metadata": {},
   "outputs": [],
   "source": [
    "test['Lot Shape'] = test['Lot Shape'].map({'Reg':2,'IR1':1,'IR2':0,'IR3':-1})\n",
    "\n",
    "test['Utilities'] = test['Utilities'].map({'AllPub':2,'NoSewr':1,'NoSeWa':0})\n",
    "\n",
    "#Most properties are flat, so i penalize for slopes/severe slopes\n",
    "test['Land Slope'] = test['Land Slope'].map({'Gtl':0,'Mod':-1,'Sev':-2})\n",
    "\n",
    "#The next four variables follow the same rating system according to the data description\n",
    "#I give higher weight to the extreme variables, as they will likely have bigger influence\n",
    "test['Exter Qual'] = test['Exter Qual'].map({'Ex':5,'Gd':2,'TA':0,'Fa':-2,'Po':-5})\n",
    "test['Exter Cond'] = test['Exter Cond'].map({'Ex':5,'Gd':2,'TA':0,'Fa':-2,'Po':-5})\n",
    "test['Heating QC'] = test['Heating QC'].map({'Ex':5,'Gd':2,'TA':0,'Fa':-2,'Po':-5})\n",
    "test['Kitchen Qual'] = test['Kitchen Qual'].map({'Ex':5,'Gd':2,'TA':0,'Fa':-2,'Po':-5})\n",
    "\n",
    "\n",
    "test['Bsmt Qual'] = test['Bsmt Qual'].map({'Ex':5,'Gd':2,'TA':0,'Fa':-1,'Po':-2,'None':-5})\n",
    "test['Bsmt Cond'] = test['Bsmt Cond'].map({'Ex':5,'Gd':2,'TA':0,'Fa':-1,'Po':-2,'None':-5})\n",
    "\n",
    "test['Bsmt Exposure'] = test['Bsmt Exposure'].map({'Gd':5,'Av':2,'Mn':0,'No':-2,'None':-5})\n",
    "\n",
    "#These two variables follow the same rating system according to the data description\n",
    "test['BsmtFin Type 1'] = test['BsmtFin Type 1'].map({'GLQ':5,'ALQ':2,'BLQ':1,'Rec':0,'LwQ':-1,'Unf':-2,'None':-5})\n",
    "test['BsmtFin Type 2'] = test['BsmtFin Type 2'].map({'GLQ':5,'ALQ':2,'BLQ':1,'Rec':0,'LwQ':-1,'Unf':-2,'None':-5})\n",
    "\n",
    "test['Electrical'] = test['Electrical'].map({'SBrkr':5,'FuseA':2,'FuseF':0,'FuseP':-2,'Mix':-5})\n",
    "\n",
    "\n",
    "#I weigh negative factors more heavily as I believe home owners expect typical functionality to be present\n",
    "test['Functional'] = test['Functional'].map({'Typ':3,'Min1':2,'Min2':1,'Mod':0,'Maj1':-1,'Maj2':-2,'Sev':-5,'Sal':-8})\n",
    "\n",
    "\n",
    "#These two variables follow the same rating system according to the data description\n",
    "test['Fireplace Qu'] = test['Fireplace Qu'].map({'Ex':5,'Gd':2,'TA':0,'Fa':-1,'Po':-2,'None':-5})\n",
    "test['Garage Qual'] = test['Garage Qual'].map({'Ex':5,'Gd':2,'TA':0,'Fa':-1,'Po':-2,'None':-5})\n",
    "test['Garage Cond'] = test['Garage Cond'].map({'Ex':5,'Gd':2,'TA':0,'Fa':-1,'Po':-2,'None':-5})\n",
    "\n",
    "#I did not include 0 as I do not consider any of the response neutral\n",
    "test['Garage Finish'] = test['Garage Finish'].map({'Fin':5,'RFn':2,'Unf':-2,'None':-5})\n",
    "\n",
    "test['Paved Drive'] = test['Paved Drive'].map({'Y':3,'P':0,'N':3})\n",
    "\n",
    "#I consider pools to be a luxury item, and hence the scales are \n",
    "#largely positive\n",
    "test['Pool QC'] = test['Pool QC'].map({'Ex':6,'Gd':3,'TA':2,'Fa':1,'None':0})\n",
    "\n",
    "\n",
    "test['Fence'] = test['Fence'].map({'GdPrv':5,'MnPrv':2,'GdWo':1,'MnWw':-1,'None':-3})"
   ]
  },
  {
   "cell_type": "code",
   "execution_count": 11,
   "metadata": {},
   "outputs": [
    {
     "data": {
      "text/plain": [
       "(8, 202)"
      ]
     },
     "execution_count": 11,
     "metadata": {},
     "output_type": "execute_result"
    }
   ],
   "source": [
    "test.describe().shape"
   ]
  },
  {
   "cell_type": "code",
   "execution_count": 6,
   "metadata": {
    "scrolled": true
   },
   "outputs": [
    {
     "name": "stdout",
     "output_type": "stream",
     "text": [
      "<class 'pandas.core.frame.DataFrame'>\n",
      "RangeIndex: 879 entries, 0 to 878\n",
      "Columns: 202 entries, Id to Misc Feature_Shed\n",
      "dtypes: float64(3), int64(34), object(21), uint8(144)\n",
      "memory usage: 522.0+ KB\n"
     ]
    }
   ],
   "source": [
    "test.info()"
   ]
  },
  {
   "cell_type": "code",
   "execution_count": 7,
   "metadata": {},
   "outputs": [
    {
     "data": {
      "text/plain": [
       "(879, 202)"
      ]
     },
     "execution_count": 7,
     "metadata": {},
     "output_type": "execute_result"
    }
   ],
   "source": [
    "test.shape"
   ]
  }
 ],
 "metadata": {
  "kernelspec": {
   "display_name": "Python 3",
   "language": "python",
   "name": "python3"
  },
  "language_info": {
   "codemirror_mode": {
    "name": "ipython",
    "version": 3
   },
   "file_extension": ".py",
   "mimetype": "text/x-python",
   "name": "python",
   "nbconvert_exporter": "python",
   "pygments_lexer": "ipython3",
   "version": "3.7.6"
  }
 },
 "nbformat": 4,
 "nbformat_minor": 4
}
